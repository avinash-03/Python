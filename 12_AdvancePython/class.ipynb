{
 "cells": [
  {
   "cell_type": "markdown",
   "metadata": {},
   "source": [
    "# 3. Define and use a class"
   ]
  },
  {
   "cell_type": "code",
   "execution_count": 66,
   "metadata": {},
   "outputs": [],
   "source": [
    "class Student:\n",
    "\n",
    "    '''this is developed by avi'''\n",
    "\n",
    "    def __init__(self,name,rollno,marks):\n",
    "        self.name = name\n",
    "        self.rollno = rollno\n",
    "        self.marks = marks\n",
    "\n",
    "    def talk(self):\n",
    "        print('hello my name is',self.name)\n",
    "        print('my rollno',self.rollno)\n",
    "        print('my marks',self.marks)\n",
    "\n"
   ]
  },
  {
   "cell_type": "code",
   "execution_count": 72,
   "metadata": {},
   "outputs": [
    {
     "name": "stdout",
     "output_type": "stream",
     "text": [
      "hello my name is avi\n",
      "my rollno 101\n",
      "my marks 87\n",
      "\n",
      "hello my name is sunny\n",
      "my rollno 102\n",
      "my marks 78\n"
     ]
    }
   ],
   "source": [
    "s=Student('avi',101,87)\n",
    "s.talk()\n",
    "print()\n",
    "s1=Student('sunny',102,78)\n",
    "s1.talk()"
   ]
  },
  {
   "cell_type": "markdown",
   "metadata": {},
   "source": [
    "# 4. Self \n",
    "- self is referance variable and always refer to current object"
   ]
  },
  {
   "cell_type": "code",
   "execution_count": 42,
   "metadata": {},
   "outputs": [
    {
     "name": "stdout",
     "output_type": "stream",
     "text": [
      "address of object pointed by self 3224803961872\n",
      "address of object by k 3224803961872\n"
     ]
    }
   ],
   "source": [
    "class Test:\n",
    "    def __init__(self):\n",
    "        print('address of object pointed by self',id(self))\n",
    "    \n",
    "\n",
    "\n",
    "\n",
    "\n",
    "\n",
    "k=Test()\n",
    "print('address of object by k',id(k)) # if address are same then both are showing same object\n",
    "\n"
   ]
  },
  {
   "cell_type": "code",
   "execution_count": 1,
   "metadata": {},
   "outputs": [
    {
     "name": "stdout",
     "output_type": "stream",
     "text": [
      "constructor\n",
      "x value 10\n"
     ]
    }
   ],
   "source": [
    "class Test:\n",
    "    def __init__(self) -> None:\n",
    "        print('constructor')\n",
    "    \n",
    "    def m1(self,x):\n",
    "        print(\"x value\",x)\n",
    "\n",
    "\n",
    "t=Test()\n",
    "t.m1(10)"
   ]
  },
  {
   "cell_type": "code",
   "execution_count": 3,
   "metadata": {},
   "outputs": [
    {
     "name": "stdout",
     "output_type": "stream",
     "text": [
      "constructor\n",
      "x value 10\n"
     ]
    }
   ],
   "source": [
    "# testing the self\n",
    "Test().m1(10)  # if () not used throw error\n"
   ]
  },
  {
   "cell_type": "code",
   "execution_count": 54,
   "metadata": {},
   "outputs": [],
   "source": [
    "class Student:\n",
    "    def __init__(delf,name,rollno,marks):\n",
    "        delf.name = name\n",
    "        delf.rollno= rollno\n",
    "        delf.marks = marks\n",
    "\n",
    "    def talk(kelf):\n",
    "        print('hello am',kelf.name)  # it does not affect what you used instead of self\n",
    "        print('my roll no ',kelf.rollno)\n",
    "        print('my marks is ',kelf.marks)"
   ]
  },
  {
   "cell_type": "code",
   "execution_count": 45,
   "metadata": {},
   "outputs": [
    {
     "name": "stdout",
     "output_type": "stream",
     "text": [
      "hello am sunny\n",
      "my roll no  101\n",
      "my marks is  90\n"
     ]
    }
   ],
   "source": [
    "# self is implicite variable\n",
    "s1= Student('sunny',101,90)  # first value is important as it current value\n",
    "s1.talk()"
   ]
  },
  {
   "cell_type": "markdown",
   "metadata": {},
   "source": [
    "# 7. constructor\n",
    "- the name of constructor-  `__init__(self)`"
   ]
  },
  {
   "cell_type": "code",
   "execution_count": null,
   "metadata": {},
   "outputs": [],
   "source": []
  },
  {
   "cell_type": "code",
   "execution_count": null,
   "metadata": {},
   "outputs": [],
   "source": []
  },
  {
   "cell_type": "code",
   "execution_count": 33,
   "metadata": {},
   "outputs": [
    {
     "name": "stdout",
     "output_type": "stream",
     "text": [
      "print the constroctor\n",
      "print the constroctor\n",
      "print the constroctor\n"
     ]
    }
   ],
   "source": [
    "class Test:\n",
    "    def __init__(self):\n",
    "        print('print the constroctor') # python provide contructor defalut\n",
    "\n",
    "t=Test()\n",
    "t.__init__()\n",
    "t.__init__()\n"
   ]
  },
  {
   "cell_type": "code",
   "execution_count": 35,
   "metadata": {},
   "outputs": [],
   "source": [
    "class Test:\n",
    "    def __init__(self):\n",
    "        print('no-arg constructor')\n",
    "\n",
    "    def __init__(self,x):\n",
    "        print('one-arg constructor')  # overloaded case"
   ]
  },
  {
   "cell_type": "code",
   "execution_count": 38,
   "metadata": {},
   "outputs": [
    {
     "name": "stdout",
     "output_type": "stream",
     "text": [
      "one-arg constructor\n"
     ]
    }
   ],
   "source": [
    "#t1=Test()\n",
    "t2=Test(20)"
   ]
  },
  {
   "cell_type": "code",
   "execution_count": null,
   "metadata": {},
   "outputs": [],
   "source": []
  },
  {
   "cell_type": "code",
   "execution_count": null,
   "metadata": {},
   "outputs": [],
   "source": []
  },
  {
   "cell_type": "markdown",
   "metadata": {},
   "source": [
    "# 8. Mini application of movie"
   ]
  },
  {
   "cell_type": "code",
   "execution_count": 46,
   "metadata": {},
   "outputs": [],
   "source": [
    "class Movie:\n",
    "    '''this clas is developed by avi'''\n",
    "    def __init__(self,title,hero,heroin):  # local variable\n",
    "        self.title=title\n",
    "        self.hero = hero\n",
    "        self.heroin = heroin \n",
    "\n",
    "    def info(self):\n",
    "        print('Movies name',self.title)\n",
    "        print('Hero name',self.hero)\n",
    "        print('heroin name',self.heroin)"
   ]
  },
  {
   "cell_type": "code",
   "execution_count": 48,
   "metadata": {},
   "outputs": [
    {
     "name": "stdout",
     "output_type": "stream",
     "text": [
      "Movies added successfully...\n",
      "Movies added successfully...\n",
      "Movies added successfully...\n",
      "All movies inforamtion...\n",
      "Movies name bahubali\n",
      "Hero name prabhas\n",
      "heroin name anushka\n",
      "\n",
      "Movies name radhe\n",
      "Hero name salaman khan\n",
      "heroin name disha pathani\n",
      "\n",
      "Movies name raaj\n",
      "Hero name dino maria\n",
      "heroin name bipash basu\n",
      "\n"
     ]
    }
   ],
   "source": [
    "list_of_movies = []\n",
    "while True:\n",
    "    title=input('Enter Movies name')\n",
    "    hero= input('Enter hero name')\n",
    "    heroin = input('Enter heroin name')\n",
    "    m= Movie(title,hero,heroin)\n",
    "    list_of_movies.append(m)\n",
    "    print('Movies added successfully...')\n",
    "    option= input('Do you want to add one more movie (yes/no)?')\n",
    "    if option.lower()=='no':\n",
    "        break\n",
    "\n",
    "print('All movies inforamtion...')\n",
    "for movie in list_of_movies:\n",
    "    movie.info()\n",
    "    print()"
   ]
  },
  {
   "cell_type": "markdown",
   "metadata": {},
   "source": [
    "# 9. Method and constructor (difference)"
   ]
  },
  {
   "cell_type": "markdown",
   "metadata": {},
   "source": [
    "- Method\n",
    "    - 1. Any name\n",
    "    - 2. any no of times\n",
    "    - 3. we should call explicitly\n",
    "    - 4. m1(): business logic\n",
    "\n",
    "- constructor\n",
    "    - 1. __init__()\n",
    "    - 2. only _One\n",
    "    - 3. construcotr atomatically executed.\n",
    "    - 4. self.name=name fixed"
   ]
  },
  {
   "cell_type": "code",
   "execution_count": 56,
   "metadata": {},
   "outputs": [
    {
     "name": "stdout",
     "output_type": "stream",
     "text": [
      "Test\n"
     ]
    }
   ],
   "source": [
    "class Test:  # same name class and mehtod\n",
    "\n",
    "    def Test(self):\n",
    "        print('Test')\n",
    "\n",
    "\n",
    "t=Test() # constructor executed\n",
    "t.Test() # method executed"
   ]
  },
  {
   "cell_type": "markdown",
   "metadata": {},
   "source": [
    "# 11. Types of method of class\n",
    "   1.  Class Method\n",
    "   2.  Instance Method  (first argument alway self)\n",
    "   3.  Static Method"
   ]
  },
  {
   "cell_type": "code",
   "execution_count": 4,
   "metadata": {},
   "outputs": [],
   "source": [
    "class Student:\n",
    "    schoolname = 'DY PATIL'  # static variable\n",
    "    def __init__(self,name,rollno) -> None:\n",
    "        self.name = name\n",
    "        self.rollno = rollno\n",
    "    \n",
    "    def get_student_info(self):\n",
    "        print('student name',self.name)\n",
    "        print('student roll no',self.rollno)\n",
    "\n",
    "    @classmethod\n",
    "    def get_school_name(cls):\n",
    "        print('School name is:',cls.schoolname) # using cls we can acces the static variable\n",
    "\n",
    "    @staticmethod\n",
    "    def get_sum(a,b):\n",
    "        sum = a+b\n",
    "        return sum\n"
   ]
  },
  {
   "cell_type": "code",
   "execution_count": 88,
   "metadata": {},
   "outputs": [
    {
     "name": "stdout",
     "output_type": "stream",
     "text": [
      "School name is: DY PATIL\n"
     ]
    },
    {
     "data": {
      "text/plain": [
       "5"
      ]
     },
     "execution_count": 88,
     "metadata": {},
     "output_type": "execute_result"
    }
   ],
   "source": [
    "s=Student('avi',76)\n",
    "s.get_school_name()\n",
    "s.get_sum(2,3)"
   ]
  },
  {
   "cell_type": "code",
   "execution_count": 5,
   "metadata": {},
   "outputs": [
    {
     "data": {
      "text/plain": [
       "5"
      ]
     },
     "execution_count": 5,
     "metadata": {},
     "output_type": "execute_result"
    }
   ],
   "source": [
    "Student.get_sum(2,3)"
   ]
  },
  {
   "cell_type": "code",
   "execution_count": 6,
   "metadata": {},
   "outputs": [
    {
     "name": "stdout",
     "output_type": "stream",
     "text": [
      "School name is: DY PATIL\n"
     ]
    }
   ],
   "source": [
    "Student.get_school_name()"
   ]
  },
  {
   "cell_type": "markdown",
   "metadata": {},
   "source": [
    "# 12 Instance Variable\n",
    "## Places where to declare instance variable\n",
    "- 1. Inside constructor by using Self  `a=10` `b=20`\n",
    "- 2. Inside instance method by using self `c=30`\n",
    "- 3. outside of the class by using object referecnce variable `d=40`"
   ]
  },
  {
   "cell_type": "code",
   "execution_count": 62,
   "metadata": {},
   "outputs": [
    {
     "data": {
      "text/plain": [
       "{'a': 10, 'b': 20, 'c': 30, 'd': 40}"
      ]
     },
     "execution_count": 62,
     "metadata": {},
     "output_type": "execute_result"
    }
   ],
   "source": [
    "class Test:\n",
    "    def __init__(self):\n",
    "        self.a=10   # instance variable inside constructor\n",
    "        self.b =20\n",
    "\n",
    "    def m1(self): # declare in instance method using self\n",
    "        self.c=30\n",
    "\n",
    "# instace variable find out\n",
    "t = Test()\n",
    "t.m1()   # c=30 added only executed on m1\n",
    "t.d=40  # outside of the class\n",
    "t.__dict__  # there are 4 instance variable"
   ]
  },
  {
   "cell_type": "markdown",
   "metadata": {},
   "source": [
    "# 14. Static Variable"
   ]
  },
  {
   "cell_type": "code",
   "execution_count": 1,
   "metadata": {},
   "outputs": [],
   "source": [
    "# Static variable\n",
    "class Student:\n",
    "\n",
    "    schoolname = 'DY PATIL' # static varible (class variable)\n",
    "\n",
    "    def __init__(self,name,rollno):  #istance variable (object variable)\n",
    "        self.name = name\n",
    "        self.rollno = rollno\n",
    "\n",
    "    "
   ]
  },
  {
   "cell_type": "markdown",
   "metadata": {},
   "source": [
    "Declaring the static variable\n",
    "- 1. within the class directly, but outside function `a=10`\n",
    "- 2. Inside constructer by using classname  `b=20`\n",
    "- 3. INside instance method by using classname `c=30`\n",
    "- 4. inside class method by using cls or classname `d=40` `e=50`\n",
    "- 5. inside static method by using classname `f=60`\n",
    "- 6. outside class by using class name `g=70`"
   ]
  },
  {
   "cell_type": "code",
   "execution_count": 14,
   "metadata": {},
   "outputs": [
    {
     "name": "stdout",
     "output_type": "stream",
     "text": [
      "{'__module__': '__main__', 'a': 10, '__init__': <function Test.__init__ at 0x0000019F21AD1160>, 'm1': <function Test.m1 at 0x0000019F21AD10D0>, 'm2': <classmethod object at 0x0000019F21AD5F10>, 'm3': <staticmethod object at 0x0000019F21AD59A0>, '__dict__': <attribute '__dict__' of 'Test' objects>, '__weakref__': <attribute '__weakref__' of 'Test' objects>, '__doc__': None, 'g': 70, 'b': 20, 'c': 30, 'd': 40, 'e': 50, 'f': 60}\n"
     ]
    }
   ],
   "source": [
    "class Test:\n",
    "    a=10\n",
    "    def __init__(self):\n",
    "        Test.b=20\n",
    "\n",
    "    def m1(self):\n",
    "        Test.c=30\n",
    "\n",
    "    @classmethod\n",
    "    def m2(cls):\n",
    "        cls.d=40\n",
    "        Test.e=50\n",
    "\n",
    "    @staticmethod\n",
    "    def m3():\n",
    "        Test.f=60\n",
    "\n",
    "\n",
    "Test.g=70\n",
    "\n",
    "t=Test()\n",
    "t.m1()\n",
    "Test.m2()\n",
    "Test.m3()\n",
    "print(Test.__dict__)\n",
    "\n"
   ]
  },
  {
   "cell_type": "code",
   "execution_count": 33,
   "metadata": {},
   "outputs": [
    {
     "name": "stdout",
     "output_type": "stream",
     "text": [
      "t1:  888 20\n",
      "t2:  888 20\n"
     ]
    },
    {
     "data": {
      "text/plain": [
       "(888, 999)"
      ]
     },
     "execution_count": 33,
     "metadata": {},
     "output_type": "execute_result"
    }
   ],
   "source": [
    "class Test1:\n",
    "    a=10\n",
    "    def __init__(self):\n",
    "        self.b=20\n",
    "\n",
    "    def m1(self):\n",
    "        self.a=888\n",
    "        self.b=999\n",
    "    @classmethod\n",
    "    def m2(cls):\n",
    "        cls.a=888\n",
    "        cls.b=999 # new static variable created\n",
    "\n",
    "t1=Test1()\n",
    "t2=Test1()\n",
    "#t1.m1()\n",
    "#t2.m1()\n",
    "t1.m2()\n",
    "\n",
    "\n",
    "print('t1: ',t1.a,t1.b)\n",
    "print('t2: ',t2.a,t2.b)\n",
    "Test1.a,Test1.b  # static variable chaged"
   ]
  },
  {
   "cell_type": "markdown",
   "metadata": {},
   "source": [
    "# 15 How to acces the static variable"
   ]
  },
  {
   "cell_type": "markdown",
   "metadata": {},
   "source": [
    "-   1.  inside constructor by using self or classname\n",
    "-   2.  inside intansce method by using self or classname\n",
    "-   3.  inside classmethod using cls or classname\n",
    "-   4.  inside staticmethod using class name \n",
    "-   5.  outside class by using classname or using object reference "
   ]
  },
  {
   "cell_type": "code",
   "execution_count": 94,
   "metadata": {},
   "outputs": [
    {
     "name": "stdout",
     "output_type": "stream",
     "text": [
      "10\n",
      "10\n",
      "\n",
      "10\n",
      "10\n"
     ]
    }
   ],
   "source": [
    "class Test:\n",
    "    a= 10\n",
    "    def __init__(self) -> None: # constructor\n",
    "        print(self.a)\n",
    "        print(Test.a)\n",
    "\n",
    "    def m1(self):    # instnace method\n",
    "        print(self.a)\n",
    "        print(Test.a)\n",
    "\n",
    "    @classmethod\n",
    "    def m2(cls):\n",
    "        print(cls.a)\n",
    "        print(Test.a)\n",
    "\n",
    "    @staticmethod\n",
    "    def m3():\n",
    "        print(Test.a)\n",
    "\n",
    "\n",
    "t=Test()\n",
    "#t.m1()\n",
    "print()\n",
    "t.m2()"
   ]
  },
  {
   "cell_type": "markdown",
   "metadata": {},
   "source": [
    "# 16. Modify value of static variable\n"
   ]
  },
  {
   "cell_type": "code",
   "execution_count": 106,
   "metadata": {},
   "outputs": [
    {
     "data": {
      "text/plain": [
       "20"
      ]
     },
     "execution_count": 106,
     "metadata": {},
     "output_type": "execute_result"
    }
   ],
   "source": [
    "class Test:\n",
    "    a=10\n",
    "    def __init__(self) -> None:\n",
    "        Test.a=20\n",
    "\n",
    "    def m1(self):\n",
    "        Test.a=30\n",
    "\n",
    "    @classmethod\n",
    "    def m2(cls):\n",
    "        cls.a=40\n",
    "        Test.a=50\n",
    "\n",
    "\n",
    "    @staticmethod\n",
    "    def m3():\n",
    "        Test.a=60\n",
    "\n",
    "\n",
    "Test.a=70  # a=70\n",
    "\n",
    "t=Test()\n",
    "# t.m1()  # output 30\n",
    "# t.m2()  # output 50\n",
    "# t.m3()  # output 60\n",
    "\n",
    "Test.a\n"
   ]
  },
  {
   "cell_type": "markdown",
   "metadata": {},
   "source": [
    "# 17. About instance and static variable programm part 1\n"
   ]
  },
  {
   "cell_type": "code",
   "execution_count": 6,
   "metadata": {},
   "outputs": [
    {
     "name": "stdout",
     "output_type": "stream",
     "text": [
      "10\n",
      "888\n"
     ]
    }
   ],
   "source": [
    "class Test: # 1st priority goes to isntance variable and if instance varaible\n",
    "    # not availabel then static variable take place\n",
    "    a = 10\n",
    "    def m1(self):\n",
    "        self.a = 888\n",
    "\n",
    "t1 = Test()\n",
    "t1.m1()\n",
    "print(Test.a)\n",
    "print(t1.a)"
   ]
  },
  {
   "cell_type": "code",
   "execution_count": 8,
   "metadata": {},
   "outputs": [
    {
     "name": "stdout",
     "output_type": "stream",
     "text": [
      "t1 10 20\n",
      "t2 10 20\n",
      "t1 888 20\n",
      "t2 10 999\n"
     ]
    }
   ],
   "source": [
    "class Test:\n",
    "    a=10\n",
    "    def __init__(self) -> None:\n",
    "        self.b=20\n",
    "    \n",
    "\n",
    "t1=Test()\n",
    "t2 = Test()\n",
    "\n",
    "print('t1',t1.a,t1.b)\n",
    "print('t2',t2.a,t2.b)\n",
    "t1.a= 888\n",
    "t2.b = 999\n",
    "print('t1',t1.a,t1.b)\n",
    "print('t2',t2.a,t2.b)"
   ]
  },
  {
   "cell_type": "markdown",
   "metadata": {},
   "source": [
    "# 18 Instance and static variable part 2"
   ]
  },
  {
   "cell_type": "code",
   "execution_count": 111,
   "metadata": {},
   "outputs": [
    {
     "name": "stdout",
     "output_type": "stream",
     "text": [
      "t1 10 20\n",
      "t2 10 20\n",
      "t1 888 20\n",
      "t2 888 20\n"
     ]
    }
   ],
   "source": [
    "class Test:\n",
    "    a=10\n",
    "    def __init__(self)-> 'avi':\n",
    "        self.b=20\n",
    "    \n",
    "\n",
    "t1=Test()\n",
    "t2=Test()\n",
    "print('t1',t1.a,t1.b)\n",
    "print('t2',t2.a,t2.b)\n",
    "\n",
    "Test.a=888\n",
    "Test.b=999\n",
    "print('t1',t1.a,t1.b)\n",
    "print('t2',t2.a,t2.b)"
   ]
  },
  {
   "cell_type": "code",
   "execution_count": 11,
   "metadata": {},
   "outputs": [
    {
     "name": "stdout",
     "output_type": "stream",
     "text": [
      "t1 10 20\n",
      "t2 10 20\n",
      "t1 888 999\n",
      "t2 10 20\n"
     ]
    }
   ],
   "source": [
    "class Test:\n",
    "    a=10\n",
    "    def __init__(self)-> 'avi':\n",
    "        self.b=20\n",
    "    \n",
    "    def m1(self):\n",
    "        self.a=888\n",
    "        self.b=999\n",
    "\n",
    "t1=Test()\n",
    "t2=Test()\n",
    "print('t1',t1.a,t1.b)\n",
    "print('t2',t2.a,t2.b)\n",
    "t1.m1()\n",
    "# Test.a=888\n",
    "# Test.b=999\n",
    "print('t1',t1.a,t1.b)\n",
    "print('t2',t2.a,t2.b)"
   ]
  },
  {
   "cell_type": "code",
   "execution_count": 14,
   "metadata": {},
   "outputs": [
    {
     "name": "stdout",
     "output_type": "stream",
     "text": [
      "t1 10 20\n",
      "t2 10 20\n",
      "t1 888 20\n",
      "t2 888 20\n",
      "test 888 999\n"
     ]
    }
   ],
   "source": [
    "class Test:\n",
    "    a=10\n",
    "    def __init__(self)-> 'avi':\n",
    "        self.b=20\n",
    "    @classmethod  # class method\n",
    "    def m1(cls):\n",
    "        cls.a=888\n",
    "        cls.b=999\n",
    "\n",
    "t1=Test()\n",
    "t2=Test()\n",
    "print('t1',t1.a,t1.b)\n",
    "print('t2',t2.a,t2.b)\n",
    "t1.m1()\n",
    "# Test.a=888\n",
    "# Test.b=999\n",
    "print('t1',t1.a,t1.b) # it access the instacne variable first\n",
    "print('t2',t2.a,t2.b)\n",
    "print('test',Test.a,Test.b)  # static variable"
   ]
  },
  {
   "cell_type": "markdown",
   "metadata": {},
   "source": [
    "# 19. How to delete static variable ?"
   ]
  },
  {
   "cell_type": "code",
   "execution_count": 23,
   "metadata": {},
   "outputs": [
    {
     "name": "stdout",
     "output_type": "stream",
     "text": [
      "{'__module__': '__main__', 'a': 10, 'm1': <classmethod object at 0x0000026CCDC6A1F0>, '__dict__': <attribute '__dict__' of 'Test' objects>, '__weakref__': <attribute '__weakref__' of 'Test' objects>, '__doc__': None}\n",
      "\n",
      "{'__module__': '__main__', 'm1': <classmethod object at 0x0000026CCDC6A1F0>, '__dict__': <attribute '__dict__' of 'Test' objects>, '__weakref__': <attribute '__weakref__' of 'Test' objects>, '__doc__': None}\n"
     ]
    }
   ],
   "source": [
    "class Test:\n",
    "    a=10\n",
    "    @classmethod\n",
    "    def m1(cls):\n",
    "        #del Test.a  # delete the a variabe static\n",
    "        del cls.a\n",
    "\n",
    "\n",
    "print(Test.__dict__)\n",
    "Test.m1()\n",
    "print()\n",
    "print(Test.__dict__)"
   ]
  },
  {
   "cell_type": "code",
   "execution_count": 54,
   "metadata": {},
   "outputs": [
    {
     "name": "stdout",
     "output_type": "stream",
     "text": [
      "{'__module__': '__main__', '__init__': <function Test.__init__ at 0x0000026CCDC98F70>, 'm1': <function Test.m1 at 0x0000026CCDC98AF0>, 'm2': <classmethod object at 0x0000026CCCE7A7F0>, 'm3': <staticmethod object at 0x0000026CCCE7A700>, '__dict__': <attribute '__dict__' of 'Test' objects>, '__weakref__': <attribute '__weakref__' of 'Test' objects>, '__doc__': None, 'b': 20}\n",
      "================================================================================\n",
      "{'__module__': '__main__', '__init__': <function Test.__init__ at 0x0000026CCDC98F70>, 'm1': <function Test.m1 at 0x0000026CCDC98AF0>, 'm2': <classmethod object at 0x0000026CCCE7A7F0>, 'm3': <staticmethod object at 0x0000026CCCE7A700>, '__dict__': <attribute '__dict__' of 'Test' objects>, '__weakref__': <attribute '__weakref__' of 'Test' objects>, '__doc__': None, 'c': 30}\n",
      "================================================================================\n",
      "{'__module__': '__main__', '__init__': <function Test.__init__ at 0x0000026CCDC98F70>, 'm1': <function Test.m1 at 0x0000026CCDC98AF0>, 'm2': <classmethod object at 0x0000026CCCE7A7F0>, 'm3': <staticmethod object at 0x0000026CCCE7A700>, '__dict__': <attribute '__dict__' of 'Test' objects>, '__weakref__': <attribute '__weakref__' of 'Test' objects>, '__doc__': None, 'd': 40}\n",
      "================================================================================\n",
      "{'__module__': '__main__', '__init__': <function Test.__init__ at 0x0000026CCDC98F70>, 'm1': <function Test.m1 at 0x0000026CCDC98AF0>, 'm2': <classmethod object at 0x0000026CCCE7A7F0>, 'm3': <staticmethod object at 0x0000026CCCE7A700>, '__dict__': <attribute '__dict__' of 'Test' objects>, '__weakref__': <attribute '__weakref__' of 'Test' objects>, '__doc__': None, 'e': 50}\n",
      "================================================================================\n"
     ]
    }
   ],
   "source": [
    "class Test:\n",
    "    a= 10\n",
    "    def __init__(self):\n",
    "        Test.b = 20\n",
    "        del Test.a\n",
    "\n",
    "    def m1(self):\n",
    "        Test.c = 30\n",
    "        del Test.b\n",
    "    \n",
    "    @classmethod\n",
    "    def m2(cls):\n",
    "        cls.d= 40\n",
    "        del cls.c\n",
    "    @staticmethod\n",
    "    def m3():\n",
    "        Test.e = 50\n",
    "        del Test.d\n",
    "\n",
    "\n",
    "t=Test()\n",
    "print(Test.__dict__)\n",
    "print(\"=\"*80)\n",
    "\n",
    "\n",
    "t.m1()\n",
    "print(Test.__dict__)\n",
    "print(\"=\"*80)\n",
    "\n",
    "t.m2()\n",
    "print(Test.__dict__)\n",
    "print(\"=\"*80)\n",
    "\n",
    "t.m3()\n",
    "print(Test.__dict__)\n",
    "print(\"=\"*80)\n",
    "\n"
   ]
  },
  {
   "cell_type": "markdown",
   "metadata": {},
   "source": [
    "# 20. Instance Vs Static variable"
   ]
  },
  {
   "cell_type": "markdown",
   "metadata": {},
   "source": [
    "| Instance variable  |Static Variable   |\n",
    "| -------  |----------   |\n",
    "| object level variable  |class level variable   |\n",
    "|every obj separate copy created   | single copy crated at class level and shared   |\n",
    "|if chages performd not reflected to all obj   | if change are made in static then all reflected to all obj  |\n",
    "\n",
    "\n",
    "\n"
   ]
  },
  {
   "cell_type": "code",
   "execution_count": null,
   "metadata": {},
   "outputs": [],
   "source": []
  },
  {
   "cell_type": "code",
   "execution_count": null,
   "metadata": {},
   "outputs": [],
   "source": []
  },
  {
   "cell_type": "code",
   "execution_count": null,
   "metadata": {},
   "outputs": [],
   "source": []
  },
  {
   "cell_type": "code",
   "execution_count": 41,
   "metadata": {},
   "outputs": [],
   "source": []
  },
  {
   "cell_type": "code",
   "execution_count": 11,
   "metadata": {},
   "outputs": [
    {
     "data": {
      "text/plain": [
       "{'a': 10, 'c': 30, 'e': 50}"
      ]
     },
     "execution_count": 11,
     "metadata": {},
     "output_type": "execute_result"
    }
   ],
   "source": []
  },
  {
   "cell_type": "markdown",
   "metadata": {},
   "source": [
    "# 21. Local Variable"
   ]
  },
  {
   "cell_type": "code",
   "execution_count": 61,
   "metadata": {},
   "outputs": [
    {
     "name": "stdout",
     "output_type": "stream",
     "text": [
      "The averrage: 25.0\n"
     ]
    }
   ],
   "source": [
    "class Test:\n",
    "\n",
    "    def __init__(self):\n",
    "        pass\n",
    "\n",
    "    def average(self,list1):\n",
    "        result = sum(list1)/len(list1)\n",
    "        print(\"The averrage:\",result)\n",
    "    \n",
    "    @staticmethod\n",
    "    def avg(list1):\n",
    "        result = sum(list1)/len(list1)\n",
    "        print(\"The averrage:\",result)\n",
    "\n",
    "test=Test()\n",
    "list1 =[10,20,30,40]\n",
    "test.avg(list1)"
   ]
  },
  {
   "cell_type": "code",
   "execution_count": null,
   "metadata": {},
   "outputs": [],
   "source": [
    "class Test:\n",
    "    def m1(self):\n",
    "        a=10\n",
    "        print(a)\n",
    "    def m2(self):\n",
    "        print(a)\n",
    "\n",
    "\n",
    "\n",
    "t=Test()\n"
   ]
  },
  {
   "cell_type": "markdown",
   "metadata": {},
   "source": [
    "# 22. MINi Bank Application"
   ]
  },
  {
   "cell_type": "code",
   "execution_count": 24,
   "metadata": {},
   "outputs": [],
   "source": [
    "class Customer:\n",
    "    '''this class developer by avi and describe\n",
    "    bank operation'''\n",
    "    bankname = 'DIGIBANK'\n",
    "\n",
    "    def __init__(self,name,balence=0.0,):\n",
    "        self.name = name\n",
    "        self.balence = balence\n",
    "\n",
    "    # deposite operation\n",
    "    def deposit(self,amount):\n",
    "        self.balence = self.balence + amount\n",
    "        print('After deposit balance is:',self.balence)\n",
    "\n",
    "    # withdraw operation\n",
    "    def withdraw(self,amount):\n",
    "        if amount> self.balence:\n",
    "            print('Insufficeint Funds...\\n cnanot perform this operation')\n",
    "        else:\n",
    "            self.balence = self.balence - amount\n",
    "            print('After withdraw, balance:',self.balence)\n"
   ]
  },
  {
   "cell_type": "code",
   "execution_count": 26,
   "metadata": {},
   "outputs": [
    {
     "name": "stdout",
     "output_type": "stream",
     "text": [
      "Welcome to  DIGIBANK\n",
      "d-deposit\n",
      "w-withdraw\n",
      "e-exit\n",
      "After deposit balance is: 50000.0\n",
      "d-deposit\n",
      "w-withdraw\n",
      "e-exit\n",
      "your option is invalid....\n",
      " p\\z choose correct options.\n",
      "d-deposit\n",
      "w-withdraw\n",
      "e-exit\n",
      "Thank for Banking\n"
     ]
    }
   ],
   "source": [
    "print('Welcome to ',Customer.bankname)\n",
    "\n",
    "name = input('Enter your name')\n",
    "c = Customer(name)\n",
    "\n",
    "while True:\n",
    "    print('d-deposit\\nw-withdraw\\ne-exit')\n",
    "    option = input('choose your option')\n",
    "    if option.lower()=='d':\n",
    "        amount=float(input('Enter amount to deposit'))\n",
    "        c.deposit(amount)\n",
    "    elif option.lower()=='w':\n",
    "        amount=float(input('Enter amount to withdraw'))\n",
    "        c.withdraw(amount)\n",
    "    elif option.lower()=='e':\n",
    "        print('Thank for Banking')\n",
    "        break\n",
    "    else:\n",
    "        print('your option is invalid....\\n p\\z choose correct options.')"
   ]
  },
  {
   "cell_type": "markdown",
   "metadata": {},
   "source": [
    "# 23. new"
   ]
  },
  {
   "cell_type": "code",
   "execution_count": null,
   "metadata": {},
   "outputs": [],
   "source": []
  },
  {
   "cell_type": "markdown",
   "metadata": {},
   "source": [
    "\n",
    "# 24. Setter and Getter Method\n",
    "\n",
    "- Setter Method or mutator method:                             \n",
    "   -  to set the value of instance variable \n",
    "                  \n",
    "                  \n",
    "      <br>\n",
    "\n",
    "\n",
    "                        \n",
    "- getter method or accessor method:                         \n",
    "   - to get the value of instance variable\n",
    "\n"
   ]
  },
  {
   "cell_type": "code",
   "execution_count": 64,
   "metadata": {},
   "outputs": [
    {
     "name": "stdout",
     "output_type": "stream",
     "text": [
      "constructor\n",
      "x value of : 10\n"
     ]
    }
   ],
   "source": [
    "class Test:\n",
    "    def __init__(self):\n",
    "        print('constructor')  # atomatically called\n",
    "    \n",
    "    def m1(self,x):\n",
    "        print('x value of :',x)\n",
    "\n",
    "k=Test()\n",
    "k.m1(10)"
   ]
  },
  {
   "cell_type": "code",
   "execution_count": 65,
   "metadata": {},
   "outputs": [],
   "source": [
    "class Student:\n",
    "    def set_name(self,name):\n",
    "        self.name=name\n",
    "    \n",
    "    def get_name(self):\n",
    "        return self.name\n",
    "    \n",
    "    def set_marks(self,marks):\n",
    "        self.marks=marks\n",
    "    \n",
    "    def get_marks(self):\n",
    "        return self.marks\n",
    "\n",
    "\n",
    "\n",
    "\n"
   ]
  },
  {
   "cell_type": "code",
   "execution_count": 66,
   "metadata": {},
   "outputs": [],
   "source": [
    "n= int(input('Enter no of students'))\n",
    "student=[]\n",
    "for i in range(n):\n",
    "    s=Student()\n",
    "    name = input('Enter Student name')\n",
    "    marks = int(input('Enter marks'))\n",
    "    s.set_name(name)\n",
    "    s.set_marks(marks)\n",
    "    student.append(s)"
   ]
  },
  {
   "cell_type": "code",
   "execution_count": 67,
   "metadata": {},
   "outputs": [
    {
     "name": "stdout",
     "output_type": "stream",
     "text": [
      "hello avinash\n",
      "your marks are 78\n",
      "\n",
      "hello rahul\n",
      "your marks are 56\n",
      "\n",
      "hello shubham\n",
      "your marks are 34\n",
      "\n"
     ]
    }
   ],
   "source": [
    "for i in student:\n",
    "    print('hello',i.get_name())\n",
    "    print('your marks are',i.get_marks())\n",
    "    print()"
   ]
  },
  {
   "cell_type": "code",
   "execution_count": 68,
   "metadata": {},
   "outputs": [],
   "source": [
    "class Student:\n",
    "    def __init__(self,name,marks):\n",
    "        self.name = name\n",
    "        self.marks = marks\n",
    "\n",
    "    def display(self):\n",
    "        print('hi', self.name)\n",
    "        print('your marks are',self.marks)\n",
    "\n",
    "    def grade(self):\n",
    "        if self.marks >= 60:\n",
    "            print('your got frist grade')\n",
    "        elif self.marks >=50:\n",
    "            print('you got second grade')\n",
    "        elif self.marks >=35:\n",
    "            print('You got the third grade')\n",
    "        else:\n",
    "            print('you are failed')\n"
   ]
  },
  {
   "cell_type": "code",
   "execution_count": 69,
   "metadata": {},
   "outputs": [
    {
     "name": "stdout",
     "output_type": "stream",
     "text": [
      "hi avinash\n",
      "your marks are 78\n",
      "your got frist grade\n",
      "\n",
      "hi rahul\n",
      "your marks are 34\n",
      "you are failed\n",
      "\n"
     ]
    }
   ],
   "source": [
    "n = int(input('Enter no of students'))\n",
    "for i in range(n):\n",
    "    name = input('Enter student Name')\n",
    "    marks = int(input('enter marks of student'))\n",
    "    s= Student(name,marks)\n",
    "    s.display()\n",
    "    s.grade()\n",
    "    print()\n"
   ]
  },
  {
   "cell_type": "code",
   "execution_count": 63,
   "metadata": {},
   "outputs": [
    {
     "data": {
      "text/plain": [
       "{'a': 10, 'c': 30, 'e': 50}"
      ]
     },
     "execution_count": 63,
     "metadata": {},
     "output_type": "execute_result"
    }
   ],
   "source": [
    "class Test:\n",
    "    \n",
    "    def __init__(self):\n",
    "        self.a=10\n",
    "        self.b=20\n",
    "        self.c=30\n",
    "        self.d=40\n",
    "        self.e=50\n",
    "\n",
    "    def m1(self):\n",
    "        del self.c\n",
    "\n",
    "\n",
    "        \n",
    "t1=Test()\n",
    "t2=Test()\n",
    "\n",
    "t1.__dict__\n",
    "t1.m1()\n",
    "t1.__dict__\n",
    "# deleter from t2 instance variable\n",
    "del t2.b,t2.d\n",
    "t2.__dict__"
   ]
  },
  {
   "cell_type": "markdown",
   "metadata": {},
   "source": [
    "# 25. class methods intro and demo"
   ]
  },
  {
   "cell_type": "code",
   "execution_count": 73,
   "metadata": {},
   "outputs": [
    {
     "name": "stdout",
     "output_type": "stream",
     "text": [
      "10\n"
     ]
    }
   ],
   "source": [
    "class Test:\n",
    "    x=10\n",
    "    def m1(cls):  # class method  also use @classmethod decorator\n",
    "        print(cls.x)\n",
    "\n",
    "\n",
    "t=Test()\n",
    "t.m1()"
   ]
  },
  {
   "cell_type": "code",
   "execution_count": 75,
   "metadata": {},
   "outputs": [
    {
     "name": "stdout",
     "output_type": "stream",
     "text": [
      "Parrot flying with 2 wings\n",
      "Egle flying with 2 wings\n"
     ]
    }
   ],
   "source": [
    "class Bird:\n",
    "    wing = 2\n",
    "    @classmethod\n",
    "    def fly(cls,name):\n",
    "        print('{} flying with {} wings'.format(name,cls.wing))\n",
    "\n",
    "Bird.fly('Parrot')\n",
    "Bird.fly('Egle')"
   ]
  },
  {
   "cell_type": "code",
   "execution_count": 89,
   "metadata": {},
   "outputs": [],
   "source": [
    "# count number of object crated using the class\n",
    "class Test:\n",
    "    count= 0\n",
    "    def __init__(self) -> None:\n",
    "        Test.count = Test.count+1\n",
    "    @classmethod\n",
    "    def get_no_of_obj(cls):\n",
    "        print('the no of objet created',cls.count)"
   ]
  },
  {
   "cell_type": "code",
   "execution_count": 91,
   "metadata": {},
   "outputs": [
    {
     "name": "stdout",
     "output_type": "stream",
     "text": [
      "the no of objet created 1\n",
      "the no of objet created 3\n"
     ]
    }
   ],
   "source": [
    "Test.get_no_of_obj()\n",
    "t1=Test()\n",
    "t2=Test()\n",
    "\n",
    "\n",
    "\n",
    "\n",
    "Test.get_no_of_obj()"
   ]
  },
  {
   "cell_type": "markdown",
   "metadata": {},
   "source": [
    "# 26. difference between instance and class method"
   ]
  },
  {
   "cell_type": "markdown",
   "metadata": {},
   "source": [
    "| Instance Method | Class Method |\n",
    "|  ------ | ------- |\n",
    "| 1.  instance variable | only static variable |\n",
    "| 2. instance variable and static variable | only static variable |\n",
    "| 3. No decorator | @classmethod  decorator |\n",
    "| 4. Self | cls |\n",
    "| 5. object Reference | class name or object reference | \n",
    "\n"
   ]
  },
  {
   "cell_type": "markdown",
   "metadata": {},
   "source": [
    "# 27. Static method intro and demo"
   ]
  },
  {
   "cell_type": "code",
   "execution_count": 93,
   "metadata": {},
   "outputs": [
    {
     "data": {
      "text/plain": [
       "64"
      ]
     },
     "execution_count": 93,
     "metadata": {},
     "output_type": "execute_result"
    }
   ],
   "source": [
    "class Test:\n",
    "    @staticmethod\n",
    "    def add(a,b):  # there is not need to use self or cls and directly use by class name\n",
    "        return a+b\n",
    "\n",
    "\n",
    "Test.add(56,8) "
   ]
  },
  {
   "cell_type": "markdown",
   "metadata": {},
   "source": [
    "# 28. Instance Method vs class method vs static Method\n"
   ]
  },
  {
   "cell_type": "markdown",
   "metadata": {},
   "source": [
    "|Instance Method        | class method        |static method            |\n",
    "|  ------------      |   --------     |  ------------          |\n",
    "|if we are using only instance variable        |if we are using only static variable  | if we are using local variable           |\n",
    "|  using instance and static variable      |        |            |\n",
    "|using instance variable and local variable        |        |            |\n",
    "|        |        |            |\n"
   ]
  },
  {
   "cell_type": "markdown",
   "metadata": {},
   "source": [
    "`Decorator`\n",
    "- 1. For class method : @classmethod -> Mandotory\n",
    "- 2. for static method : @staticmethod -> optional (identity  by calling by class name)\n",
    "- 3. for instance method : No decorator required (identify by calling by obj reference)"
   ]
  },
  {
   "cell_type": "code",
   "execution_count": 16,
   "metadata": {},
   "outputs": [
    {
     "name": "stdout",
     "output_type": "stream",
     "text": [
      "some method\n"
     ]
    }
   ],
   "source": [
    "class Test:\n",
    "    def m1():  # static method\n",
    "        print('some method')\n",
    "\n",
    "t=Test()\n",
    "#t.m1()  # python provide the default value\n",
    "   # TypeError: m1() takes 0 positional arguments but 1 was given\n",
    "    \n",
    "Test.m1()"
   ]
  },
  {
   "cell_type": "code",
   "execution_count": 15,
   "metadata": {},
   "outputs": [
    {
     "name": "stdout",
     "output_type": "stream",
     "text": [
      "some method\n"
     ]
    }
   ],
   "source": [
    "class Test:\n",
    "    def m1(x):   # istance method\n",
    "        print(\"some method\")\n",
    "\n",
    "\n",
    "t=Test()\n",
    "t.m1()    # o/p some method\n",
    "\n",
    "t=Test()\n",
    "#t.m1(10)  # python provide the first value so it give error\n"
   ]
  },
  {
   "cell_type": "code",
   "execution_count": 8,
   "metadata": {},
   "outputs": [
    {
     "name": "stdout",
     "output_type": "stream",
     "text": [
      "some method\n"
     ]
    }
   ],
   "source": [
    "class Test:\n",
    "    def m1():    # static method\n",
    "        print('some method')\n",
    "\n",
    "\n",
    "Test.m1()      # static method calling by class name"
   ]
  },
  {
   "cell_type": "code",
   "execution_count": 14,
   "metadata": {},
   "outputs": [
    {
     "name": "stdout",
     "output_type": "stream",
     "text": [
      "some method\n",
      "some method\n"
     ]
    }
   ],
   "source": [
    "class Test:\n",
    "    def m1(x):\n",
    "        print('some method')\n",
    "\n",
    "# Test.m1()  # throws error TypeError: m1() missing 1 required positional argument: 'x'\n",
    "Test.m1(10)   # using class name and value it is static method\n",
    "\n",
    "t= Test() # using obj ref it instacne method\n",
    "t.m1()\n"
   ]
  },
  {
   "cell_type": "markdown",
   "metadata": {},
   "source": [
    "# 29. Accessing member of one class inside another class "
   ]
  },
  {
   "cell_type": "code",
   "execution_count": 17,
   "metadata": {},
   "outputs": [],
   "source": [
    "class Employee:\n",
    "    def __init__(self,eno,ename,esal) -> None:\n",
    "        self.eno= eno\n",
    "        self.ename= ename\n",
    "        self.esal = esal \n",
    "\n",
    "    def display(self):\n",
    "        print('Employee No',self.eno)\n",
    "        print('Employee Name',self.ename)\n",
    "        print('Employee Salary',self.esal)\n",
    "\n",
    "        \n",
    "        "
   ]
  },
  {
   "cell_type": "code",
   "execution_count": 19,
   "metadata": {},
   "outputs": [],
   "source": [
    "class Manager:\n",
    "    def update_sal(emp):\n",
    "        emp.esal = emp.esal + 10000\n",
    "        emp.display()"
   ]
  },
  {
   "cell_type": "code",
   "execution_count": 20,
   "metadata": {},
   "outputs": [
    {
     "name": "stdout",
     "output_type": "stream",
     "text": [
      "Employee No 101\n",
      "Employee Name avi\n",
      "Employee Salary 55000\n"
     ]
    }
   ],
   "source": [
    "emp=Employee(101,'avi',45000)\n",
    "Manager.update_sal(emp)"
   ]
  },
  {
   "cell_type": "markdown",
   "metadata": {},
   "source": [
    "# 30. Inner classed intro and demo\n",
    "- without existing one type of object , if there is no chance of existing another of object -> Inner class\n",
    "- inner class improves the modularity of code\n",
    "- improves security of class"
   ]
  },
  {
   "cell_type": "code",
   "execution_count": 21,
   "metadata": {},
   "outputs": [],
   "source": [
    "class University:   # if there is no  university then departement also no\n",
    "    class Department: # without university no chance of departement\n",
    "        pass            # this is inner class\n"
   ]
  },
  {
   "cell_type": "code",
   "execution_count": 22,
   "metadata": {},
   "outputs": [],
   "source": [
    "class Car: # outer class\n",
    "    class Engine: # inner class\n",
    "        pass"
   ]
  },
  {
   "cell_type": "code",
   "execution_count": 23,
   "metadata": {},
   "outputs": [],
   "source": [
    "class Head: # outer class\n",
    "    class Brain: # inner class\n",
    "        pass"
   ]
  },
  {
   "cell_type": "code",
   "execution_count": 27,
   "metadata": {},
   "outputs": [
    {
     "name": "stdout",
     "output_type": "stream",
     "text": [
      "OUter object creation\n",
      "Inner class object creation\n",
      "inner class method\n"
     ]
    }
   ],
   "source": [
    "# creating and calling inner class\n",
    "class Outer:\n",
    "    def __init__(self) -> None:\n",
    "        print('OUter object creation')\n",
    "\n",
    "    class Inner:\n",
    "        def __init__(self) -> None:\n",
    "            print('Inner class object creation')\n",
    "        \n",
    "        def m1(self):\n",
    "            print('inner class method')\n",
    "\n",
    "o = Outer()\n",
    "i = o.Inner()s\n",
    "i.m1()"
   ]
  },
  {
   "cell_type": "code",
   "execution_count": 29,
   "metadata": {},
   "outputs": [
    {
     "name": "stdout",
     "output_type": "stream",
     "text": [
      "OUter object creation\n",
      "Inner class object creation\n",
      "inner class method\n"
     ]
    }
   ],
   "source": [
    "i = Outer().Inner().m1()"
   ]
  },
  {
   "cell_type": "markdown",
   "metadata": {},
   "source": [
    "# 36.Nesting of Inner classes"
   ]
  },
  {
   "cell_type": "code",
   "execution_count": 39,
   "metadata": {},
   "outputs": [
    {
     "name": "stdout",
     "output_type": "stream",
     "text": [
      "Outer class object creation\n",
      "Inner class object creation\n",
      "InnerInner clsss cration\n",
      "Nested INner class cration\n"
     ]
    }
   ],
   "source": [
    "class Outer:\n",
    "    def __init__(self) -> None:\n",
    "        print('Outer class object creation')\n",
    "    \n",
    "    class Inner:\n",
    "        def __init__(self) -> None:\n",
    "            print('Inner class object creation')\n",
    "    \n",
    "        class InnerInner:\n",
    "            def __init__(self) -> None:\n",
    "                print('InnerInner clsss cration')\n",
    "\n",
    "\n",
    "            def m1(self):\n",
    "                print('Nested INner class cration')\n",
    "\n",
    "\n",
    "\n",
    "o=Outer()\n",
    "i=o.Inner()\n",
    "ii= i.InnerInner()\n",
    "ii.m1()"
   ]
  },
  {
   "cell_type": "code",
   "execution_count": 41,
   "metadata": {},
   "outputs": [
    {
     "name": "stdout",
     "output_type": "stream",
     "text": [
      "Outer class object creation\n",
      "Inner class object creation\n",
      "InnerInner clsss cration\n",
      "Nested INner class cration\n"
     ]
    }
   ],
   "source": [
    "# shortcut to call nested class\n",
    "Outer().Inner().InnerInner().m1()  "
   ]
  },
  {
   "cell_type": "markdown",
   "metadata": {},
   "source": [
    "# 41 Has a Relationship 2"
   ]
  },
  {
   "cell_type": "code",
   "execution_count": null,
   "metadata": {},
   "outputs": [],
   "source": []
  },
  {
   "cell_type": "code",
   "execution_count": 33,
   "metadata": {},
   "outputs": [
    {
     "name": "stdout",
     "output_type": "stream",
     "text": [
      "Employee Name avi\n",
      "Employee Number 34407\n",
      "Employee car info\n",
      "car Name: Innova, modol:2.5V, color:Gray\n"
     ]
    }
   ],
   "source": [
    "class Car:\n",
    "    def __init__(self,name,model,color) -> None:\n",
    "        self.name = name\n",
    "        self.model = model\n",
    "        self.color = color\n",
    "\n",
    "    def get_info(self):\n",
    "        print('car Name: {}, modol:{}, color:{}'.format(self.name,self.model,self.color))\n",
    "\n",
    "\n",
    "\n",
    "class Employee:\n",
    "    def __init__(self,ename,eno,car) -> None:\n",
    "        self.ename=ename\n",
    "        self.eno = eno \n",
    "        self.car =car\n",
    "\n",
    "    def emp_info(self):\n",
    "        print('Employee Name',self.ename)\n",
    "        print('Employee Number',self.eno)\n",
    "        print('Employee car info')\n",
    "        self.car.get_info()\n",
    "\n",
    "\n",
    "cas = Car('Innova','2.5V','Gray')\n",
    "emp = Employee('avi',34407,cas)\n",
    "\n",
    "emp.emp_info()"
   ]
  },
  {
   "cell_type": "markdown",
   "metadata": {},
   "source": [
    "# 46 Is-A vs HAS-A Relationship"
   ]
  },
  {
   "cell_type": "code",
   "execution_count": 38,
   "metadata": {},
   "outputs": [
    {
     "name": "stdout",
     "output_type": "stream",
     "text": [
      "Eating Biryani and Driking Bear\n",
      "coding python programms\n",
      "Employee Name avi\n",
      "Employee Age 28\n",
      "Employee Number 34204\n",
      "Employee Salary 45000\n",
      "Employee car info:\n",
      "\tcar Name: innova,\n",
      "\tmodol:2.5V,\n",
      "\tcolor:Gray\n"
     ]
    }
   ],
   "source": [
    "class Car:\n",
    "    def __init__(self,name,model,color) -> None:\n",
    "        self.name = name\n",
    "        self.model = model\n",
    "        self.color = color\n",
    "\n",
    "    def get_info(self):\n",
    "        print('\\tcar Name: {},\\n\\tmodol:{},\\n\\tcolor:{}'.format(self.name,self.model,self.color))\n",
    "\n",
    "class Person:\n",
    "    def __init__(self,name,age) -> None:\n",
    "        self.name = name\n",
    "        self.age = age\n",
    "\n",
    "    def eat_drink(self):\n",
    "        print('Eating Biryani and Driking Bear')        \n",
    "\n",
    "class Employee(Person):\n",
    "    def __init__(self,name,age,eno,esal,car) -> None:\n",
    "        super().__init__(name,age)\n",
    "        self.esal=esal\n",
    "        self.eno = eno \n",
    "        self.car =car\n",
    "    \n",
    "    def work(self):\n",
    "        print('coding python programms')\n",
    "\n",
    "    def emp_info(self):\n",
    "        print('Employee Name',self.name)\n",
    "        print('Employee Age',self.age)\n",
    "        print('Employee Number',self.eno)\n",
    "        print('Employee Salary',self.esal)\n",
    "        print('Employee car info:')\n",
    "        self.car.get_info()\n",
    "\n",
    "car = Car('innova','2.5V','Gray')\n",
    "e = Employee('avi',28,34204,45000,car)\n",
    "e.eat_drink()\n",
    "e.work()\n",
    "e.emp_info()"
   ]
  },
  {
   "cell_type": "markdown",
   "metadata": {},
   "source": [
    "# 47. Composition vs Aggregation\n",
    "- 1. composition -> strong association with outer class\n",
    "- 2. Aggregation -> weak association with outer class"
   ]
  },
  {
   "cell_type": "code",
   "execution_count": 43,
   "metadata": {},
   "outputs": [],
   "source": [
    "class University:\n",
    "    def __init__(self) -> None:\n",
    "        self.department = self.Department()  # compostion relationship\n",
    "    \n",
    "    class Department:\n",
    "        pass\n",
    "\n",
    "\n",
    "u = University()"
   ]
  },
  {
   "cell_type": "code",
   "execution_count": 44,
   "metadata": {},
   "outputs": [],
   "source": [
    "class Professor:  # aggregation -> weak relationship between professor and department\n",
    "    pass\n",
    "\n",
    "class Deaprtment:\n",
    "    def __init__(self,prof) -> None:\n",
    "        self.prof = prof\n",
    "\n",
    "\n",
    "professor = Professor()\n",
    "csdept = Deaprtment(professor)\n",
    "itdept = Deaprtment(professor)    "
   ]
  },
  {
   "cell_type": "markdown",
   "metadata": {},
   "source": [
    "# 48 Type of Inheritance\n",
    "- 1. Single Inheritance\n",
    "- 2. Multi Level Inheritance\n",
    "- 3. Hirarchical Inheritance\n",
    "- 4. Multiple Inheritance\n",
    "- 5. Hybrid Inheritance\n",
    "- 6. Cyclic Inheritance"
   ]
  },
  {
   "cell_type": "markdown",
   "metadata": {},
   "source": [
    "#### 1. singel Inheritance"
   ]
  },
  {
   "cell_type": "code",
   "execution_count": 3,
   "metadata": {},
   "outputs": [
    {
     "name": "stdout",
     "output_type": "stream",
     "text": [
      "parent method\n",
      "child method\n"
     ]
    }
   ],
   "source": [
    "# Sigle Inheritance\n",
    "class P:\n",
    "    def m1(self):\n",
    "        print('parent method')\n",
    "\n",
    "class C(P):   # this is child class\n",
    "    def m2(self):\n",
    "        print('child method')\n",
    "\n",
    "b=C()\n",
    "b.m1()\n",
    "b.m2()\n"
   ]
  },
  {
   "cell_type": "markdown",
   "metadata": {},
   "source": [
    "#### 2. Multileval Inharitance"
   ]
  },
  {
   "cell_type": "code",
   "execution_count": 7,
   "metadata": {},
   "outputs": [
    {
     "name": "stdout",
     "output_type": "stream",
     "text": [
      "Parent Method\n",
      "child method\n",
      "sub child method\n"
     ]
    }
   ],
   "source": [
    "# multi level inharitance\n",
    "class P:\n",
    "    def m1(self):\n",
    "        print('Parent Method')\n",
    "\n",
    "class C(P):\n",
    "    def m2(self):\n",
    "        print('child method')\n",
    "\n",
    "class CC(C):\n",
    "    def m3(self):\n",
    "        print('sub child method')\n",
    "\n",
    "c=CC()\n",
    "c.m1() # all properties of parent method available at child method\n",
    "c.m2()\n",
    "c.m3()\n"
   ]
  },
  {
   "cell_type": "markdown",
   "metadata": {},
   "source": [
    "#### 3. Hirarchical Inheritance\n"
   ]
  },
  {
   "cell_type": "code",
   "execution_count": 19,
   "metadata": {},
   "outputs": [
    {
     "name": "stdout",
     "output_type": "stream",
     "text": [
      "Parent Method\n",
      "Parent Method\n",
      "child method\n"
     ]
    }
   ],
   "source": [
    "# Hirarchical inheritance\n",
    "class P:\n",
    "    def m1(self):\n",
    "        print('Parent Method')\n",
    "\n",
    "class C1(P):\n",
    "    def m2(self):\n",
    "        print('child method')\n",
    "\n",
    "class C2(P):\n",
    "    def m3(self):\n",
    "        print('child method')\n",
    "\n",
    "class CC(C1,C2):  # accesss all the method  multipal method\n",
    "    def m4(self):\n",
    "        print('sub child method')\n",
    "\n",
    "c=C1()\n",
    "c.m1()\n",
    "#c.m3()  # give AttributeError: 'C1' object has no attribute 'm3'\n",
    "c1=C2()\n",
    "c1.m1()\n",
    "#c1.m2() #give AttributeError: 'C2' object has no attribute 'm2'\n",
    "c1.m3()"
   ]
  },
  {
   "cell_type": "markdown",
   "metadata": {},
   "source": [
    "#### 4. Multipal Leval (Java dont support)\n",
    "- Multipal parent but one child"
   ]
  },
  {
   "cell_type": "code",
   "execution_count": 20,
   "metadata": {},
   "outputs": [
    {
     "name": "stdout",
     "output_type": "stream",
     "text": [
      "Parent1 Method\n",
      "parent2 method\n",
      "child method -> all parent method avialable\n"
     ]
    }
   ],
   "source": [
    "# multipal leval  order of parent are important\n",
    "class P1:\n",
    "    def m1(self):\n",
    "        print('Parent1 Method')\n",
    "\n",
    "class P2:\n",
    "    def m2(self):\n",
    "        print('parent2 method')\n",
    "\n",
    "class C(P1,P2): # multipal parent\n",
    "    def m3(self):\n",
    "        print('child method -> all parent method avialable')\n",
    "\n",
    "c=C()\n",
    "c.m1()\n",
    "c.m2()\n",
    "c.m3()\n",
    "\n",
    "\n",
    "    \n"
   ]
  },
  {
   "cell_type": "code",
   "execution_count": 26,
   "metadata": {},
   "outputs": [
    {
     "name": "stdout",
     "output_type": "stream",
     "text": [
      "Parent1 m1 Method\n"
     ]
    }
   ],
   "source": [
    "# multipal leval (same m1 in both class then which are select by python)\n",
    "class P1:\n",
    "    def m1(self):\n",
    "        print('Parent1 m1 Method')\n",
    "\n",
    "class P2:\n",
    "    def m1(self):\n",
    "        print('Parent2 m1 Method')\n",
    "\n",
    "    def m2(self):\n",
    "        print('parent2 method')\n",
    "\n",
    "#class C(P2,P1): # P2 method get chance\n",
    "class C(P1,P2): # P1 mathod get chance multipal parent on basis on order of parent class method are called\n",
    "    def m3(self):\n",
    "        print('child method -> all parent method avialable')\n",
    "\n",
    "c=C()\n",
    "c.m1()\n"
   ]
  },
  {
   "cell_type": "markdown",
   "metadata": {},
   "source": [
    "# 52. Method Resolution Order (MRO) algorithm theory"
   ]
  },
  {
   "cell_type": "markdown",
   "metadata": {},
   "source": [
    "#### Mro algorithm"
   ]
  },
  {
   "cell_type": "code",
   "execution_count": 30,
   "metadata": {},
   "outputs": [
    {
     "name": "stdout",
     "output_type": "stream",
     "text": [
      "[<class '__main__.A'>, <class 'object'>]\n",
      "================================================================================\n",
      "[<class '__main__.B'>, <class 'object'>]\n",
      "================================================================================\n",
      "[<class '__main__.C'>, <class 'object'>]\n",
      "================================================================================\n",
      "[<class '__main__.D'>, <class '__main__.A'>, <class '__main__.B'>, <class 'object'>]\n",
      "================================================================================\n",
      "[<class '__main__.E'>, <class '__main__.B'>, <class '__main__.C'>, <class 'object'>]\n",
      "================================================================================\n",
      "[<class '__main__.F'>, <class '__main__.D'>, <class '__main__.A'>, <class '__main__.E'>, <class '__main__.B'>, <class '__main__.C'>, <class 'object'>]\n",
      "================================================================================\n"
     ]
    }
   ],
   "source": [
    "class A: pass\n",
    "\n",
    "class B: pass\n",
    "\n",
    "class C: pass\n",
    "\n",
    "class D(A,B): pass\n",
    "\n",
    "class E(B,C): pass\n",
    "\n",
    "class F(D,E,C): pass\n",
    "\n",
    "print(A.mro()) # Ao\n",
    "print('='*80)\n",
    "print(B.mro()) # Bo\n",
    "print('='*80)\n",
    "print(C.mro()) # Co\n",
    "print('='*80)\n",
    "print(D.mro()) # D,ABo\n",
    "print('='*80)\n",
    "print(E.mro()) # E,BCo\n",
    "print('='*80)\n",
    "print(F.mro()) # F,DAEBCo   how it come see next cell\n",
    "print('='*80)\n"
   ]
  },
  {
   "cell_type": "markdown",
   "metadata": {},
   "source": [
    "#### Mro algorithm\n",
    "- 1. also known as c3 algorithm\n",
    "- 2. samuele pedroni proposed this algorithm\n",
    "- 3. DLR rule follow Depth first, Left to right"
   ]
  },
  {
   "cell_type": "markdown",
   "metadata": {},
   "source": [
    "# 53. Demo Program of MRo algorithm"
   ]
  },
  {
   "cell_type": "markdown",
   "metadata": {},
   "source": [
    "Equation:\n",
    "        - `mro(x) = x + merge(mro(p1), mro(P2), ... ,parentlsit)`\n",
    "\n",
    "\n",
    "mro(F)     = F + merge(mro(D),mro(E),mro(C), DEC)\n",
    "<br>       = F + merge(DABO,EBCO,CO, DEC)  ` head element is D and not present in tail part of other ero`\n",
    "<br>       = F + D + merge(ABO, EBCO, CO, EC) ` remove D from everywhere, A is head and not present in tail part`\n",
    "<br>       = F + D + A + merge(BO, EBCO, CO, EC) `remove A from everwhere, B is head element and present in tail part so ignore, next head element is E`\n",
    " <br>      = F+ D + A + E + merge(BO, BCO, CO, C) ` remove E from everwher, now B is head element and not present in tail part`\n",
    " <br>      = FDAE + B + merge(O, CO, CO, C) ` remove B from evereywhere, now O is head element but present tail part so ignore, next head element is C and not present in tail element`\n",
    " <br>      = FDAEB + C + merge(O, O, O) ` remove C from everywhere , now O is head element and not present in tail part`\n",
    " <br>      = FDAEBC + O  ` add O`\n",
    " <br>      = FDAEBCO    ` final order `\n",
    " "
   ]
  },
  {
   "cell_type": "markdown",
   "metadata": {},
   "source": [
    "# 56  Use of super()"
   ]
  },
  {
   "cell_type": "code",
   "execution_count": 32,
   "metadata": {},
   "outputs": [
    {
     "name": "stdout",
     "output_type": "stream",
     "text": [
      "child constructor\n",
      "10\n",
      "parent instance method\n",
      "parent class method\n",
      "parent static method\n",
      "Parent constructor\n"
     ]
    }
   ],
   "source": [
    "class P:\n",
    "    a = 10\n",
    "    def __init__(self) -> None:\n",
    "        print('Parent constructor')\n",
    "    \n",
    "    def m1(self):\n",
    "        print('parent instance method')\n",
    "    \n",
    "    @classmethod\n",
    "    def m2(cls):\n",
    "        print('parent class method')\n",
    "\n",
    "    @staticmethod\n",
    "    def m3():\n",
    "        print('parent static method')\n",
    "\n",
    "\n",
    "class C(P):\n",
    "    def __init__(self) -> None:\n",
    "        print('child constructor')\n",
    "\n",
    "    def method1(self):\n",
    "        print(super().a)  # there is not a variable in child class so you use self.a\n",
    "        super().m1()      \n",
    "        super().m2()\n",
    "        super().m3()\n",
    "        super().__init__()\n",
    "\n",
    "c=C()\n",
    "c.method1()"
   ]
  },
  {
   "cell_type": "markdown",
   "metadata": {},
   "source": [
    "#### Without using super() code"
   ]
  },
  {
   "cell_type": "code",
   "execution_count": 37,
   "metadata": {},
   "outputs": [
    {
     "name": "stdout",
     "output_type": "stream",
     "text": [
      "Name avi\n",
      "Age 28\n",
      "Height 172\n",
      "Weight 62\n",
      "Roll No 24\n",
      "marks 86\n",
      "Name avi\n",
      "Age 28\n",
      "Height 172\n",
      "Weight 62\n",
      "Roll No 24\n",
      "marks 86\n"
     ]
    }
   ],
   "source": [
    "# without using super()\n",
    "class Person:\n",
    "    def __init__(self,name,age,height,weight):\n",
    "        self.name = name\n",
    "        self.age = age\n",
    "        self.height = height\n",
    "        self.weight = weight\n",
    "    \n",
    "    def display(self):\n",
    "        print('Name',self.name)\n",
    "        print('Age',self.age)\n",
    "        print('Height',self.height)\n",
    "        print('Weight',self.weight)\n",
    "        \n",
    "\n",
    "class Student(Person):\n",
    "    def __init__(self,name,age,height,weight,rollno,marks):\n",
    "        self.name = name\n",
    "        self.age = age\n",
    "        self.height = height\n",
    "        self.weight = weight\n",
    "        self.rollno = rollno\n",
    "        self.marks = marks\n",
    "\n",
    "    def display(self):\n",
    "        print('Name',self.name)\n",
    "        print('Age',self.age)\n",
    "        print('Height',self.height)\n",
    "        print('Weight',self.weight)\n",
    "        print('Roll No',self.rollno)\n",
    "        print('marks',self.marks)\n",
    "\n",
    "\n",
    "s= Student('avi',28, 172, 62, 24, 86)  \n",
    "\n",
    "s.display()\n"
   ]
  },
  {
   "cell_type": "markdown",
   "metadata": {},
   "source": [
    "#### using super() code"
   ]
  },
  {
   "cell_type": "code",
   "execution_count": 38,
   "metadata": {},
   "outputs": [
    {
     "name": "stdout",
     "output_type": "stream",
     "text": [
      "Name avi\n",
      "Age 28\n",
      "Height 172\n",
      "Weight 62\n",
      "Roll No 24\n",
      "marks 86\n"
     ]
    }
   ],
   "source": [
    "# use super()\n",
    "class Person:\n",
    "    def __init__(self,name,age,height,weight):\n",
    "        self.name = name\n",
    "        self.age = age\n",
    "        self.height = height\n",
    "        self.weight = weight\n",
    "    \n",
    "    def display(self):\n",
    "        print('Name',self.name)\n",
    "        print('Age',self.age)\n",
    "        print('Height',self.height)\n",
    "        print('Weight',self.weight)\n",
    "        \n",
    "\n",
    "class Student(Person):\n",
    "    def __init__(self,name,age,height,weight,rollno,marks):\n",
    "        # self.name = name\n",
    "        # self.age = age\n",
    "        # self.height = height  # isntead of use parent class constructor\n",
    "        # self.weight = weight\n",
    "        super().__init__(name,age,height,weight)\n",
    "        self.rollno = rollno\n",
    "        self.marks = marks\n",
    "\n",
    "    def display(self):\n",
    "        # print('Name',self.name)  # use parent class display method\n",
    "        # print('Age',self.age)\n",
    "        # print('Height',self.height)\n",
    "        # print('Weight',self.weight)\n",
    "        super().display()\n",
    "        print('Roll No',self.rollno)\n",
    "        print('marks',self.marks)\n",
    "\n",
    "\n",
    "s= Student('avi',28, 172, 62, 24, 86)  \n",
    "\n",
    "s.display()\n"
   ]
  },
  {
   "cell_type": "markdown",
   "metadata": {},
   "source": [
    "# 57 how to call method of particular super class"
   ]
  },
  {
   "cell_type": "code",
   "execution_count": 40,
   "metadata": {},
   "outputs": [
    {
     "name": "stdout",
     "output_type": "stream",
     "text": [
      "D class Method\n"
     ]
    }
   ],
   "source": [
    "class A:\n",
    "    def m1(self):\n",
    "        print('A class Method')\n",
    "        \n",
    "class B(A):\n",
    "    def m1(self):\n",
    "        print('B class Method')\n",
    "\n",
    "class C(B):\n",
    "    def m1(self):\n",
    "        print('c class Method')\n",
    "\n",
    "class D(C):\n",
    "    def m1(self):\n",
    "        print('D class Method')\n",
    "\n",
    "class E(D):\n",
    "    def m2(self):\n",
    "        print('E class Method')\n",
    "\n",
    "\n",
    "e=E()\n",
    "e.m1()\n"
   ]
  },
  {
   "cell_type": "markdown",
   "metadata": {},
   "source": [
    "# 62 Operator and corresponnding magic method"
   ]
  },
  {
   "cell_type": "markdown",
   "metadata": {},
   "source": [
    "#### Operator\n",
    "- `+`  ->  `  __add__()  `\n",
    "- `-`  ->  `  __sub__()  `\n",
    "- `*`  ->  `  __mul__()  `\n",
    "- `/`  ->  `  __div__()  `\n",
    "- `//`  ->  `  __floordiv__()  `\n",
    "- `% ` ->  `  __mod__()  `\n",
    "- `**` ->  `  __pow__()  `\n",
    "\n",
    "- `+=` ->  ` __iadd__()  `\n",
    "- `-=` ->  ` __isub__()  `\n",
    "- `*=` ->  ` __imul__()  `\n",
    "- `/=` ->  ` __idiv__()  `\n",
    "\n",
    "- `<`  ->  ` __lt__()  `\n",
    "- `<=` ->  ` __le__()  `\n",
    "- `>`  ->  ` __gt__()  `\n",
    "- `>=` ->  ` __ge__()  `\n",
    "- `==` ->  ` __eq__()  `\n",
    "\n"
   ]
  },
  {
   "cell_type": "code",
   "execution_count": 22,
   "metadata": {},
   "outputs": [
    {
     "name": "stdout",
     "output_type": "stream",
     "text": [
      "False\n"
     ]
    }
   ],
   "source": [
    "class Student:\n",
    "    def __init__(self,name,marks) -> None:\n",
    "        self.name = name\n",
    "        self.marks = marks\n",
    "\n",
    "    def __gt__(self,other):\n",
    "        return self.marks > other.marks\n",
    "\n",
    "    def __le__(self,other):\n",
    "        return self.marks <= other.marks\n",
    "\n",
    "s1 = Student('Avi',87)\n",
    "s2 = Student('ravi',70)\n",
    "s3 = Student('shiva',91)\n",
    "\n",
    "\n",
    "print(s1>=s3)\n"
   ]
  },
  {
   "cell_type": "code",
   "execution_count": null,
   "metadata": {},
   "outputs": [],
   "source": []
  }
 ],
 "metadata": {
  "interpreter": {
   "hash": "9a2c2ef81291e3e3a506884a4f5c29791a7523fb6a6b9fdd4fd3297ed79291df"
  },
  "kernelspec": {
   "display_name": "Python 3.9.7 64-bit ('tf-gpu': conda)",
   "language": "python",
   "name": "python3"
  },
  "language_info": {
   "codemirror_mode": {
    "name": "ipython",
    "version": 3
   },
   "file_extension": ".py",
   "mimetype": "text/x-python",
   "name": "python",
   "nbconvert_exporter": "python",
   "pygments_lexer": "ipython3",
   "version": "3.9.7"
  },
  "orig_nbformat": 4
 },
 "nbformat": 4,
 "nbformat_minor": 2
}
