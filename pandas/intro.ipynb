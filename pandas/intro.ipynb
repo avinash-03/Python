{
 "cells": [
  {
   "cell_type": "code",
   "execution_count": 3,
   "metadata": {
    "ExecuteTime": {
     "end_time": "2022-02-19T15:07:16.867981Z",
     "start_time": "2022-02-19T15:07:15.734147Z"
    }
   },
   "outputs": [],
   "source": [
    "import numpy as np\n",
    "import pandas as pd \n"
   ]
  },
  {
   "cell_type": "code",
   "execution_count": 2,
   "metadata": {
    "ExecuteTime": {
     "end_time": "2022-02-19T08:01:51.986318Z",
     "start_time": "2022-02-19T08:01:48.217965Z"
    }
   },
   "outputs": [
    {
     "name": "stdout",
     "output_type": "stream",
     "text": [
      "1.1.3\n",
      "{'system': {'commit': 'db08276bc116c438d3fdee492026f8223584c477', 'python': '3.8.5.final.0', 'python-bits': 64, 'OS': 'Windows', 'OS-release': '10', 'Version': '10.0.22000', 'machine': 'AMD64', 'processor': 'AMD64 Family 23 Model 24 Stepping 1, AuthenticAMD', 'byteorder': 'little', 'LC_ALL': None, 'LANG': None, 'LOCALE': {'language-code': 'English_India', 'encoding': '1252'}}, 'dependencies': {'pandas': '1.1.3', 'numpy': '1.21.2', 'pytz': '2020.1', 'dateutil': '2.8.1', 'pip': '20.2.4', 'setuptools': '50.3.1.post20201107', 'Cython': '0.29.21', 'pytest': '6.1.1', 'hypothesis': None, 'sphinx': '3.2.1', 'blosc': None, 'feather': None, 'xlsxwriter': '1.3.7', 'lxml.etree': '4.6.1', 'html5lib': '1.1', 'pymysql': '1.0.2', 'psycopg2': None, 'jinja2': '2.11.2', 'IPython': '7.19.0', 'pandas_datareader': None, 'bs4': '4.9.3', 'bottleneck': '1.3.2', 'fsspec': '0.8.3', 'fastparquet': None, 'gcsfs': None, 'matplotlib': '3.3.2', 'numexpr': '2.7.1', 'odfpy': None, 'openpyxl': '3.0.5', 'pandas_gbq': None, 'pyarrow': '6.0.1', 'pytables': None, 'pyxlsb': None, 's3fs': None, 'scipy': '1.5.2', 'sqlalchemy': '1.3.20', 'tables': '3.6.1', 'tabulate': '0.8.9', 'xarray': None, 'xlrd': '1.2.0', 'xlwt': '1.3.0', 'numba': '0.51.2'}}\n",
      "None\n"
     ]
    }
   ],
   "source": [
    "print(pd.__version__)\n",
    "print(pd.show_versions(as_json=True))"
   ]
  },
  {
   "cell_type": "markdown",
   "metadata": {},
   "source": [
    "## Make series"
   ]
  },
  {
   "cell_type": "code",
   "execution_count": 28,
   "metadata": {
    "ExecuteTime": {
     "end_time": "2022-02-19T05:42:28.463638Z",
     "start_time": "2022-02-19T05:42:28.431639Z"
    }
   },
   "outputs": [
    {
     "data": {
      "text/plain": [
       "a     0\n",
       "b     1\n",
       "c     2\n",
       "d     3\n",
       "e     4\n",
       "f     5\n",
       "g     6\n",
       "h     7\n",
       "i     8\n",
       "j     9\n",
       "k    10\n",
       "l    11\n",
       "m    12\n",
       "n    13\n",
       "o    14\n",
       "p    15\n",
       "q    16\n",
       "r    17\n",
       "s    18\n",
       "t    19\n",
       "u    20\n",
       "v    21\n",
       "w    22\n",
       "x    23\n",
       "y    24\n",
       "z    25\n",
       "dtype: int64"
      ]
     },
     "execution_count": 28,
     "metadata": {},
     "output_type": "execute_result"
    }
   ],
   "source": [
    "import numpy as np \n",
    "mylist = list('abcdefghijklmnopqrstuvwxyz')\n",
    "myarr = np.arange(26)\n",
    "mydict = dict(zip(mylist,myarr))\n",
    "ser = pd.Series(mydict)\n",
    "ser"
   ]
  },
  {
   "cell_type": "markdown",
   "metadata": {},
   "source": [
    "## series to dataframe"
   ]
  },
  {
   "cell_type": "code",
   "execution_count": 13,
   "metadata": {},
   "outputs": [
    {
     "data": {
      "text/html": [
       "<div>\n",
       "<style scoped>\n",
       "    .dataframe tbody tr th:only-of-type {\n",
       "        vertical-align: middle;\n",
       "    }\n",
       "\n",
       "    .dataframe tbody tr th {\n",
       "        vertical-align: top;\n",
       "    }\n",
       "\n",
       "    .dataframe thead th {\n",
       "        text-align: right;\n",
       "    }\n",
       "</style>\n",
       "<table border=\"1\" class=\"dataframe\">\n",
       "  <thead>\n",
       "    <tr style=\"text-align: right;\">\n",
       "      <th></th>\n",
       "      <th>index</th>\n",
       "      <th>0</th>\n",
       "    </tr>\n",
       "  </thead>\n",
       "  <tbody>\n",
       "    <tr>\n",
       "      <th>0</th>\n",
       "      <td>a</td>\n",
       "      <td>0</td>\n",
       "    </tr>\n",
       "    <tr>\n",
       "      <th>1</th>\n",
       "      <td>b</td>\n",
       "      <td>1</td>\n",
       "    </tr>\n",
       "    <tr>\n",
       "      <th>2</th>\n",
       "      <td>c</td>\n",
       "      <td>2</td>\n",
       "    </tr>\n",
       "    <tr>\n",
       "      <th>3</th>\n",
       "      <td>d</td>\n",
       "      <td>3</td>\n",
       "    </tr>\n",
       "    <tr>\n",
       "      <th>4</th>\n",
       "      <td>e</td>\n",
       "      <td>4</td>\n",
       "    </tr>\n",
       "  </tbody>\n",
       "</table>\n",
       "</div>"
      ],
      "text/plain": [
       "  index  0\n",
       "0     a  0\n",
       "1     b  1\n",
       "2     c  2\n",
       "3     d  3\n",
       "4     e  4"
      ]
     },
     "execution_count": 13,
     "metadata": {},
     "output_type": "execute_result"
    }
   ],
   "source": [
    "# solution convert series to dataframe us to_frame fucntion\n",
    "df = ser.to_frame().reset_index()\n",
    "df.head()\n"
   ]
  },
  {
   "cell_type": "code",
   "execution_count": 18,
   "metadata": {},
   "outputs": [
    {
     "data": {
      "text/plain": [
       "0    a\n",
       "1    b\n",
       "2    c\n",
       "3    d\n",
       "4    e\n",
       "Name: letters, dtype: object"
      ]
     },
     "execution_count": 18,
     "metadata": {},
     "output_type": "execute_result"
    }
   ],
   "source": [
    "# assign name to series\n",
    "ser = pd.Series(list('abcdefghijklmnopqrstuvwxyz'))\n",
    "ser.name='letters'\n",
    "ser.head()"
   ]
  },
  {
   "cell_type": "markdown",
   "metadata": {},
   "source": [
    "## Get item from series"
   ]
  },
  {
   "cell_type": "code",
   "execution_count": 6,
   "metadata": {
    "ExecuteTime": {
     "end_time": "2022-02-19T05:30:50.679220Z",
     "start_time": "2022-02-19T05:30:50.623195Z"
    }
   },
   "outputs": [
    {
     "data": {
      "text/plain": [
       "0    1\n",
       "1    2\n",
       "2    3\n",
       "dtype: int64"
      ]
     },
     "execution_count": 6,
     "metadata": {},
     "output_type": "execute_result"
    }
   ],
   "source": [
    "# get items of series A not present in series B\n",
    "ser1 = pd.Series([1,2,3,4,5])\n",
    "ser2= pd.Series([4,5,6,7,8])\n",
    "ser1[~ser1.isin(ser2)]"
   ]
  },
  {
   "cell_type": "code",
   "execution_count": 7,
   "metadata": {
    "ExecuteTime": {
     "end_time": "2022-02-19T05:30:51.647681Z",
     "start_time": "2022-02-19T05:30:51.615660Z"
    }
   },
   "outputs": [
    {
     "data": {
      "text/plain": [
       "0    1\n",
       "1    2\n",
       "2    3\n",
       "3    4\n",
       "4    5\n",
       "5    6\n",
       "6    7\n",
       "7    8\n",
       "dtype: int64"
      ]
     },
     "execution_count": 7,
     "metadata": {},
     "output_type": "execute_result"
    }
   ],
   "source": [
    "# get items not common to both series\n",
    "# uion\n",
    "ser_u=pd.Series(np.union1d(ser1,ser2))\n",
    "ser_u\n"
   ]
  },
  {
   "cell_type": "code",
   "execution_count": 33,
   "metadata": {
    "ExecuteTime": {
     "end_time": "2022-02-19T05:45:53.065916Z",
     "start_time": "2022-02-19T05:45:53.057925Z"
    }
   },
   "outputs": [
    {
     "data": {
      "text/plain": [
       "0     True\n",
       "1     True\n",
       "2     True\n",
       "3    False\n",
       "4    False\n",
       "dtype: bool"
      ]
     },
     "execution_count": 33,
     "metadata": {},
     "output_type": "execute_result"
    }
   ],
   "source": [
    "~ser1.isin(ser2)"
   ]
  },
  {
   "cell_type": "code",
   "execution_count": 10,
   "metadata": {
    "ExecuteTime": {
     "end_time": "2022-02-19T05:32:02.014945Z",
     "start_time": "2022-02-19T05:32:01.998909Z"
    }
   },
   "outputs": [],
   "source": [
    "ser=pd.Series(np.random.random(20)) # random float total 20 in range 0 to 1\n"
   ]
  },
  {
   "cell_type": "code",
   "execution_count": 11,
   "metadata": {
    "ExecuteTime": {
     "end_time": "2022-02-19T05:32:31.601958Z",
     "start_time": "2022-02-19T05:32:31.569955Z"
    }
   },
   "outputs": [
    {
     "data": {
      "text/plain": [
       "array([4, 1, 4, 2, 2, 1, 1, 4, 8, 8, 9, 7, 2, 7, 8, 6, 3, 1, 9, 7])"
      ]
     },
     "execution_count": 11,
     "metadata": {},
     "output_type": "execute_result"
    }
   ],
   "source": [
    "np.random.randint(1,10,20) # this give random number between 1 to 10 of total 20"
   ]
  },
  {
   "cell_type": "markdown",
   "metadata": {
    "ExecuteTime": {
     "end_time": "2022-02-19T05:43:45.552836Z",
     "start_time": "2022-02-19T05:43:45.542838Z"
    }
   },
   "source": [
    "## combine series"
   ]
  },
  {
   "cell_type": "code",
   "execution_count": 30,
   "metadata": {
    "ExecuteTime": {
     "end_time": "2022-02-19T05:43:51.767942Z",
     "start_time": "2022-02-19T05:43:51.741950Z"
    }
   },
   "outputs": [
    {
     "data": {
      "text/html": [
       "<div>\n",
       "<style scoped>\n",
       "    .dataframe tbody tr th:only-of-type {\n",
       "        vertical-align: middle;\n",
       "    }\n",
       "\n",
       "    .dataframe tbody tr th {\n",
       "        vertical-align: top;\n",
       "    }\n",
       "\n",
       "    .dataframe thead th {\n",
       "        text-align: right;\n",
       "    }\n",
       "</style>\n",
       "<table border=\"1\" class=\"dataframe\">\n",
       "  <thead>\n",
       "    <tr style=\"text-align: right;\">\n",
       "      <th></th>\n",
       "      <th>0</th>\n",
       "      <th>1</th>\n",
       "    </tr>\n",
       "  </thead>\n",
       "  <tbody>\n",
       "    <tr>\n",
       "      <th>0</th>\n",
       "      <td>a</td>\n",
       "      <td>0</td>\n",
       "    </tr>\n",
       "    <tr>\n",
       "      <th>1</th>\n",
       "      <td>b</td>\n",
       "      <td>1</td>\n",
       "    </tr>\n",
       "    <tr>\n",
       "      <th>2</th>\n",
       "      <td>c</td>\n",
       "      <td>2</td>\n",
       "    </tr>\n",
       "    <tr>\n",
       "      <th>3</th>\n",
       "      <td>d</td>\n",
       "      <td>3</td>\n",
       "    </tr>\n",
       "    <tr>\n",
       "      <th>4</th>\n",
       "      <td>e</td>\n",
       "      <td>4</td>\n",
       "    </tr>\n",
       "    <tr>\n",
       "      <th>5</th>\n",
       "      <td>f</td>\n",
       "      <td>5</td>\n",
       "    </tr>\n",
       "    <tr>\n",
       "      <th>6</th>\n",
       "      <td>g</td>\n",
       "      <td>6</td>\n",
       "    </tr>\n",
       "    <tr>\n",
       "      <th>7</th>\n",
       "      <td>h</td>\n",
       "      <td>7</td>\n",
       "    </tr>\n",
       "    <tr>\n",
       "      <th>8</th>\n",
       "      <td>i</td>\n",
       "      <td>8</td>\n",
       "    </tr>\n",
       "    <tr>\n",
       "      <th>9</th>\n",
       "      <td>j</td>\n",
       "      <td>9</td>\n",
       "    </tr>\n",
       "    <tr>\n",
       "      <th>10</th>\n",
       "      <td>k</td>\n",
       "      <td>10</td>\n",
       "    </tr>\n",
       "    <tr>\n",
       "      <th>11</th>\n",
       "      <td>l</td>\n",
       "      <td>11</td>\n",
       "    </tr>\n",
       "    <tr>\n",
       "      <th>12</th>\n",
       "      <td>m</td>\n",
       "      <td>12</td>\n",
       "    </tr>\n",
       "    <tr>\n",
       "      <th>13</th>\n",
       "      <td>n</td>\n",
       "      <td>13</td>\n",
       "    </tr>\n",
       "    <tr>\n",
       "      <th>14</th>\n",
       "      <td>o</td>\n",
       "      <td>14</td>\n",
       "    </tr>\n",
       "    <tr>\n",
       "      <th>15</th>\n",
       "      <td>p</td>\n",
       "      <td>15</td>\n",
       "    </tr>\n",
       "    <tr>\n",
       "      <th>16</th>\n",
       "      <td>q</td>\n",
       "      <td>16</td>\n",
       "    </tr>\n",
       "    <tr>\n",
       "      <th>17</th>\n",
       "      <td>r</td>\n",
       "      <td>17</td>\n",
       "    </tr>\n",
       "    <tr>\n",
       "      <th>18</th>\n",
       "      <td>s</td>\n",
       "      <td>18</td>\n",
       "    </tr>\n",
       "    <tr>\n",
       "      <th>19</th>\n",
       "      <td>t</td>\n",
       "      <td>19</td>\n",
       "    </tr>\n",
       "    <tr>\n",
       "      <th>20</th>\n",
       "      <td>u</td>\n",
       "      <td>20</td>\n",
       "    </tr>\n",
       "    <tr>\n",
       "      <th>21</th>\n",
       "      <td>v</td>\n",
       "      <td>21</td>\n",
       "    </tr>\n",
       "    <tr>\n",
       "      <th>22</th>\n",
       "      <td>w</td>\n",
       "      <td>22</td>\n",
       "    </tr>\n",
       "    <tr>\n",
       "      <th>23</th>\n",
       "      <td>x</td>\n",
       "      <td>23</td>\n",
       "    </tr>\n",
       "    <tr>\n",
       "      <th>24</th>\n",
       "      <td>y</td>\n",
       "      <td>24</td>\n",
       "    </tr>\n",
       "    <tr>\n",
       "      <th>25</th>\n",
       "      <td>z</td>\n",
       "      <td>25</td>\n",
       "    </tr>\n",
       "  </tbody>\n",
       "</table>\n",
       "</div>"
      ],
      "text/plain": [
       "    0   1\n",
       "0   a   0\n",
       "1   b   1\n",
       "2   c   2\n",
       "3   d   3\n",
       "4   e   4\n",
       "5   f   5\n",
       "6   g   6\n",
       "7   h   7\n",
       "8   i   8\n",
       "9   j   9\n",
       "10  k  10\n",
       "11  l  11\n",
       "12  m  12\n",
       "13  n  13\n",
       "14  o  14\n",
       "15  p  15\n",
       "16  q  16\n",
       "17  r  17\n",
       "18  s  18\n",
       "19  t  19\n",
       "20  u  20\n",
       "21  v  21\n",
       "22  w  22\n",
       "23  x  23\n",
       "24  y  24\n",
       "25  z  25"
      ]
     },
     "execution_count": 30,
     "metadata": {},
     "output_type": "execute_result"
    }
   ],
   "source": [
    "# combine series \n",
    "serA=pd.Series(list('abcdefghijklmnopqrstuvwxyz'))\n",
    "serB = pd.Series(np.arange(26))\n",
    "pd.concat([serA,serB],axis=1)"
   ]
  },
  {
   "cell_type": "code",
   "execution_count": 27,
   "metadata": {
    "ExecuteTime": {
     "end_time": "2022-02-19T05:41:11.431244Z",
     "start_time": "2022-02-19T05:41:11.375244Z"
    }
   },
   "outputs": [
    {
     "data": {
      "text/html": [
       "<div>\n",
       "<style scoped>\n",
       "    .dataframe tbody tr th:only-of-type {\n",
       "        vertical-align: middle;\n",
       "    }\n",
       "\n",
       "    .dataframe tbody tr th {\n",
       "        vertical-align: top;\n",
       "    }\n",
       "\n",
       "    .dataframe thead th {\n",
       "        text-align: right;\n",
       "    }\n",
       "</style>\n",
       "<table border=\"1\" class=\"dataframe\">\n",
       "  <thead>\n",
       "    <tr style=\"text-align: right;\">\n",
       "      <th></th>\n",
       "      <th>letters</th>\n",
       "      <th>index</th>\n",
       "    </tr>\n",
       "  </thead>\n",
       "  <tbody>\n",
       "    <tr>\n",
       "      <th>0</th>\n",
       "      <td>a</td>\n",
       "      <td>0</td>\n",
       "    </tr>\n",
       "    <tr>\n",
       "      <th>1</th>\n",
       "      <td>b</td>\n",
       "      <td>1</td>\n",
       "    </tr>\n",
       "    <tr>\n",
       "      <th>2</th>\n",
       "      <td>c</td>\n",
       "      <td>2</td>\n",
       "    </tr>\n",
       "    <tr>\n",
       "      <th>3</th>\n",
       "      <td>d</td>\n",
       "      <td>3</td>\n",
       "    </tr>\n",
       "    <tr>\n",
       "      <th>4</th>\n",
       "      <td>e</td>\n",
       "      <td>4</td>\n",
       "    </tr>\n",
       "    <tr>\n",
       "      <th>5</th>\n",
       "      <td>f</td>\n",
       "      <td>5</td>\n",
       "    </tr>\n",
       "    <tr>\n",
       "      <th>6</th>\n",
       "      <td>g</td>\n",
       "      <td>6</td>\n",
       "    </tr>\n",
       "    <tr>\n",
       "      <th>7</th>\n",
       "      <td>h</td>\n",
       "      <td>7</td>\n",
       "    </tr>\n",
       "    <tr>\n",
       "      <th>8</th>\n",
       "      <td>i</td>\n",
       "      <td>8</td>\n",
       "    </tr>\n",
       "    <tr>\n",
       "      <th>9</th>\n",
       "      <td>j</td>\n",
       "      <td>9</td>\n",
       "    </tr>\n",
       "    <tr>\n",
       "      <th>10</th>\n",
       "      <td>k</td>\n",
       "      <td>10</td>\n",
       "    </tr>\n",
       "    <tr>\n",
       "      <th>11</th>\n",
       "      <td>l</td>\n",
       "      <td>11</td>\n",
       "    </tr>\n",
       "    <tr>\n",
       "      <th>12</th>\n",
       "      <td>m</td>\n",
       "      <td>12</td>\n",
       "    </tr>\n",
       "    <tr>\n",
       "      <th>13</th>\n",
       "      <td>n</td>\n",
       "      <td>13</td>\n",
       "    </tr>\n",
       "    <tr>\n",
       "      <th>14</th>\n",
       "      <td>o</td>\n",
       "      <td>14</td>\n",
       "    </tr>\n",
       "    <tr>\n",
       "      <th>15</th>\n",
       "      <td>p</td>\n",
       "      <td>15</td>\n",
       "    </tr>\n",
       "    <tr>\n",
       "      <th>16</th>\n",
       "      <td>q</td>\n",
       "      <td>16</td>\n",
       "    </tr>\n",
       "    <tr>\n",
       "      <th>17</th>\n",
       "      <td>r</td>\n",
       "      <td>17</td>\n",
       "    </tr>\n",
       "    <tr>\n",
       "      <th>18</th>\n",
       "      <td>s</td>\n",
       "      <td>18</td>\n",
       "    </tr>\n",
       "    <tr>\n",
       "      <th>19</th>\n",
       "      <td>t</td>\n",
       "      <td>19</td>\n",
       "    </tr>\n",
       "    <tr>\n",
       "      <th>20</th>\n",
       "      <td>u</td>\n",
       "      <td>20</td>\n",
       "    </tr>\n",
       "    <tr>\n",
       "      <th>21</th>\n",
       "      <td>v</td>\n",
       "      <td>21</td>\n",
       "    </tr>\n",
       "    <tr>\n",
       "      <th>22</th>\n",
       "      <td>w</td>\n",
       "      <td>22</td>\n",
       "    </tr>\n",
       "    <tr>\n",
       "      <th>23</th>\n",
       "      <td>x</td>\n",
       "      <td>23</td>\n",
       "    </tr>\n",
       "    <tr>\n",
       "      <th>24</th>\n",
       "      <td>y</td>\n",
       "      <td>24</td>\n",
       "    </tr>\n",
       "    <tr>\n",
       "      <th>25</th>\n",
       "      <td>z</td>\n",
       "      <td>25</td>\n",
       "    </tr>\n",
       "  </tbody>\n",
       "</table>\n",
       "</div>"
      ],
      "text/plain": [
       "   letters  index\n",
       "0        a      0\n",
       "1        b      1\n",
       "2        c      2\n",
       "3        d      3\n",
       "4        e      4\n",
       "5        f      5\n",
       "6        g      6\n",
       "7        h      7\n",
       "8        i      8\n",
       "9        j      9\n",
       "10       k     10\n",
       "11       l     11\n",
       "12       m     12\n",
       "13       n     13\n",
       "14       o     14\n",
       "15       p     15\n",
       "16       q     16\n",
       "17       r     17\n",
       "18       s     18\n",
       "19       t     19\n",
       "20       u     20\n",
       "21       v     21\n",
       "22       w     22\n",
       "23       x     23\n",
       "24       y     24\n",
       "25       z     25"
      ]
     },
     "execution_count": 27,
     "metadata": {},
     "output_type": "execute_result"
    }
   ],
   "source": [
    "# to datafrmae\n",
    "pd.DataFrame({'letters':serA,'index':serB})"
   ]
  },
  {
   "cell_type": "markdown",
   "metadata": {},
   "source": [
    "## Get minimum,25th percentile,median,75th and max of numeric series"
   ]
  },
  {
   "cell_type": "code",
   "execution_count": 42,
   "metadata": {
    "ExecuteTime": {
     "end_time": "2022-02-19T05:53:27.588738Z",
     "start_time": "2022-02-19T05:53:27.582736Z"
    }
   },
   "outputs": [],
   "source": [
    "ser = pd.Series(np.random.normal(10,5,25))"
   ]
  },
  {
   "cell_type": "code",
   "execution_count": 46,
   "metadata": {
    "ExecuteTime": {
     "end_time": "2022-02-19T05:56:22.547684Z",
     "start_time": "2022-02-19T05:56:22.528693Z"
    }
   },
   "outputs": [
    {
     "data": {
      "text/plain": [
       "array([ 2.07172127,  5.82393317,  8.28732544, 10.3324764 , 20.95435771])"
      ]
     },
     "execution_count": 46,
     "metadata": {},
     "output_type": "execute_result"
    }
   ],
   "source": [
    "np.percentile(ser,[0,25,50,75,100])"
   ]
  },
  {
   "cell_type": "markdown",
   "metadata": {
    "ExecuteTime": {
     "end_time": "2022-02-19T05:57:02.913353Z",
     "start_time": "2022-02-19T05:57:02.891375Z"
    }
   },
   "source": [
    "## Unique value in series"
   ]
  },
  {
   "cell_type": "code",
   "execution_count": 59,
   "metadata": {
    "ExecuteTime": {
     "end_time": "2022-02-19T05:58:52.459172Z",
     "start_time": "2022-02-19T05:58:52.452170Z"
    }
   },
   "outputs": [],
   "source": [
    "ser=pd.Series(np.random.randint(91,100,25))"
   ]
  },
  {
   "cell_type": "code",
   "execution_count": 61,
   "metadata": {
    "ExecuteTime": {
     "end_time": "2022-02-19T05:59:23.589519Z",
     "start_time": "2022-02-19T05:59:23.560532Z"
    }
   },
   "outputs": [
    {
     "data": {
      "text/plain": [
       "94    7\n",
       "95    4\n",
       "93    3\n",
       "99    3\n",
       "97    3\n",
       "92    2\n",
       "91    1\n",
       "98    1\n",
       "96    1\n",
       "dtype: int64"
      ]
     },
     "execution_count": 61,
     "metadata": {},
     "output_type": "execute_result"
    }
   ],
   "source": [
    "ser.value_counts()"
   ]
  },
  {
   "cell_type": "code",
   "execution_count": 68,
   "metadata": {
    "ExecuteTime": {
     "end_time": "2022-02-19T06:02:19.396783Z",
     "start_time": "2022-02-19T06:02:19.382793Z"
    }
   },
   "outputs": [],
   "source": [
    "ser[~ser.isin(ser.value_counts().index[:2])]='other'"
   ]
  },
  {
   "cell_type": "code",
   "execution_count": 69,
   "metadata": {
    "ExecuteTime": {
     "end_time": "2022-02-19T06:02:24.662552Z",
     "start_time": "2022-02-19T06:02:24.644556Z"
    }
   },
   "outputs": [
    {
     "data": {
      "text/plain": [
       "0     other\n",
       "1     other\n",
       "2     other\n",
       "3        94\n",
       "4        94\n",
       "5     other\n",
       "6     other\n",
       "7        94\n",
       "8     other\n",
       "9        94\n",
       "10    other\n",
       "11    other\n",
       "12       94\n",
       "13    other\n",
       "14    other\n",
       "15    other\n",
       "16       95\n",
       "17       95\n",
       "18       94\n",
       "19       94\n",
       "20       95\n",
       "21    other\n",
       "22    other\n",
       "23    other\n",
       "24       95\n",
       "dtype: object"
      ]
     },
     "execution_count": 69,
     "metadata": {},
     "output_type": "execute_result"
    }
   ],
   "source": [
    "ser"
   ]
  },
  {
   "cell_type": "markdown",
   "metadata": {},
   "source": [
    "## bin a numeric seriws to 10 groups"
   ]
  },
  {
   "cell_type": "code",
   "execution_count": 71,
   "metadata": {
    "ExecuteTime": {
     "end_time": "2022-02-19T06:04:00.515879Z",
     "start_time": "2022-02-19T06:04:00.502884Z"
    }
   },
   "outputs": [],
   "source": [
    "ser=pd.Series(np.random.random(20))"
   ]
  },
  {
   "cell_type": "code",
   "execution_count": 76,
   "metadata": {
    "ExecuteTime": {
     "end_time": "2022-02-19T06:08:42.649755Z",
     "start_time": "2022-02-19T06:08:42.625762Z"
    }
   },
   "outputs": [
    {
     "data": {
      "text/plain": [
       "0      6th\n",
       "1      1st\n",
       "2     10th\n",
       "3     10th\n",
       "4      1st\n",
       "5      5th\n",
       "6      2nd\n",
       "7      9th\n",
       "8      9th\n",
       "9      3rd\n",
       "10     4th\n",
       "11     3rd\n",
       "12     8th\n",
       "13     7th\n",
       "14     2nd\n",
       "15     6th\n",
       "16     4th\n",
       "17     8th\n",
       "18     5th\n",
       "19     7th\n",
       "dtype: category\n",
       "Categories (10, object): ['1st' < '2nd' < '3rd' < '4th' ... '7th' < '8th' < '9th' < '10th']"
      ]
     },
     "execution_count": 76,
     "metadata": {},
     "output_type": "execute_result"
    }
   ],
   "source": [
    "# use qcut\n",
    "pd.qcut(ser,q=[0,0.1,.2,.3,.4,.5,.6,.7,.8,.9,1],\n",
    "       labels=['1st','2nd','3rd','4th','5th','6th','7th','8th','9th','10th'])"
   ]
  },
  {
   "cell_type": "markdown",
   "metadata": {
    "ExecuteTime": {
     "end_time": "2022-02-19T06:11:25.264366Z",
     "start_time": "2022-02-19T06:11:25.249353Z"
    }
   },
   "source": [
    "## convert numpyarray to dataframe"
   ]
  },
  {
   "cell_type": "code",
   "execution_count": 97,
   "metadata": {
    "ExecuteTime": {
     "end_time": "2022-02-19T06:18:33.745167Z",
     "start_time": "2022-02-19T06:18:33.729690Z"
    }
   },
   "outputs": [
    {
     "data": {
      "text/plain": [
       "0     1\n",
       "1     6\n",
       "2     2\n",
       "3     6\n",
       "4     3\n",
       "5     7\n",
       "6     4\n",
       "7     8\n",
       "8     1\n",
       "9     8\n",
       "10    2\n",
       "11    8\n",
       "12    2\n",
       "13    1\n",
       "14    4\n",
       "15    6\n",
       "16    4\n",
       "17    7\n",
       "18    7\n",
       "19    5\n",
       "20    7\n",
       "21    3\n",
       "22    6\n",
       "23    4\n",
       "24    8\n",
       "25    3\n",
       "26    6\n",
       "27    9\n",
       "28    3\n",
       "29    9\n",
       "30    6\n",
       "31    5\n",
       "32    6\n",
       "33    1\n",
       "34    1\n",
       "dtype: int32"
      ]
     },
     "execution_count": 97,
     "metadata": {},
     "output_type": "execute_result"
    }
   ],
   "source": [
    "ser = pd.Series(np.random.randint(1,10,35))\n",
    "ser"
   ]
  },
  {
   "cell_type": "code",
   "execution_count": 83,
   "metadata": {
    "ExecuteTime": {
     "end_time": "2022-02-19T06:12:56.291444Z",
     "start_time": "2022-02-19T06:12:56.275024Z"
    }
   },
   "outputs": [
    {
     "data": {
      "text/html": [
       "<div>\n",
       "<style scoped>\n",
       "    .dataframe tbody tr th:only-of-type {\n",
       "        vertical-align: middle;\n",
       "    }\n",
       "\n",
       "    .dataframe tbody tr th {\n",
       "        vertical-align: top;\n",
       "    }\n",
       "\n",
       "    .dataframe thead th {\n",
       "        text-align: right;\n",
       "    }\n",
       "</style>\n",
       "<table border=\"1\" class=\"dataframe\">\n",
       "  <thead>\n",
       "    <tr style=\"text-align: right;\">\n",
       "      <th></th>\n",
       "      <th>num</th>\n",
       "    </tr>\n",
       "  </thead>\n",
       "  <tbody>\n",
       "    <tr>\n",
       "      <th>0</th>\n",
       "      <td>9</td>\n",
       "    </tr>\n",
       "    <tr>\n",
       "      <th>1</th>\n",
       "      <td>6</td>\n",
       "    </tr>\n",
       "    <tr>\n",
       "      <th>2</th>\n",
       "      <td>7</td>\n",
       "    </tr>\n",
       "    <tr>\n",
       "      <th>3</th>\n",
       "      <td>7</td>\n",
       "    </tr>\n",
       "    <tr>\n",
       "      <th>4</th>\n",
       "      <td>5</td>\n",
       "    </tr>\n",
       "    <tr>\n",
       "      <th>5</th>\n",
       "      <td>2</td>\n",
       "    </tr>\n",
       "    <tr>\n",
       "      <th>6</th>\n",
       "      <td>1</td>\n",
       "    </tr>\n",
       "    <tr>\n",
       "      <th>7</th>\n",
       "      <td>6</td>\n",
       "    </tr>\n",
       "    <tr>\n",
       "      <th>8</th>\n",
       "      <td>2</td>\n",
       "    </tr>\n",
       "    <tr>\n",
       "      <th>9</th>\n",
       "      <td>9</td>\n",
       "    </tr>\n",
       "    <tr>\n",
       "      <th>10</th>\n",
       "      <td>4</td>\n",
       "    </tr>\n",
       "    <tr>\n",
       "      <th>11</th>\n",
       "      <td>8</td>\n",
       "    </tr>\n",
       "    <tr>\n",
       "      <th>12</th>\n",
       "      <td>7</td>\n",
       "    </tr>\n",
       "    <tr>\n",
       "      <th>13</th>\n",
       "      <td>3</td>\n",
       "    </tr>\n",
       "    <tr>\n",
       "      <th>14</th>\n",
       "      <td>1</td>\n",
       "    </tr>\n",
       "    <tr>\n",
       "      <th>15</th>\n",
       "      <td>1</td>\n",
       "    </tr>\n",
       "    <tr>\n",
       "      <th>16</th>\n",
       "      <td>4</td>\n",
       "    </tr>\n",
       "    <tr>\n",
       "      <th>17</th>\n",
       "      <td>1</td>\n",
       "    </tr>\n",
       "    <tr>\n",
       "      <th>18</th>\n",
       "      <td>9</td>\n",
       "    </tr>\n",
       "    <tr>\n",
       "      <th>19</th>\n",
       "      <td>7</td>\n",
       "    </tr>\n",
       "    <tr>\n",
       "      <th>20</th>\n",
       "      <td>2</td>\n",
       "    </tr>\n",
       "    <tr>\n",
       "      <th>21</th>\n",
       "      <td>2</td>\n",
       "    </tr>\n",
       "    <tr>\n",
       "      <th>22</th>\n",
       "      <td>7</td>\n",
       "    </tr>\n",
       "    <tr>\n",
       "      <th>23</th>\n",
       "      <td>3</td>\n",
       "    </tr>\n",
       "    <tr>\n",
       "      <th>24</th>\n",
       "      <td>3</td>\n",
       "    </tr>\n",
       "    <tr>\n",
       "      <th>25</th>\n",
       "      <td>2</td>\n",
       "    </tr>\n",
       "    <tr>\n",
       "      <th>26</th>\n",
       "      <td>3</td>\n",
       "    </tr>\n",
       "    <tr>\n",
       "      <th>27</th>\n",
       "      <td>4</td>\n",
       "    </tr>\n",
       "    <tr>\n",
       "      <th>28</th>\n",
       "      <td>6</td>\n",
       "    </tr>\n",
       "    <tr>\n",
       "      <th>29</th>\n",
       "      <td>1</td>\n",
       "    </tr>\n",
       "    <tr>\n",
       "      <th>30</th>\n",
       "      <td>2</td>\n",
       "    </tr>\n",
       "    <tr>\n",
       "      <th>31</th>\n",
       "      <td>5</td>\n",
       "    </tr>\n",
       "    <tr>\n",
       "      <th>32</th>\n",
       "      <td>3</td>\n",
       "    </tr>\n",
       "    <tr>\n",
       "      <th>33</th>\n",
       "      <td>9</td>\n",
       "    </tr>\n",
       "    <tr>\n",
       "      <th>34</th>\n",
       "      <td>6</td>\n",
       "    </tr>\n",
       "  </tbody>\n",
       "</table>\n",
       "</div>"
      ],
      "text/plain": [
       "    num\n",
       "0     9\n",
       "1     6\n",
       "2     7\n",
       "3     7\n",
       "4     5\n",
       "5     2\n",
       "6     1\n",
       "7     6\n",
       "8     2\n",
       "9     9\n",
       "10    4\n",
       "11    8\n",
       "12    7\n",
       "13    3\n",
       "14    1\n",
       "15    1\n",
       "16    4\n",
       "17    1\n",
       "18    9\n",
       "19    7\n",
       "20    2\n",
       "21    2\n",
       "22    7\n",
       "23    3\n",
       "24    3\n",
       "25    2\n",
       "26    3\n",
       "27    4\n",
       "28    6\n",
       "29    1\n",
       "30    2\n",
       "31    5\n",
       "32    3\n",
       "33    9\n",
       "34    6"
      ]
     },
     "execution_count": 83,
     "metadata": {},
     "output_type": "execute_result"
    }
   ],
   "source": [
    "pd.DataFrame(ser,columns=['num'])"
   ]
  },
  {
   "cell_type": "code",
   "execution_count": 93,
   "metadata": {
    "ExecuteTime": {
     "end_time": "2022-02-19T06:15:26.620714Z",
     "start_time": "2022-02-19T06:15:26.604714Z"
    }
   },
   "outputs": [
    {
     "data": {
      "text/html": [
       "<div>\n",
       "<style scoped>\n",
       "    .dataframe tbody tr th:only-of-type {\n",
       "        vertical-align: middle;\n",
       "    }\n",
       "\n",
       "    .dataframe tbody tr th {\n",
       "        vertical-align: top;\n",
       "    }\n",
       "\n",
       "    .dataframe thead th {\n",
       "        text-align: right;\n",
       "    }\n",
       "</style>\n",
       "<table border=\"1\" class=\"dataframe\">\n",
       "  <thead>\n",
       "    <tr style=\"text-align: right;\">\n",
       "      <th></th>\n",
       "      <th>0</th>\n",
       "      <th>1</th>\n",
       "      <th>2</th>\n",
       "      <th>3</th>\n",
       "      <th>4</th>\n",
       "    </tr>\n",
       "  </thead>\n",
       "  <tbody>\n",
       "    <tr>\n",
       "      <th>0</th>\n",
       "      <td>9</td>\n",
       "      <td>6</td>\n",
       "      <td>7</td>\n",
       "      <td>7</td>\n",
       "      <td>5</td>\n",
       "    </tr>\n",
       "    <tr>\n",
       "      <th>1</th>\n",
       "      <td>2</td>\n",
       "      <td>1</td>\n",
       "      <td>6</td>\n",
       "      <td>2</td>\n",
       "      <td>9</td>\n",
       "    </tr>\n",
       "    <tr>\n",
       "      <th>2</th>\n",
       "      <td>4</td>\n",
       "      <td>8</td>\n",
       "      <td>7</td>\n",
       "      <td>3</td>\n",
       "      <td>1</td>\n",
       "    </tr>\n",
       "    <tr>\n",
       "      <th>3</th>\n",
       "      <td>1</td>\n",
       "      <td>4</td>\n",
       "      <td>1</td>\n",
       "      <td>9</td>\n",
       "      <td>7</td>\n",
       "    </tr>\n",
       "    <tr>\n",
       "      <th>4</th>\n",
       "      <td>2</td>\n",
       "      <td>2</td>\n",
       "      <td>7</td>\n",
       "      <td>3</td>\n",
       "      <td>3</td>\n",
       "    </tr>\n",
       "    <tr>\n",
       "      <th>5</th>\n",
       "      <td>2</td>\n",
       "      <td>3</td>\n",
       "      <td>4</td>\n",
       "      <td>6</td>\n",
       "      <td>1</td>\n",
       "    </tr>\n",
       "    <tr>\n",
       "      <th>6</th>\n",
       "      <td>2</td>\n",
       "      <td>5</td>\n",
       "      <td>3</td>\n",
       "      <td>9</td>\n",
       "      <td>6</td>\n",
       "    </tr>\n",
       "  </tbody>\n",
       "</table>\n",
       "</div>"
      ],
      "text/plain": [
       "   0  1  2  3  4\n",
       "0  9  6  7  7  5\n",
       "1  2  1  6  2  9\n",
       "2  4  8  7  3  1\n",
       "3  1  4  1  9  7\n",
       "4  2  2  7  3  3\n",
       "5  2  3  4  6  1\n",
       "6  2  5  3  9  6"
      ]
     },
     "execution_count": 93,
     "metadata": {},
     "output_type": "execute_result"
    }
   ],
   "source": [
    "pd.DataFrame(ser.values.reshape(7,5))"
   ]
  },
  {
   "cell_type": "code",
   "execution_count": 89,
   "metadata": {
    "ExecuteTime": {
     "end_time": "2022-02-19T06:14:45.881342Z",
     "start_time": "2022-02-19T06:14:45.872343Z"
    }
   },
   "outputs": [
    {
     "data": {
      "text/plain": [
       "array([[9, 6, 7, 7, 5, 2, 1, 6, 2, 9, 4, 8, 7, 3, 1, 1, 4, 1, 9, 7, 2, 2,\n",
       "        7, 3, 3, 2, 3, 4, 6, 1, 2, 5, 3, 9, 6]])"
      ]
     },
     "execution_count": 89,
     "metadata": {},
     "output_type": "execute_result"
    }
   ],
   "source": [
    "ser.values.reshape(1,35)"
   ]
  },
  {
   "cell_type": "markdown",
   "metadata": {},
   "source": [
    "## find values from series multiple of 3"
   ]
  },
  {
   "cell_type": "code",
   "execution_count": 117,
   "metadata": {
    "ExecuteTime": {
     "end_time": "2022-02-19T06:25:15.958367Z",
     "start_time": "2022-02-19T06:25:15.944377Z"
    }
   },
   "outputs": [],
   "source": [
    "ser = pd.Series(np.random.randint(1,10,12))"
   ]
  },
  {
   "cell_type": "code",
   "execution_count": 118,
   "metadata": {
    "ExecuteTime": {
     "end_time": "2022-02-19T06:25:16.240601Z",
     "start_time": "2022-02-19T06:25:16.217609Z"
    }
   },
   "outputs": [
    {
     "data": {
      "text/plain": [
       "0    9\n",
       "6    6\n",
       "7    9\n",
       "dtype: int32"
      ]
     },
     "execution_count": 118,
     "metadata": {},
     "output_type": "execute_result"
    }
   ],
   "source": [
    "ser[ser%3==0]"
   ]
  },
  {
   "cell_type": "code",
   "execution_count": 3,
   "metadata": {
    "ExecuteTime": {
     "end_time": "2022-02-19T08:02:07.827935Z",
     "start_time": "2022-02-19T08:02:07.812932Z"
    }
   },
   "outputs": [],
   "source": [
    "#np.argwhere(ser % 3==0)  # not working"
   ]
  },
  {
   "cell_type": "code",
   "execution_count": 109,
   "metadata": {
    "ExecuteTime": {
     "end_time": "2022-02-19T06:23:51.894722Z",
     "start_time": "2022-02-19T06:23:51.882694Z"
    }
   },
   "outputs": [],
   "source": [
    "## Extracg item at specifict position\n",
    "ser = pd.Series(list('abcdefghijklmnopqrstuvwxyz'))\n"
   ]
  },
  {
   "cell_type": "code",
   "execution_count": 114,
   "metadata": {
    "ExecuteTime": {
     "end_time": "2022-02-19T06:24:24.166317Z",
     "start_time": "2022-02-19T06:24:24.157338Z"
    }
   },
   "outputs": [
    {
     "data": {
      "text/plain": [
       "5     f\n",
       "4     e\n",
       "25    z\n",
       "dtype: object"
      ]
     },
     "execution_count": 114,
     "metadata": {},
     "output_type": "execute_result"
    }
   ],
   "source": [
    "ser.take([5,4,25])"
   ]
  },
  {
   "cell_type": "markdown",
   "metadata": {},
   "source": [
    "## Stack two series vertically and horizontally"
   ]
  },
  {
   "cell_type": "code",
   "execution_count": 120,
   "metadata": {
    "ExecuteTime": {
     "end_time": "2022-02-19T06:28:19.829900Z",
     "start_time": "2022-02-19T06:28:19.814914Z"
    }
   },
   "outputs": [],
   "source": [
    "ser1 = pd.Series(range(5))\n",
    "ser2 = pd.Series(list('abcde'))"
   ]
  },
  {
   "cell_type": "code",
   "execution_count": 123,
   "metadata": {
    "ExecuteTime": {
     "end_time": "2022-02-19T06:30:15.109439Z",
     "start_time": "2022-02-19T06:30:15.093443Z"
    }
   },
   "outputs": [
    {
     "data": {
      "text/plain": [
       "0    0\n",
       "1    1\n",
       "2    2\n",
       "3    3\n",
       "4    4\n",
       "0    a\n",
       "1    b\n",
       "2    c\n",
       "3    d\n",
       "4    e\n",
       "dtype: object"
      ]
     },
     "execution_count": 123,
     "metadata": {},
     "output_type": "execute_result"
    }
   ],
   "source": [
    "# vertical use append\n",
    "ser1.append(ser2)"
   ]
  },
  {
   "cell_type": "code",
   "execution_count": 126,
   "metadata": {
    "ExecuteTime": {
     "end_time": "2022-02-19T06:31:29.889909Z",
     "start_time": "2022-02-19T06:31:29.870910Z"
    }
   },
   "outputs": [
    {
     "data": {
      "text/html": [
       "<div>\n",
       "<style scoped>\n",
       "    .dataframe tbody tr th:only-of-type {\n",
       "        vertical-align: middle;\n",
       "    }\n",
       "\n",
       "    .dataframe tbody tr th {\n",
       "        vertical-align: top;\n",
       "    }\n",
       "\n",
       "    .dataframe thead th {\n",
       "        text-align: right;\n",
       "    }\n",
       "</style>\n",
       "<table border=\"1\" class=\"dataframe\">\n",
       "  <thead>\n",
       "    <tr style=\"text-align: right;\">\n",
       "      <th></th>\n",
       "      <th>0</th>\n",
       "      <th>1</th>\n",
       "    </tr>\n",
       "  </thead>\n",
       "  <tbody>\n",
       "    <tr>\n",
       "      <th>0</th>\n",
       "      <td>0</td>\n",
       "      <td>a</td>\n",
       "    </tr>\n",
       "    <tr>\n",
       "      <th>1</th>\n",
       "      <td>1</td>\n",
       "      <td>b</td>\n",
       "    </tr>\n",
       "    <tr>\n",
       "      <th>2</th>\n",
       "      <td>2</td>\n",
       "      <td>c</td>\n",
       "    </tr>\n",
       "    <tr>\n",
       "      <th>3</th>\n",
       "      <td>3</td>\n",
       "      <td>d</td>\n",
       "    </tr>\n",
       "    <tr>\n",
       "      <th>4</th>\n",
       "      <td>4</td>\n",
       "      <td>e</td>\n",
       "    </tr>\n",
       "  </tbody>\n",
       "</table>\n",
       "</div>"
      ],
      "text/plain": [
       "   0  1\n",
       "0  0  a\n",
       "1  1  b\n",
       "2  2  c\n",
       "3  3  d\n",
       "4  4  e"
      ]
     },
     "execution_count": 126,
     "metadata": {},
     "output_type": "execute_result"
    }
   ],
   "source": [
    "# horizontal use concate\n",
    "pd.concat([ser1,ser2],axis=1)"
   ]
  },
  {
   "cell_type": "code",
   "execution_count": 143,
   "metadata": {
    "ExecuteTime": {
     "end_time": "2022-02-19T06:40:28.501234Z",
     "start_time": "2022-02-19T06:40:28.477194Z"
    }
   },
   "outputs": [],
   "source": [
    "# 11 Get position of items series one in another series\n",
    "serA=pd.Series([45,23,13,4,7,65,8,12,6])\n",
    "serB = pd.Series([4,6,8])"
   ]
  },
  {
   "cell_type": "code",
   "execution_count": 144,
   "metadata": {
    "ExecuteTime": {
     "end_time": "2022-02-19T06:40:30.052991Z",
     "start_time": "2022-02-19T06:40:30.036998Z"
    }
   },
   "outputs": [
    {
     "data": {
      "text/plain": [
       "[3, 8, 6]"
      ]
     },
     "execution_count": 144,
     "metadata": {},
     "output_type": "execute_result"
    }
   ],
   "source": [
    "# get index of serB in serA\n",
    "[pd.Index(serA).get_loc(i) for i in serB]"
   ]
  },
  {
   "cell_type": "code",
   "execution_count": 152,
   "metadata": {
    "ExecuteTime": {
     "end_time": "2022-02-19T06:43:04.789963Z",
     "start_time": "2022-02-19T06:43:04.765937Z"
    }
   },
   "outputs": [
    {
     "data": {
      "text/plain": [
       "[3, 8, 6]"
      ]
     },
     "execution_count": 152,
     "metadata": {},
     "output_type": "execute_result"
    }
   ],
   "source": [
    "# get index\n",
    "[np.where(i==serA)[0].tolist()[0] for i in serB]"
   ]
  },
  {
   "cell_type": "code",
   "execution_count": 146,
   "metadata": {
    "ExecuteTime": {
     "end_time": "2022-02-19T06:41:00.834289Z",
     "start_time": "2022-02-19T06:41:00.818234Z"
    }
   },
   "outputs": [
    {
     "data": {
      "text/plain": [
       "0    45\n",
       "1    23\n",
       "2    13\n",
       "3     4\n",
       "4     7\n",
       "5    65\n",
       "6     8\n",
       "7    12\n",
       "8     6\n",
       "dtype: int64"
      ]
     },
     "execution_count": 146,
     "metadata": {},
     "output_type": "execute_result"
    }
   ],
   "source": [
    "serA"
   ]
  },
  {
   "cell_type": "markdown",
   "metadata": {},
   "source": [
    "## compoute the mean squared error on a truth and predicted series"
   ]
  },
  {
   "cell_type": "code",
   "execution_count": 6,
   "metadata": {
    "ExecuteTime": {
     "end_time": "2022-02-19T08:05:44.363224Z",
     "start_time": "2022-02-19T08:05:44.337251Z"
    }
   },
   "outputs": [],
   "source": [
    "truth=pd.Series(range(10))\n",
    "pred = pd.Series(range(10))+ np.random.random(10)"
   ]
  },
  {
   "cell_type": "code",
   "execution_count": 11,
   "metadata": {
    "ExecuteTime": {
     "end_time": "2022-02-19T08:06:51.302633Z",
     "start_time": "2022-02-19T08:06:51.284636Z"
    }
   },
   "outputs": [
    {
     "data": {
      "text/plain": [
       "0.38082603181836505"
      ]
     },
     "execution_count": 11,
     "metadata": {},
     "output_type": "execute_result"
    }
   ],
   "source": [
    "np.mean((truth-pred)**2)"
   ]
  },
  {
   "cell_type": "markdown",
   "metadata": {},
   "source": [
    "## convert first char of series in upper case"
   ]
  },
  {
   "cell_type": "code",
   "execution_count": 16,
   "metadata": {
    "ExecuteTime": {
     "end_time": "2022-02-19T08:15:55.683057Z",
     "start_time": "2022-02-19T08:15:55.667427Z"
    }
   },
   "outputs": [
    {
     "data": {
      "text/plain": [
       "0     How\n",
       "1    Here\n",
       "2     Avi\n",
       "3    Read\n",
       "4      He\n",
       "dtype: object"
      ]
     },
     "execution_count": 16,
     "metadata": {},
     "output_type": "execute_result"
    }
   ],
   "source": [
    "ser = pd.Series(['how','here','avi','read','He'])\n",
    "ser.str.capitalize()"
   ]
  },
  {
   "cell_type": "code",
   "execution_count": 19,
   "metadata": {
    "ExecuteTime": {
     "end_time": "2022-02-19T08:17:12.758001Z",
     "start_time": "2022-02-19T08:17:12.738999Z"
    }
   },
   "outputs": [
    {
     "data": {
      "text/plain": [
       "pandas.core.series.Series"
      ]
     },
     "execution_count": 19,
     "metadata": {},
     "output_type": "execute_result"
    }
   ],
   "source": [
    "ser.map(lambda x: x.title())"
   ]
  },
  {
   "cell_type": "code",
   "execution_count": null,
   "metadata": {},
   "outputs": [],
   "source": [
    "pd.Series([i.title for i in ser])"
   ]
  },
  {
   "cell_type": "code",
   "execution_count": 20,
   "metadata": {
    "ExecuteTime": {
     "end_time": "2022-02-19T08:18:50.111829Z",
     "start_time": "2022-02-19T08:18:50.094837Z"
    }
   },
   "outputs": [
    {
     "data": {
      "text/plain": [
       "0    3\n",
       "1    4\n",
       "2    3\n",
       "3    4\n",
       "4    2\n",
       "dtype: int64"
      ]
     },
     "execution_count": 20,
     "metadata": {},
     "output_type": "execute_result"
    }
   ],
   "source": [
    "# length of ser\n",
    "ser.map(lambda x: len(x))"
   ]
  },
  {
   "cell_type": "code",
   "execution_count": 29,
   "metadata": {
    "ExecuteTime": {
     "end_time": "2022-02-19T08:24:04.524935Z",
     "start_time": "2022-02-19T08:24:04.506948Z"
    }
   },
   "outputs": [],
   "source": [
    "## differance of differance between consequtive numbers of a series\n",
    "ser = pd.Series([1,3,6,10,15,21,27,35])\n"
   ]
  },
  {
   "cell_type": "code",
   "execution_count": 30,
   "metadata": {
    "ExecuteTime": {
     "end_time": "2022-02-19T08:24:04.935928Z",
     "start_time": "2022-02-19T08:24:04.915932Z"
    }
   },
   "outputs": [
    {
     "data": {
      "text/plain": [
       "[2, 3, 4, 5, 6, 6, 8]"
      ]
     },
     "execution_count": 30,
     "metadata": {},
     "output_type": "execute_result"
    }
   ],
   "source": [
    "[ser[i+1]-ser[i] for i in range(len(ser)-1)]"
   ]
  },
  {
   "cell_type": "code",
   "execution_count": 33,
   "metadata": {
    "ExecuteTime": {
     "end_time": "2022-02-19T08:25:30.012281Z",
     "start_time": "2022-02-19T08:25:29.996980Z"
    }
   },
   "outputs": [
    {
     "data": {
      "text/plain": [
       "[nan, 2.0, 3.0, 4.0, 5.0, 6.0, 6.0, 8.0]"
      ]
     },
     "execution_count": 33,
     "metadata": {},
     "output_type": "execute_result"
    }
   ],
   "source": [
    "# 1 difference\n",
    "ser.diff().to_list()"
   ]
  },
  {
   "cell_type": "code",
   "execution_count": 37,
   "metadata": {
    "ExecuteTime": {
     "end_time": "2022-02-19T08:26:00.142409Z",
     "start_time": "2022-02-19T08:26:00.135411Z"
    }
   },
   "outputs": [
    {
     "data": {
      "text/plain": [
       "[nan, nan, 1.0, 1.0, 1.0, 1.0, 0.0, 2.0]"
      ]
     },
     "execution_count": 37,
     "metadata": {},
     "output_type": "execute_result"
    }
   ],
   "source": [
    "ser.diff().diff().to_list()"
   ]
  },
  {
   "cell_type": "markdown",
   "metadata": {
    "ExecuteTime": {
     "end_time": "2022-02-19T08:26:20.083866Z",
     "start_time": "2022-02-19T08:26:20.075874Z"
    }
   },
   "source": [
    "## datestring series to timeseries"
   ]
  },
  {
   "cell_type": "code",
   "execution_count": 41,
   "metadata": {
    "ExecuteTime": {
     "end_time": "2022-02-19T08:29:31.252418Z",
     "start_time": "2022-02-19T08:29:31.245417Z"
    }
   },
   "outputs": [],
   "source": [
    "ser=pd.Series(['01 jan 2010','01-01-2011','20120303','2013/04/04','2014-05-05',\n",
    "           '2015-06-06T12:20'])"
   ]
  },
  {
   "cell_type": "code",
   "execution_count": 42,
   "metadata": {
    "ExecuteTime": {
     "end_time": "2022-02-19T08:29:32.082527Z",
     "start_time": "2022-02-19T08:29:32.045525Z"
    }
   },
   "outputs": [
    {
     "data": {
      "text/plain": [
       "0   2010-01-01 00:00:00\n",
       "1   2011-01-01 00:00:00\n",
       "2   2012-03-03 00:00:00\n",
       "3   2013-04-04 00:00:00\n",
       "4   2014-05-05 00:00:00\n",
       "5   2015-06-06 12:20:00\n",
       "dtype: datetime64[ns]"
      ]
     },
     "execution_count": 42,
     "metadata": {},
     "output_type": "execute_result"
    }
   ],
   "source": [
    "pd.to_datetime(ser)"
   ]
  },
  {
   "cell_type": "code",
   "execution_count": 43,
   "metadata": {
    "ExecuteTime": {
     "end_time": "2022-02-19T08:30:30.605610Z",
     "start_time": "2022-02-19T08:30:30.589979Z"
    }
   },
   "outputs": [
    {
     "data": {
      "text/plain": [
       "0   2010-01-01 00:00:00\n",
       "1   2011-01-01 00:00:00\n",
       "2   2012-03-03 00:00:00\n",
       "3   2013-04-04 00:00:00\n",
       "4   2014-05-05 00:00:00\n",
       "5   2015-06-06 12:20:00\n",
       "dtype: datetime64[ns]"
      ]
     },
     "execution_count": 43,
     "metadata": {},
     "output_type": "execute_result"
    }
   ],
   "source": [
    "from dateutil.parser import parse\n",
    "ser.map(lambda x: parse(x))"
   ]
  },
  {
   "cell_type": "code",
   "execution_count": 66,
   "metadata": {
    "ExecuteTime": {
     "end_time": "2022-02-19T08:39:03.563639Z",
     "start_time": "2022-02-19T08:39:03.557641Z"
    }
   },
   "outputs": [],
   "source": [
    "## Get month, week number,day of year and day of week from series\n",
    "ser = pd.Series(['01 jan 2010','02-02-2011','20120303','2013/04/04','2014-05-05',\n",
    "           '2015-06-06T12:20'])"
   ]
  },
  {
   "cell_type": "code",
   "execution_count": 67,
   "metadata": {
    "ExecuteTime": {
     "end_time": "2022-02-19T08:39:03.986478Z",
     "start_time": "2022-02-19T08:39:03.974485Z"
    }
   },
   "outputs": [
    {
     "data": {
      "text/plain": [
       "0    1\n",
       "1    2\n",
       "2    3\n",
       "3    4\n",
       "4    5\n",
       "5    6\n",
       "dtype: int64"
      ]
     },
     "execution_count": 67,
     "metadata": {},
     "output_type": "execute_result"
    }
   ],
   "source": [
    "# day\n",
    "pd.to_datetime(ser).dt.day"
   ]
  },
  {
   "cell_type": "code",
   "execution_count": 68,
   "metadata": {
    "ExecuteTime": {
     "end_time": "2022-02-19T08:39:04.532138Z",
     "start_time": "2022-02-19T08:39:04.521198Z"
    }
   },
   "outputs": [
    {
     "data": {
      "text/plain": [
       "0       Friday\n",
       "1    Wednesday\n",
       "2     Saturday\n",
       "3     Thursday\n",
       "4       Monday\n",
       "5     Saturday\n",
       "dtype: object"
      ]
     },
     "execution_count": 68,
     "metadata": {},
     "output_type": "execute_result"
    }
   ],
   "source": [
    "# month\n",
    "pd.to_datetime(ser).dt.day_name()\n",
    "\n"
   ]
  },
  {
   "cell_type": "markdown",
   "metadata": {
    "ExecuteTime": {
     "end_time": "2022-02-19T08:39:05.817123Z",
     "start_time": "2022-02-19T08:39:05.809125Z"
    }
   },
   "source": [
    "## convert year-month string to dates corrsponding 4th day of the month\n"
   ]
  },
  {
   "cell_type": "code",
   "execution_count": 80,
   "metadata": {
    "ExecuteTime": {
     "end_time": "2022-02-19T08:52:38.399123Z",
     "start_time": "2022-02-19T08:52:38.389128Z"
    }
   },
   "outputs": [],
   "source": [
    "ser = pd.Series(['Jan 2010','Feb 2011','Mar 2012'])"
   ]
  },
  {
   "cell_type": "code",
   "execution_count": 76,
   "metadata": {
    "ExecuteTime": {
     "end_time": "2022-02-19T08:46:53.156774Z",
     "start_time": "2022-02-19T08:46:53.141237Z"
    }
   },
   "outputs": [
    {
     "data": {
      "text/plain": [
       "0   2010-01-01\n",
       "1   2011-02-01\n",
       "2   2012-03-01\n",
       "dtype: datetime64[ns]"
      ]
     },
     "execution_count": 76,
     "metadata": {},
     "output_type": "execute_result"
    }
   ],
   "source": [
    "pd.to_datetime(ser)"
   ]
  },
  {
   "cell_type": "code",
   "execution_count": 78,
   "metadata": {
    "ExecuteTime": {
     "end_time": "2022-02-19T08:48:33.386830Z",
     "start_time": "2022-02-19T08:48:33.367839Z"
    }
   },
   "outputs": [
    {
     "data": {
      "text/plain": [
       "0    Jan 2010\n",
       "1    Feb 2011\n",
       "2    Mar 2012\n",
       "dtype: object"
      ]
     },
     "execution_count": 78,
     "metadata": {},
     "output_type": "execute_result"
    }
   ],
   "source": [
    "ser"
   ]
  },
  {
   "cell_type": "code",
   "execution_count": 84,
   "metadata": {
    "ExecuteTime": {
     "end_time": "2022-02-19T08:55:28.547874Z",
     "start_time": "2022-02-19T08:55:28.531873Z"
    }
   },
   "outputs": [],
   "source": [
    "from dateutil.parser import parse \n",
    "ser_date=ser.map(lambda x: parse(x))"
   ]
  },
  {
   "cell_type": "code",
   "execution_count": 86,
   "metadata": {
    "ExecuteTime": {
     "end_time": "2022-02-19T08:55:53.072800Z",
     "start_time": "2022-02-19T08:55:53.043810Z"
    }
   },
   "outputs": [],
   "source": [
    "# construct date string with date as 4\n",
    "ser_datestr = ser_date.dt.year.astype('str') + '-'+ser_date.dt.month.astype('str')+'-'+'04'"
   ]
  },
  {
   "cell_type": "code",
   "execution_count": 88,
   "metadata": {
    "ExecuteTime": {
     "end_time": "2022-02-19T08:57:02.632358Z",
     "start_time": "2022-02-19T08:57:02.620347Z"
    }
   },
   "outputs": [
    {
     "data": {
      "text/plain": [
       "['2010-01-04', '2011-02-04', '2012-03-04']"
      ]
     },
     "execution_count": 88,
     "metadata": {},
     "output_type": "execute_result"
    }
   ],
   "source": [
    "[parse(i).strftime(\"%Y-%m-%d\") for i in ser_datestr]"
   ]
  },
  {
   "cell_type": "code",
   "execution_count": 89,
   "metadata": {
    "ExecuteTime": {
     "end_time": "2022-02-19T08:57:48.163532Z",
     "start_time": "2022-02-19T08:57:48.145534Z"
    }
   },
   "outputs": [
    {
     "data": {
      "text/plain": [
       "0   2010-01-04\n",
       "1   2011-02-04\n",
       "2   2012-03-04\n",
       "dtype: datetime64[ns]"
      ]
     },
     "execution_count": 89,
     "metadata": {},
     "output_type": "execute_result"
    }
   ],
   "source": [
    "ser.map(lambda x: parse('04 '+x))"
   ]
  },
  {
   "cell_type": "markdown",
   "metadata": {},
   "source": [
    "## filter words that contain atleast two words"
   ]
  },
  {
   "cell_type": "code",
   "execution_count": 90,
   "metadata": {
    "ExecuteTime": {
     "end_time": "2022-02-19T08:59:08.141648Z",
     "start_time": "2022-02-19T08:59:08.137649Z"
    }
   },
   "outputs": [],
   "source": [
    "## filter words that contain atlearst two words\n",
    "ser = pd.Series(['Apple','Orange','Plan','Python','Money'])"
   ]
  },
  {
   "cell_type": "code",
   "execution_count": 92,
   "metadata": {
    "ExecuteTime": {
     "end_time": "2022-02-19T09:10:25.488197Z",
     "start_time": "2022-02-19T09:10:25.475202Z"
    }
   },
   "outputs": [],
   "source": [
    "from collections import Counter\n",
    "mask=ser.map(lambda x: sum([Counter(x.lower()).get(i,0) for i in list('aeiou')])>=2)"
   ]
  },
  {
   "cell_type": "code",
   "execution_count": 93,
   "metadata": {
    "ExecuteTime": {
     "end_time": "2022-02-19T09:10:30.806304Z",
     "start_time": "2022-02-19T09:10:30.791317Z"
    }
   },
   "outputs": [
    {
     "data": {
      "text/plain": [
       "0     Apple\n",
       "1    Orange\n",
       "4     Money\n",
       "dtype: object"
      ]
     },
     "execution_count": 93,
     "metadata": {},
     "output_type": "execute_result"
    }
   ],
   "source": [
    "ser[mask]"
   ]
  },
  {
   "cell_type": "markdown",
   "metadata": {},
   "source": [
    "## filter valid emails from series"
   ]
  },
  {
   "cell_type": "code",
   "execution_count": 102,
   "metadata": {
    "ExecuteTime": {
     "end_time": "2022-02-19T09:17:45.096591Z",
     "start_time": "2022-02-19T09:17:45.078619Z"
    }
   },
   "outputs": [],
   "source": [
    "emails = pd.Series(['buying books at amazon.com','rameses@egypt.com','matt@t.co','avinash@avi.com'])"
   ]
  },
  {
   "cell_type": "code",
   "execution_count": 103,
   "metadata": {
    "ExecuteTime": {
     "end_time": "2022-02-19T09:17:45.270177Z",
     "start_time": "2022-02-19T09:17:45.251182Z"
    }
   },
   "outputs": [],
   "source": [
    "pattern = '[A-Za-z0-9._%+-]+@[A-Za-z0-9.-]+\\\\.[A-Za-z]{2,4}'"
   ]
  },
  {
   "cell_type": "code",
   "execution_count": 104,
   "metadata": {
    "ExecuteTime": {
     "end_time": "2022-02-19T09:17:45.411391Z",
     "start_time": "2022-02-19T09:17:45.403389Z"
    }
   },
   "outputs": [],
   "source": [
    "import re \n",
    "mask = emails.map(lambda x: bool(re.match(pattern,x)))\n"
   ]
  },
  {
   "cell_type": "code",
   "execution_count": 105,
   "metadata": {
    "ExecuteTime": {
     "end_time": "2022-02-19T09:17:45.555487Z",
     "start_time": "2022-02-19T09:17:45.545480Z"
    }
   },
   "outputs": [
    {
     "data": {
      "text/plain": [
       "1    rameses@egypt.com\n",
       "2            matt@t.co\n",
       "3      avinash@avi.com\n",
       "dtype: object"
      ]
     },
     "execution_count": 105,
     "metadata": {},
     "output_type": "execute_result"
    }
   ],
   "source": [
    "emails[mask]"
   ]
  },
  {
   "cell_type": "code",
   "execution_count": 106,
   "metadata": {
    "ExecuteTime": {
     "end_time": "2022-02-19T09:18:32.081916Z",
     "start_time": "2022-02-19T09:18:32.058912Z"
    }
   },
   "outputs": [
    {
     "data": {
      "text/plain": [
       "0                     []\n",
       "1    [rameses@egypt.com]\n",
       "2            [matt@t.co]\n",
       "3      [avinash@avi.com]\n",
       "dtype: object"
      ]
     },
     "execution_count": 106,
     "metadata": {},
     "output_type": "execute_result"
    }
   ],
   "source": [
    "# solution 2\n",
    "emails.str.findall(pattern,flags=re.IGNORECASE)"
   ]
  },
  {
   "cell_type": "code",
   "execution_count": 107,
   "metadata": {
    "ExecuteTime": {
     "end_time": "2022-02-19T09:21:06.248334Z",
     "start_time": "2022-02-19T09:21:06.237342Z"
    }
   },
   "outputs": [],
   "source": [
    "## compute euclidean distance between two series\n",
    "p = pd.Series([1,2,3,4,5,6,7,8,9,10])\n",
    "q = pd.Series([10,9,8,7,6,5,4,3,2,1])"
   ]
  },
  {
   "cell_type": "code",
   "execution_count": 113,
   "metadata": {
    "ExecuteTime": {
     "end_time": "2022-02-19T09:25:30.317219Z",
     "start_time": "2022-02-19T09:25:30.284225Z"
    }
   },
   "outputs": [
    {
     "data": {
      "text/plain": [
       "18.16590212458495"
      ]
     },
     "execution_count": 113,
     "metadata": {},
     "output_type": "execute_result"
    }
   ],
   "source": [
    "(np.sum((p-q)**2))**0.5"
   ]
  },
  {
   "cell_type": "code",
   "execution_count": 114,
   "metadata": {
    "ExecuteTime": {
     "end_time": "2022-02-19T09:26:09.585669Z",
     "start_time": "2022-02-19T09:26:09.570685Z"
    }
   },
   "outputs": [
    {
     "data": {
      "text/plain": [
       "18.16590212458495"
      ]
     },
     "execution_count": 114,
     "metadata": {},
     "output_type": "execute_result"
    }
   ],
   "source": [
    "# usgin the formuls\n",
    "np.linalg.norm(p-q)"
   ]
  },
  {
   "cell_type": "markdown",
   "metadata": {},
   "source": [
    "## find local maxima or peaks"
   ]
  },
  {
   "cell_type": "code",
   "execution_count": 115,
   "metadata": {
    "ExecuteTime": {
     "end_time": "2022-02-19T09:27:03.147209Z",
     "start_time": "2022-02-19T09:27:03.139207Z"
    }
   },
   "outputs": [],
   "source": [
    "ser = pd.Series([2,10,3,4,9,10,2,7,3])"
   ]
  },
  {
   "cell_type": "code",
   "execution_count": 116,
   "metadata": {
    "ExecuteTime": {
     "end_time": "2022-02-19T09:29:11.415916Z",
     "start_time": "2022-02-19T09:29:11.396921Z"
    }
   },
   "outputs": [],
   "source": [
    "dd = np.diff(np.sign(np.diff(ser)))\n",
    "peak_locs = np.where(dd==-2)[0]+1"
   ]
  },
  {
   "cell_type": "code",
   "execution_count": 117,
   "metadata": {
    "ExecuteTime": {
     "end_time": "2022-02-19T09:29:18.462933Z",
     "start_time": "2022-02-19T09:29:18.434941Z"
    }
   },
   "outputs": [
    {
     "data": {
      "text/plain": [
       "array([1, 5, 7], dtype=int64)"
      ]
     },
     "execution_count": 117,
     "metadata": {},
     "output_type": "execute_result"
    }
   ],
   "source": [
    "peak_locs"
   ]
  },
  {
   "cell_type": "code",
   "execution_count": 118,
   "metadata": {
    "ExecuteTime": {
     "end_time": "2022-02-19T09:30:47.345288Z",
     "start_time": "2022-02-19T09:30:47.321291Z"
    }
   },
   "outputs": [
    {
     "name": "stdout",
     "output_type": "stream",
     "text": [
      "d    4\n",
      "     3\n",
      "e    3\n",
      "b    3\n",
      "a    2\n",
      "c    1\n",
      "g    1\n",
      "dtype: int64\n"
     ]
    },
    {
     "data": {
      "text/plain": [
       "'dbcgdebgabedggade'"
      ]
     },
     "execution_count": 118,
     "metadata": {},
     "output_type": "execute_result"
    }
   ],
   "source": [
    "# replace the string c\n",
    "\n",
    "# Input\n",
    "my_str = 'dbc deb abed gade'\n",
    "# Solution\n",
    "ser = pd.Series(list('dbc deb abed gade'))\n",
    "freq = ser.value_counts()\n",
    "print(freq)\n",
    "least_freq = freq.dropna().index[-1]\n",
    "\"\".join(ser.replace(' ', least_freq))\n"
   ]
  },
  {
   "cell_type": "markdown",
   "metadata": {},
   "source": [
    "## create TimeSeries starting '2000-01-01' and 10 weekends"
   ]
  },
  {
   "cell_type": "code",
   "execution_count": 119,
   "metadata": {
    "ExecuteTime": {
     "end_time": "2022-02-19T09:37:03.237989Z",
     "start_time": "2022-02-19T09:37:03.206256Z"
    }
   },
   "outputs": [],
   "source": [
    "ser = pd.Series(np.random.randint(1,10,10),pd.date_range('2000-01-01',periods=10,freq='W-SAT'))"
   ]
  },
  {
   "cell_type": "code",
   "execution_count": 120,
   "metadata": {
    "ExecuteTime": {
     "end_time": "2022-02-19T09:37:08.886757Z",
     "start_time": "2022-02-19T09:37:08.870770Z"
    }
   },
   "outputs": [
    {
     "data": {
      "text/plain": [
       "2000-01-01    1\n",
       "2000-01-08    3\n",
       "2000-01-15    9\n",
       "2000-01-22    9\n",
       "2000-01-29    6\n",
       "2000-02-05    5\n",
       "2000-02-12    7\n",
       "2000-02-19    8\n",
       "2000-02-26    7\n",
       "2000-03-04    8\n",
       "Freq: W-SAT, dtype: int32"
      ]
     },
     "execution_count": 120,
     "metadata": {},
     "output_type": "execute_result"
    }
   ],
   "source": [
    "\n",
    "ser"
   ]
  },
  {
   "cell_type": "markdown",
   "metadata": {
    "ExecuteTime": {
     "end_time": "2022-02-19T15:02:49.780907Z",
     "start_time": "2022-02-19T15:02:49.768897Z"
    }
   },
   "source": [
    "## fill time series so all missing dates show up with values of previous non-missing values"
   ]
  },
  {
   "cell_type": "code",
   "execution_count": 4,
   "metadata": {
    "ExecuteTime": {
     "end_time": "2022-02-19T15:07:24.604786Z",
     "start_time": "2022-02-19T15:07:24.588801Z"
    }
   },
   "outputs": [],
   "source": [
    "ser = pd.Series([1,10,3,np.nan],index=pd.to_datetime(['2000-01-01','2000-01-03','2000-01-06','2000-01-08']))"
   ]
  },
  {
   "cell_type": "code",
   "execution_count": 5,
   "metadata": {
    "ExecuteTime": {
     "end_time": "2022-02-19T15:07:37.781950Z",
     "start_time": "2022-02-19T15:07:37.750955Z"
    }
   },
   "outputs": [
    {
     "data": {
      "text/plain": [
       "2000-01-01     1.0\n",
       "2000-01-03    10.0\n",
       "2000-01-06     3.0\n",
       "2000-01-08     NaN\n",
       "dtype: float64"
      ]
     },
     "execution_count": 5,
     "metadata": {},
     "output_type": "execute_result"
    }
   ],
   "source": [
    "ser"
   ]
  },
  {
   "cell_type": "code",
   "execution_count": 6,
   "metadata": {
    "ExecuteTime": {
     "end_time": "2022-02-19T15:08:28.019332Z",
     "start_time": "2022-02-19T15:08:27.980353Z"
    }
   },
   "outputs": [
    {
     "data": {
      "text/plain": [
       "2000-01-01     1.0\n",
       "2000-01-02     1.0\n",
       "2000-01-03    10.0\n",
       "2000-01-04    10.0\n",
       "2000-01-05    10.0\n",
       "2000-01-06     3.0\n",
       "2000-01-07     3.0\n",
       "2000-01-08     NaN\n",
       "Freq: D, dtype: float64"
      ]
     },
     "execution_count": 6,
     "metadata": {},
     "output_type": "execute_result"
    }
   ],
   "source": [
    "# ffill\n",
    "ser.resample('D').ffill()"
   ]
  },
  {
   "cell_type": "code",
   "execution_count": 7,
   "metadata": {
    "ExecuteTime": {
     "end_time": "2022-02-19T15:08:57.300200Z",
     "start_time": "2022-02-19T15:08:57.276213Z"
    }
   },
   "outputs": [
    {
     "data": {
      "text/plain": [
       "2000-01-01     1.0\n",
       "2000-01-02    10.0\n",
       "2000-01-03    10.0\n",
       "2000-01-04     3.0\n",
       "2000-01-05     3.0\n",
       "2000-01-06     3.0\n",
       "2000-01-07     NaN\n",
       "2000-01-08     NaN\n",
       "Freq: D, dtype: float64"
      ]
     },
     "execution_count": 7,
     "metadata": {},
     "output_type": "execute_result"
    }
   ],
   "source": [
    "# bfill\n",
    "ser.resample(\"D\").bfill()"
   ]
  },
  {
   "cell_type": "code",
   "execution_count": 9,
   "metadata": {
    "ExecuteTime": {
     "end_time": "2022-02-19T15:10:03.459633Z",
     "start_time": "2022-02-19T15:10:03.429413Z"
    }
   },
   "outputs": [
    {
     "data": {
      "text/plain": [
       "2000-01-01     1.0\n",
       "2000-01-02     1.0\n",
       "2000-01-03    10.0\n",
       "2000-01-04    10.0\n",
       "2000-01-05    10.0\n",
       "2000-01-06     3.0\n",
       "2000-01-07     3.0\n",
       "2000-01-08     NaN\n",
       "Freq: D, dtype: float64"
      ]
     },
     "execution_count": 9,
     "metadata": {},
     "output_type": "execute_result"
    }
   ],
   "source": [
    "ser.resample('D').ffill().bfill()"
   ]
  },
  {
   "cell_type": "markdown",
   "metadata": {},
   "source": [
    "## Compute the autocorrelation of numeric series"
   ]
  },
  {
   "cell_type": "code",
   "execution_count": 10,
   "metadata": {
    "ExecuteTime": {
     "end_time": "2022-02-19T16:02:21.104275Z",
     "start_time": "2022-02-19T16:02:21.073285Z"
    }
   },
   "outputs": [],
   "source": [
    "## compute the autocorrelation of numeric series\n",
    "ser = pd.Series(np.arange(20) + np.random.normal(1,10,20))"
   ]
  },
  {
   "cell_type": "code",
   "execution_count": 15,
   "metadata": {
    "ExecuteTime": {
     "end_time": "2022-02-19T16:05:28.518822Z",
     "start_time": "2022-02-19T16:05:28.488825Z"
    }
   },
   "outputs": [
    {
     "data": {
      "text/plain": [
       "[0.63, 0.48, 0.65, 0.69, 0.5, 0.48, 0.65, 0.38, 0.12, -0.01]"
      ]
     },
     "execution_count": 15,
     "metadata": {},
     "output_type": "execute_result"
    }
   ],
   "source": [
    "autocorrelations = [ser.autocorr(i).round(2) for i in range(11)]\n",
    "autocorrelations[1:]"
   ]
  },
  {
   "cell_type": "markdown",
   "metadata": {},
   "source": [
    "## import nth row from  a csv file"
   ]
  },
  {
   "cell_type": "code",
   "execution_count": 17,
   "metadata": {
    "ExecuteTime": {
     "end_time": "2022-02-19T16:14:39.694927Z",
     "start_time": "2022-02-19T16:14:39.272193Z"
    }
   },
   "outputs": [],
   "source": [
    "# Solution 1: Use chunks and for-loop\n",
    "df = pd.read_csv('https://raw.githubusercontent.com/selva86/datasets/master/BostonHousing.csv', chunksize=50)"
   ]
  },
  {
   "cell_type": "code",
   "execution_count": 19,
   "metadata": {
    "ExecuteTime": {
     "end_time": "2022-02-19T16:15:08.247134Z",
     "start_time": "2022-02-19T16:15:08.243132Z"
    }
   },
   "outputs": [],
   "source": [
    "df2= pd.DataFrame()"
   ]
  },
  {
   "cell_type": "code",
   "execution_count": 20,
   "metadata": {
    "ExecuteTime": {
     "end_time": "2022-02-19T16:15:40.005747Z",
     "start_time": "2022-02-19T16:15:39.927763Z"
    }
   },
   "outputs": [],
   "source": [
    "for chunk in df:\n",
    "    df2 = df2.append(chunk.iloc[0,:])"
   ]
  },
  {
   "cell_type": "code",
   "execution_count": 21,
   "metadata": {
    "ExecuteTime": {
     "end_time": "2022-02-19T16:15:46.274891Z",
     "start_time": "2022-02-19T16:15:46.230895Z"
    }
   },
   "outputs": [
    {
     "data": {
      "text/html": [
       "<div>\n",
       "<style scoped>\n",
       "    .dataframe tbody tr th:only-of-type {\n",
       "        vertical-align: middle;\n",
       "    }\n",
       "\n",
       "    .dataframe tbody tr th {\n",
       "        vertical-align: top;\n",
       "    }\n",
       "\n",
       "    .dataframe thead th {\n",
       "        text-align: right;\n",
       "    }\n",
       "</style>\n",
       "<table border=\"1\" class=\"dataframe\">\n",
       "  <thead>\n",
       "    <tr style=\"text-align: right;\">\n",
       "      <th></th>\n",
       "      <th>age</th>\n",
       "      <th>b</th>\n",
       "      <th>chas</th>\n",
       "      <th>crim</th>\n",
       "      <th>dis</th>\n",
       "      <th>indus</th>\n",
       "      <th>lstat</th>\n",
       "      <th>medv</th>\n",
       "      <th>nox</th>\n",
       "      <th>ptratio</th>\n",
       "      <th>rad</th>\n",
       "      <th>rm</th>\n",
       "      <th>tax</th>\n",
       "      <th>zn</th>\n",
       "    </tr>\n",
       "  </thead>\n",
       "  <tbody>\n",
       "    <tr>\n",
       "      <th>0</th>\n",
       "      <td>65.2</td>\n",
       "      <td>396.90</td>\n",
       "      <td>0.0</td>\n",
       "      <td>0.00632</td>\n",
       "      <td>4.0900</td>\n",
       "      <td>2.31</td>\n",
       "      <td>4.98</td>\n",
       "      <td>24.0</td>\n",
       "      <td>0.538</td>\n",
       "      <td>15.3</td>\n",
       "      <td>1.0</td>\n",
       "      <td>6.575</td>\n",
       "      <td>296.0</td>\n",
       "      <td>18.0</td>\n",
       "    </tr>\n",
       "    <tr>\n",
       "      <th>50</th>\n",
       "      <td>45.7</td>\n",
       "      <td>395.56</td>\n",
       "      <td>0.0</td>\n",
       "      <td>0.08873</td>\n",
       "      <td>6.8147</td>\n",
       "      <td>5.64</td>\n",
       "      <td>13.45</td>\n",
       "      <td>19.7</td>\n",
       "      <td>0.439</td>\n",
       "      <td>16.8</td>\n",
       "      <td>4.0</td>\n",
       "      <td>5.963</td>\n",
       "      <td>243.0</td>\n",
       "      <td>21.0</td>\n",
       "    </tr>\n",
       "    <tr>\n",
       "      <th>100</th>\n",
       "      <td>79.9</td>\n",
       "      <td>394.76</td>\n",
       "      <td>0.0</td>\n",
       "      <td>0.14866</td>\n",
       "      <td>2.7778</td>\n",
       "      <td>8.56</td>\n",
       "      <td>9.42</td>\n",
       "      <td>27.5</td>\n",
       "      <td>0.520</td>\n",
       "      <td>20.9</td>\n",
       "      <td>5.0</td>\n",
       "      <td>6.727</td>\n",
       "      <td>384.0</td>\n",
       "      <td>0.0</td>\n",
       "    </tr>\n",
       "    <tr>\n",
       "      <th>150</th>\n",
       "      <td>97.3</td>\n",
       "      <td>372.80</td>\n",
       "      <td>0.0</td>\n",
       "      <td>1.65660</td>\n",
       "      <td>1.6180</td>\n",
       "      <td>19.58</td>\n",
       "      <td>14.10</td>\n",
       "      <td>21.5</td>\n",
       "      <td>0.871</td>\n",
       "      <td>14.7</td>\n",
       "      <td>5.0</td>\n",
       "      <td>6.122</td>\n",
       "      <td>403.0</td>\n",
       "      <td>0.0</td>\n",
       "    </tr>\n",
       "    <tr>\n",
       "      <th>200</th>\n",
       "      <td>13.9</td>\n",
       "      <td>384.30</td>\n",
       "      <td>0.0</td>\n",
       "      <td>0.01778</td>\n",
       "      <td>7.6534</td>\n",
       "      <td>1.47</td>\n",
       "      <td>4.45</td>\n",
       "      <td>32.9</td>\n",
       "      <td>0.403</td>\n",
       "      <td>17.0</td>\n",
       "      <td>3.0</td>\n",
       "      <td>7.135</td>\n",
       "      <td>402.0</td>\n",
       "      <td>95.0</td>\n",
       "    </tr>\n",
       "    <tr>\n",
       "      <th>250</th>\n",
       "      <td>13.0</td>\n",
       "      <td>396.28</td>\n",
       "      <td>0.0</td>\n",
       "      <td>0.14030</td>\n",
       "      <td>7.3967</td>\n",
       "      <td>5.86</td>\n",
       "      <td>5.90</td>\n",
       "      <td>24.4</td>\n",
       "      <td>0.431</td>\n",
       "      <td>19.1</td>\n",
       "      <td>7.0</td>\n",
       "      <td>6.487</td>\n",
       "      <td>330.0</td>\n",
       "      <td>22.0</td>\n",
       "    </tr>\n",
       "    <tr>\n",
       "      <th>300</th>\n",
       "      <td>47.4</td>\n",
       "      <td>390.86</td>\n",
       "      <td>0.0</td>\n",
       "      <td>0.04417</td>\n",
       "      <td>7.8278</td>\n",
       "      <td>2.24</td>\n",
       "      <td>6.07</td>\n",
       "      <td>24.8</td>\n",
       "      <td>0.400</td>\n",
       "      <td>14.8</td>\n",
       "      <td>5.0</td>\n",
       "      <td>6.871</td>\n",
       "      <td>358.0</td>\n",
       "      <td>70.0</td>\n",
       "    </tr>\n",
       "    <tr>\n",
       "      <th>350</th>\n",
       "      <td>44.4</td>\n",
       "      <td>396.90</td>\n",
       "      <td>0.0</td>\n",
       "      <td>0.06211</td>\n",
       "      <td>8.7921</td>\n",
       "      <td>1.25</td>\n",
       "      <td>5.98</td>\n",
       "      <td>22.9</td>\n",
       "      <td>0.429</td>\n",
       "      <td>19.7</td>\n",
       "      <td>1.0</td>\n",
       "      <td>6.490</td>\n",
       "      <td>335.0</td>\n",
       "      <td>40.0</td>\n",
       "    </tr>\n",
       "    <tr>\n",
       "      <th>400</th>\n",
       "      <td>100.0</td>\n",
       "      <td>396.90</td>\n",
       "      <td>0.0</td>\n",
       "      <td>25.04610</td>\n",
       "      <td>1.5888</td>\n",
       "      <td>18.10</td>\n",
       "      <td>26.77</td>\n",
       "      <td>5.6</td>\n",
       "      <td>0.693</td>\n",
       "      <td>20.2</td>\n",
       "      <td>24.0</td>\n",
       "      <td>5.987</td>\n",
       "      <td>666.0</td>\n",
       "      <td>0.0</td>\n",
       "    </tr>\n",
       "    <tr>\n",
       "      <th>450</th>\n",
       "      <td>92.6</td>\n",
       "      <td>0.32</td>\n",
       "      <td>0.0</td>\n",
       "      <td>6.71772</td>\n",
       "      <td>2.3236</td>\n",
       "      <td>18.10</td>\n",
       "      <td>17.44</td>\n",
       "      <td>13.4</td>\n",
       "      <td>0.713</td>\n",
       "      <td>20.2</td>\n",
       "      <td>24.0</td>\n",
       "      <td>6.749</td>\n",
       "      <td>666.0</td>\n",
       "      <td>0.0</td>\n",
       "    </tr>\n",
       "    <tr>\n",
       "      <th>500</th>\n",
       "      <td>79.7</td>\n",
       "      <td>396.90</td>\n",
       "      <td>0.0</td>\n",
       "      <td>0.22438</td>\n",
       "      <td>2.4982</td>\n",
       "      <td>9.69</td>\n",
       "      <td>14.33</td>\n",
       "      <td>16.8</td>\n",
       "      <td>0.585</td>\n",
       "      <td>19.2</td>\n",
       "      <td>6.0</td>\n",
       "      <td>6.027</td>\n",
       "      <td>391.0</td>\n",
       "      <td>0.0</td>\n",
       "    </tr>\n",
       "  </tbody>\n",
       "</table>\n",
       "</div>"
      ],
      "text/plain": [
       "       age       b  chas      crim     dis  indus  lstat  medv    nox  \\\n",
       "0     65.2  396.90   0.0   0.00632  4.0900   2.31   4.98  24.0  0.538   \n",
       "50    45.7  395.56   0.0   0.08873  6.8147   5.64  13.45  19.7  0.439   \n",
       "100   79.9  394.76   0.0   0.14866  2.7778   8.56   9.42  27.5  0.520   \n",
       "150   97.3  372.80   0.0   1.65660  1.6180  19.58  14.10  21.5  0.871   \n",
       "200   13.9  384.30   0.0   0.01778  7.6534   1.47   4.45  32.9  0.403   \n",
       "250   13.0  396.28   0.0   0.14030  7.3967   5.86   5.90  24.4  0.431   \n",
       "300   47.4  390.86   0.0   0.04417  7.8278   2.24   6.07  24.8  0.400   \n",
       "350   44.4  396.90   0.0   0.06211  8.7921   1.25   5.98  22.9  0.429   \n",
       "400  100.0  396.90   0.0  25.04610  1.5888  18.10  26.77   5.6  0.693   \n",
       "450   92.6    0.32   0.0   6.71772  2.3236  18.10  17.44  13.4  0.713   \n",
       "500   79.7  396.90   0.0   0.22438  2.4982   9.69  14.33  16.8  0.585   \n",
       "\n",
       "     ptratio   rad     rm    tax    zn  \n",
       "0       15.3   1.0  6.575  296.0  18.0  \n",
       "50      16.8   4.0  5.963  243.0  21.0  \n",
       "100     20.9   5.0  6.727  384.0   0.0  \n",
       "150     14.7   5.0  6.122  403.0   0.0  \n",
       "200     17.0   3.0  7.135  402.0  95.0  \n",
       "250     19.1   7.0  6.487  330.0  22.0  \n",
       "300     14.8   5.0  6.871  358.0  70.0  \n",
       "350     19.7   1.0  6.490  335.0  40.0  \n",
       "400     20.2  24.0  5.987  666.0   0.0  \n",
       "450     20.2  24.0  6.749  666.0   0.0  \n",
       "500     19.2   6.0  6.027  391.0   0.0  "
      ]
     },
     "execution_count": 21,
     "metadata": {},
     "output_type": "execute_result"
    }
   ],
   "source": [
    "df2"
   ]
  },
  {
   "cell_type": "code",
   "execution_count": null,
   "metadata": {},
   "outputs": [],
   "source": [
    "# Solution2 "
   ]
  },
  {
   "cell_type": "code",
   "execution_count": null,
   "metadata": {},
   "outputs": [],
   "source": []
  }
 ],
 "metadata": {
  "interpreter": {
   "hash": "b5cdd23c5aa57cd63174c86078fbc0df0cfd70259344bbe92a3726bf69df8658"
  },
  "kernelspec": {
   "display_name": "Python 3",
   "language": "python",
   "name": "python3"
  },
  "language_info": {
   "codemirror_mode": {
    "name": "ipython",
    "version": 3
   },
   "file_extension": ".py",
   "mimetype": "text/x-python",
   "name": "python",
   "nbconvert_exporter": "python",
   "pygments_lexer": "ipython3",
   "version": "3.8.5"
  },
  "toc": {
   "base_numbering": 1,
   "nav_menu": {},
   "number_sections": true,
   "sideBar": true,
   "skip_h1_title": false,
   "title_cell": "Table of Contents",
   "title_sidebar": "Contents",
   "toc_cell": false,
   "toc_position": {},
   "toc_section_display": true,
   "toc_window_display": false
  }
 },
 "nbformat": 4,
 "nbformat_minor": 2
}
