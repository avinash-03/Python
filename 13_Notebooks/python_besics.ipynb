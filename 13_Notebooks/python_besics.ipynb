{
 "cells": [
  {
   "cell_type": "markdown",
   "metadata": {},
   "source": [
    "# <center>   PYTHON BESICS"
   ]
  },
  {
   "cell_type": "markdown",
   "metadata": {},
   "source": [
    "# 1.Python"
   ]
  },
  {
   "cell_type": "code",
   "execution_count": 1,
   "metadata": {},
   "outputs": [
    {
     "name": "stdout",
     "output_type": "stream",
     "text": [
      "the sum 30\n"
     ]
    }
   ],
   "source": [
    "a = 10\n",
    "b = 20\n",
    "print(\"the sum\",(a+ b))\n"
   ]
  },
  {
   "cell_type": "code",
   "execution_count": null,
   "metadata": {},
   "outputs": [],
   "source": []
  },
  {
   "cell_type": "markdown",
   "metadata": {},
   "source": [
    "# 2. Identifiers"
   ]
  },
  {
   "cell_type": "markdown",
   "metadata": {},
   "source": [
    "+ A name in Python program is called identifier.\n",
    "+ It can be class name or function name or module name or variable name."
   ]
  },
  {
   "cell_type": "markdown",
   "metadata": {},
   "source": [
    "Identifier:\n",
    "   + 1. Alphabet Symbols (Either Upper case OR Lower case)\n",
    "   + 2. If Identifier is start with Underscore (_) then it indicates it is private.\n",
    "   + 3. Identifier should not start with Digits.\n",
    "   + 4. Identifiers are case sensitive.\n",
    "   + 5. We cannot use reserved words as identifiers\n",
    "    Eg: def=10 \n",
    "   + 6. There is no length limit for Python identifiers. But not recommended to use too lengthy\n",
    "    identifiers.\n",
    "   + 7. Dollor ($) Symbol is not allowed in Python."
   ]
  },
  {
   "cell_type": "markdown",
   "metadata": {},
   "source": [
    "# 3. Reserved Keyword"
   ]
  },
  {
   "cell_type": "code",
   "execution_count": 11,
   "metadata": {},
   "outputs": [
    {
     "name": "stdout",
     "output_type": "stream",
     "text": [
      "the total keyword in python are %d 36\n",
      "['False', 'None', 'True', '__peg_parser__', 'and', 'as', 'assert', 'async', 'await', 'break', 'class', 'continue', 'def', 'del', 'elif', 'else', 'except', 'finally', 'for', 'from', 'global', 'if', 'import', 'in', 'is', 'lambda', 'nonlocal', 'not', 'or', 'pass', 'raise', 'return', 'try', 'while', 'with', 'yield']\n"
     ]
    }
   ],
   "source": [
    "import keyword\n",
    "print(\"the total keyword in python are %d\",(len(keyword.kwlist)))\n",
    "print(keyword.kwlist)"
   ]
  },
  {
   "cell_type": "markdown",
   "metadata": {},
   "source": [
    "# 4. Data Type"
   ]
  },
  {
   "cell_type": "markdown",
   "metadata": {},
   "source": [
    "1. int 2. float 3.complex 4.bool\n",
    "5.str\n",
    "6.bytes\n",
    "7.bytearray\n",
    "\n",
    "                \n",
    "\n",
    "8. range\n",
    "9.list\n",
    "10.tuple\n",
    "11.set\n",
    "12.frozenset\n",
    "13.dict\n",
    "14.None"
   ]
  },
  {
   "cell_type": "code",
   "execution_count": 12,
   "metadata": {},
   "outputs": [
    {
     "name": "stdout",
     "output_type": "stream",
     "text": [
      "<class 'int'>\n",
      "2041442495056\n"
     ]
    }
   ],
   "source": [
    "a= 10\n",
    "print(type(a))\n",
    "print(id(a))"
   ]
  },
  {
   "cell_type": "markdown",
   "metadata": {},
   "source": [
    "We can represent int values in the following ways\n",
    "1. Decimal form (base-10)\n",
    "    + It is the default number system in Python\n",
    "    + The allowed digits are: 0 to 9\n",
    "    \n",
    "2. Binary form (base-2)\n",
    "    + The allowed digits are : 0 & 1\n",
    "    + Literal value should be prefixed with 0b or 0B\n",
    "\n",
    "3. Octal form(base-8)\n",
    "    + The allowed digits are : 0 to 7\n",
    "    + Literal value should be prefixed with 0o or 0O.\n",
    "\n",
    "4. Hexa decimal form(base-16)\n",
    "     + The allowed digits are : 0 to 9, a-f (both lower and upper cases are allowed)\n",
    "      + Literal value should be prefixed with 0x or 0X\n"
   ]
  },
  {
   "cell_type": "code",
   "execution_count": 17,
   "metadata": {},
   "outputs": [
    {
     "name": "stdout",
     "output_type": "stream",
     "text": [
      "10\n",
      "8\n",
      "16\n",
      "2\n"
     ]
    }
   ],
   "source": [
    "a= 10 # decimal \n",
    "b=0o10 #  octal form\n",
    "c=0X10 # Hexa decimal\n",
    "d=0B10 # Bianry form\n",
    "print(a)\n",
    "print(b)\n",
    "print(c)\n",
    "print(d)"
   ]
  },
  {
   "cell_type": "code",
   "execution_count": 23,
   "metadata": {},
   "outputs": [
    {
     "name": "stdout",
     "output_type": "stream",
     "text": [
      "binary form 1010\n"
     ]
    }
   ],
   "source": [
    "# to convert the int to binary\n",
    "a=10\n",
    "print(\"binary form\",int((bin(a))[2:]))\n"
   ]
  },
  {
   "cell_type": "code",
   "execution_count": 29,
   "metadata": {},
   "outputs": [
    {
     "data": {
      "text/plain": [
       "'0o12'"
      ]
     },
     "execution_count": 29,
     "metadata": {},
     "output_type": "execute_result"
    }
   ],
   "source": [
    "# to convert int to octal form oct()\n",
    "oct(10)"
   ]
  },
  {
   "cell_type": "code",
   "execution_count": 3,
   "metadata": {},
   "outputs": [
    {
     "data": {
      "text/plain": [
       "20"
      ]
     },
     "execution_count": 3,
     "metadata": {},
     "output_type": "execute_result"
    }
   ],
   "source": [
    "(0o12 + 0o12)"
   ]
  },
  {
   "cell_type": "code",
   "execution_count": 32,
   "metadata": {},
   "outputs": [
    {
     "data": {
      "text/plain": [
       "'0o12'"
      ]
     },
     "execution_count": 32,
     "metadata": {},
     "output_type": "execute_result"
    }
   ],
   "source": [
    "oct(0b1010)  # ob1010 -> 10"
   ]
  },
  {
   "cell_type": "code",
   "execution_count": 33,
   "metadata": {},
   "outputs": [
    {
     "data": {
      "text/plain": [
       "'0xa'"
      ]
     },
     "execution_count": 33,
     "metadata": {},
     "output_type": "execute_result"
    }
   ],
   "source": [
    "# convert int into hex\n",
    "hex(10)"
   ]
  },
  {
   "cell_type": "code",
   "execution_count": 35,
   "metadata": {},
   "outputs": [
    {
     "data": {
      "text/plain": [
       "10"
      ]
     },
     "execution_count": 35,
     "metadata": {},
     "output_type": "execute_result"
    }
   ],
   "source": [
    "0xa"
   ]
  },
  {
   "cell_type": "markdown",
   "metadata": {},
   "source": [
    "float data type     \n",
    "- The main advantage of exponential form is we can represent big values in less memory."
   ]
  },
  {
   "cell_type": "code",
   "execution_count": 37,
   "metadata": {},
   "outputs": [
    {
     "data": {
      "text/plain": [
       "2000.0"
      ]
     },
     "execution_count": 37,
     "metadata": {},
     "output_type": "execute_result"
    }
   ],
   "source": [
    "2e3"
   ]
  },
  {
   "cell_type": "code",
   "execution_count": 38,
   "metadata": {},
   "outputs": [
    {
     "ename": "SyntaxError",
     "evalue": "invalid syntax (Temp/ipykernel_13316/3641295058.py, line 1)",
     "output_type": "error",
     "traceback": [
      "\u001b[1;36m  File \u001b[1;32m\"C:\\Users\\AVINAS~1\\AppData\\Local\\Temp/ipykernel_13316/3641295058.py\"\u001b[1;36m, line \u001b[1;32m1\u001b[0m\n\u001b[1;33m    f = 0B11.01\u001b[0m\n\u001b[1;37m            ^\u001b[0m\n\u001b[1;31mSyntaxError\u001b[0m\u001b[1;31m:\u001b[0m invalid syntax\n"
     ]
    }
   ],
   "source": [
    "f = 0B11.01"
   ]
  },
  {
   "cell_type": "markdown",
   "metadata": {},
   "source": [
    "+ complex data type\n",
    "\n"
   ]
  },
  {
   "cell_type": "code",
   "execution_count": 40,
   "metadata": {},
   "outputs": [
    {
     "name": "stdout",
     "output_type": "stream",
     "text": [
      "5.0\n",
      "3.0\n"
     ]
    }
   ],
   "source": [
    "c = 5+ 3j\n",
    "print(c.real)\n",
    "print(c.imag)"
   ]
  },
  {
   "cell_type": "code",
   "execution_count": 44,
   "metadata": {},
   "outputs": [],
   "source": [
    "a=10\n",
    "b=10"
   ]
  },
  {
   "cell_type": "code",
   "execution_count": 45,
   "metadata": {},
   "outputs": [
    {
     "data": {
      "text/plain": [
       "True"
      ]
     },
     "execution_count": 45,
     "metadata": {},
     "output_type": "execute_result"
    }
   ],
   "source": [
    "a==b"
   ]
  },
  {
   "cell_type": "code",
   "execution_count": 46,
   "metadata": {},
   "outputs": [
    {
     "data": {
      "text/plain": [
       "(2041442495056, 2041442495056)"
      ]
     },
     "execution_count": 46,
     "metadata": {},
     "output_type": "execute_result"
    }
   ],
   "source": [
    "id(a),id(b)"
   ]
  },
  {
   "cell_type": "code",
   "execution_count": 49,
   "metadata": {},
   "outputs": [
    {
     "name": "stdout",
     "output_type": "stream",
     "text": [
      "b'\\n\\x14\\x1e('\n"
     ]
    }
   ],
   "source": [
    "x=[10,20,30,40]\n",
    "b = bytes(x)\n",
    "print(b)"
   ]
  },
  {
   "cell_type": "code",
   "execution_count": 50,
   "metadata": {},
   "outputs": [
    {
     "name": "stdout",
     "output_type": "stream",
     "text": [
      "10\n",
      "20\n",
      "30\n",
      "40\n"
     ]
    }
   ],
   "source": [
    "for i in b:\n",
    "    print(i)"
   ]
  },
  {
   "cell_type": "markdown",
   "metadata": {},
   "source": [
    "bytearray Data type:\n",
    "- bytearray is exactly same as bytes data type except that its elements can be modified."
   ]
  },
  {
   "cell_type": "code",
   "execution_count": 52,
   "metadata": {},
   "outputs": [
    {
     "data": {
      "text/plain": [
       "2"
      ]
     },
     "execution_count": 52,
     "metadata": {},
     "output_type": "execute_result"
    }
   ],
   "source": [
    "11>>2"
   ]
  },
  {
   "cell_type": "code",
   "execution_count": 58,
   "metadata": {},
   "outputs": [],
   "source": [
    "a=10\n",
    "a^=3"
   ]
  },
  {
   "cell_type": "code",
   "execution_count": 59,
   "metadata": {},
   "outputs": [
    {
     "data": {
      "text/plain": [
       "9"
      ]
     },
     "execution_count": 59,
     "metadata": {},
     "output_type": "execute_result"
    }
   ],
   "source": [
    "a"
   ]
  },
  {
   "cell_type": "code",
   "execution_count": 60,
   "metadata": {},
   "outputs": [],
   "source": [
    "a^=4"
   ]
  },
  {
   "cell_type": "markdown",
   "metadata": {},
   "source": [
    "# 5.Operation\n",
    "1. Arithmetic Operators\n",
    "2. Relational Operators or Comparison Operators\n",
    "3. Logical operators\n",
    "4. Bitwise oeprators\n",
    "5. Assignment operators\n",
    "6. Special operators"
   ]
  },
  {
   "cell_type": "markdown",
   "metadata": {},
   "source": [
    "1. Arithmetic Operators\n",
    "    + \"+\" ==>Addition\n",
    "    - \"-\" ==>Subtraction\n",
    "    *  \"*\"==>Multiplication\n",
    "    / ==>Division operator                       \n",
    "    % ===>Modulo operator                 \n",
    "    // ==>Floor Division operator                 \n",
    "    ** ==>Exponent operator or power operator                   \n",
    "\n",
    "2. Relational Operators or Comparison Operators\n",
    "-  `>,>=,<,<=`\n",
    "3. Logical operators\n",
    "+ `and , or ,not`\n",
    "4. Bitwise oeprators\n",
    "\n",
    "5. Assignment operators\n",
    "6. Special operators"
   ]
  },
  {
   "cell_type": "code",
   "execution_count": 9,
   "metadata": {},
   "outputs": [
    {
     "data": {
      "text/plain": [
       "''"
      ]
     },
     "execution_count": 9,
     "metadata": {},
     "output_type": "execute_result"
    }
   ],
   "source": [
    "\"\" and 'durga'"
   ]
  },
  {
   "cell_type": "code",
   "execution_count": null,
   "metadata": {},
   "outputs": [],
   "source": []
  },
  {
   "cell_type": "code",
   "execution_count": null,
   "metadata": {},
   "outputs": [],
   "source": []
  },
  {
   "cell_type": "markdown",
   "metadata": {},
   "source": [
    "+ Bitwise Operators:\n",
    "\n",
    "&,|,^,~,<<,>>\n",
    "\n",
    "& ==> If both bits are 1 then only result is 1 otherwise result is 0   \n",
    "| ==> If atleast one bit is 1 then result is 1 otherwise result is 0     \n",
    "^ ==>If bits are different then only result is 1 otherwise result is 0            \n",
    "~ ==>bitwise complement operator          \n",
    "1==>0 & 0==>1               \n",
    "<< ==>Bitwise Left shift             \n",
    "- \">>\" ==>Bitwise Right Shift           \n",
    "\n",
    "\n"
   ]
  },
  {
   "cell_type": "code",
   "execution_count": 10,
   "metadata": {},
   "outputs": [
    {
     "data": {
      "text/plain": [
       "4"
      ]
     },
     "execution_count": 10,
     "metadata": {},
     "output_type": "execute_result"
    }
   ],
   "source": [
    "4 & 5"
   ]
  },
  {
   "cell_type": "code",
   "execution_count": 13,
   "metadata": {},
   "outputs": [
    {
     "data": {
      "text/plain": [
       "2"
      ]
     },
     "execution_count": 13,
     "metadata": {},
     "output_type": "execute_result"
    }
   ],
   "source": [
    "5^7"
   ]
  },
  {
   "cell_type": "code",
   "execution_count": 14,
   "metadata": {},
   "outputs": [
    {
     "data": {
      "text/plain": [
       "-6"
      ]
     },
     "execution_count": 14,
     "metadata": {},
     "output_type": "execute_result"
    }
   ],
   "source": [
    "~5"
   ]
  },
  {
   "cell_type": "code",
   "execution_count": 17,
   "metadata": {},
   "outputs": [
    {
     "data": {
      "text/plain": [
       "'0b101'"
      ]
     },
     "execution_count": 17,
     "metadata": {},
     "output_type": "execute_result"
    }
   ],
   "source": [
    "bin(5)"
   ]
  },
  {
   "cell_type": "code",
   "execution_count": 23,
   "metadata": {},
   "outputs": [
    {
     "data": {
      "text/plain": [
       "('0b1010', '0b10', '0b101000')"
      ]
     },
     "execution_count": 23,
     "metadata": {},
     "output_type": "execute_result"
    }
   ],
   "source": [
    "bin(10),bin(2),bin(40)"
   ]
  },
  {
   "cell_type": "code",
   "execution_count": 18,
   "metadata": {},
   "outputs": [
    {
     "data": {
      "text/plain": [
       "40"
      ]
     },
     "execution_count": 18,
     "metadata": {},
     "output_type": "execute_result"
    }
   ],
   "source": [
    "# left shif operator\n",
    "10<<2``"
   ]
  },
  {
   "cell_type": "code",
   "execution_count": 26,
   "metadata": {},
   "outputs": [
    {
     "data": {
      "text/plain": [
       "2"
      ]
     },
     "execution_count": 26,
     "metadata": {},
     "output_type": "execute_result"
    }
   ],
   "source": [
    "# left shif operator\n",
    "10>>2"
   ]
  },
  {
   "cell_type": "markdown",
   "metadata": {},
   "source": [
    "# 6. String"
   ]
  },
  {
   "cell_type": "code",
   "execution_count": 35,
   "metadata": {},
   "outputs": [
    {
     "name": "stdout",
     "output_type": "stream",
     "text": [
      "6\n"
     ]
    },
    {
     "data": {
      "text/plain": [
       "[4, 5, 6]"
      ]
     },
     "execution_count": 35,
     "metadata": {},
     "output_type": "execute_result"
    }
   ],
   "source": [
    "s1=\"12-1\"\n",
    "s1=[1,23,4,5,6,-1]\n",
    "s1[-1]\n",
    "print(len(s1))\n",
    "s1[2:]"
   ]
  },
  {
   "cell_type": "markdown",
   "metadata": {},
   "source": [
    "Q. Write a program to access each character of string in forward and backward direction\n",
    "by using while loop?"
   ]
  },
  {
   "cell_type": "code",
   "execution_count": 38,
   "metadata": {},
   "outputs": [
    {
     "name": "stdout",
     "output_type": "stream",
     "text": [
      "python is very easy language"
     ]
    }
   ],
   "source": [
    "st=\"python is very easy language\"\n",
    "n=len(st)\n",
    "i=0\n",
    "while i<n:\n",
    "    print(st[i],end=\"\")\n",
    "    i+=1\n"
   ]
  },
  {
   "cell_type": "code",
   "execution_count": 43,
   "metadata": {},
   "outputs": [
    {
     "name": "stdout",
     "output_type": "stream",
     "text": [
      "egaugnal ysae yrev si nohtyp-29\n"
     ]
    }
   ],
   "source": [
    "n=len(st)\n",
    "i=-1\n",
    "while i>=-n:   # -1> -28 ->true, -29>28 -> false\n",
    "    print(st[i],end=\"\")\n",
    "    i=i-1\n"
   ]
  },
  {
   "cell_type": "code",
   "execution_count": 42,
   "metadata": {},
   "outputs": [
    {
     "name": "stdout",
     "output_type": "stream",
     "text": [
      "python is very easy language"
     ]
    }
   ],
   "source": [
    "n=-(len(st))\n",
    "while n<0:\n",
    "    print(st[n],end=\"\")\n",
    "    n+=1"
   ]
  },
  {
   "cell_type": "code",
   "execution_count": 46,
   "metadata": {},
   "outputs": [
    {
     "name": "stdout",
     "output_type": "stream",
     "text": [
      "python is very easy language"
     ]
    }
   ],
   "source": [
    "# Forword direction\n",
    "for i in st:\n",
    "    print(i,end=\"\")"
   ]
  },
  {
   "cell_type": "code",
   "execution_count": 47,
   "metadata": {},
   "outputs": [
    {
     "name": "stdout",
     "output_type": "stream",
     "text": [
      "egaugnal ysae yrev si nohtyp"
     ]
    }
   ],
   "source": [
    "# Backword direction:\n",
    "for i in st[::-1]:\n",
    "    print(i,end=\"\")"
   ]
  },
  {
   "cell_type": "code",
   "execution_count": 51,
   "metadata": {},
   "outputs": [
    {
     "data": {
      "text/plain": [
       "False"
      ]
     },
     "execution_count": 51,
     "metadata": {},
     "output_type": "execute_result"
    }
   ],
   "source": [
    "# cmparison of two strings\n",
    "s1=\"avinash\"   # it compare exactaly same string at that index\n",
    "s2=\"avinash\"\n",
    "s1==s2"
   ]
  },
  {
   "cell_type": "code",
   "execution_count": 52,
   "metadata": {},
   "outputs": [
    {
     "data": {
      "text/plain": [
       "True"
      ]
     },
     "execution_count": 52,
     "metadata": {},
     "output_type": "execute_result"
    }
   ],
   "source": [
    "s1=\"avinash\"   # it compare exactaly same string at that index\n",
    "s2=\"avinash\"\n",
    "s1==s2"
   ]
  },
  {
   "cell_type": "code",
   "execution_count": 63,
   "metadata": {},
   "outputs": [
    {
     "data": {
      "text/plain": [
       "False"
      ]
     },
     "execution_count": 63,
     "metadata": {},
     "output_type": "execute_result"
    }
   ],
   "source": [
    "s1=\"avishna\"\n",
    "s2=\"avinash\"\n",
    "s1==s2\n",
    "s1<s2"
   ]
  },
  {
   "cell_type": "code",
   "execution_count": 66,
   "metadata": {},
   "outputs": [
    {
     "data": {
      "text/plain": [
       "False"
      ]
     },
     "execution_count": 66,
     "metadata": {},
     "output_type": "execute_result"
    }
   ],
   "source": [
    "s1 = \"avziansh\"\n",
    "s2 = \"avinashsh\"\n",
    "s1<=s2  # it check the length of two string\n"
   ]
  },
  {
   "cell_type": "code",
   "execution_count": 70,
   "metadata": {},
   "outputs": [
    {
     "data": {
      "text/plain": [
       "-1"
      ]
     },
     "execution_count": 70,
     "metadata": {},
     "output_type": "execute_result"
    }
   ],
   "source": [
    "# find method\n",
    "s1.find('z') # give index of char\n",
    "s1.find('j')"
   ]
  },
  {
   "cell_type": "code",
   "execution_count": 71,
   "metadata": {},
   "outputs": [
    {
     "data": {
      "text/plain": [
       "2"
      ]
     },
     "execution_count": 71,
     "metadata": {},
     "output_type": "execute_result"
    }
   ],
   "source": [
    "# index method\n",
    "s1.index('z') # give value error if not found"
   ]
  },
  {
   "cell_type": "code",
   "execution_count": 72,
   "metadata": {},
   "outputs": [
    {
     "ename": "ValueError",
     "evalue": "substring not found",
     "output_type": "error",
     "traceback": [
      "\u001b[1;31m---------------------------------------------------------------------------\u001b[0m",
      "\u001b[1;31mValueError\u001b[0m                                Traceback (most recent call last)",
      "\u001b[1;32mC:\\Users\\AVINAS~1\\AppData\\Local\\Temp/ipykernel_5016/1247287194.py\u001b[0m in \u001b[0;36m<module>\u001b[1;34m\u001b[0m\n\u001b[1;32m----> 1\u001b[1;33m \u001b[0ms1\u001b[0m\u001b[1;33m.\u001b[0m\u001b[0mindex\u001b[0m\u001b[1;33m(\u001b[0m\u001b[1;34m'j'\u001b[0m\u001b[1;33m)\u001b[0m\u001b[1;33m\u001b[0m\u001b[1;33m\u001b[0m\u001b[0m\n\u001b[0m",
      "\u001b[1;31mValueError\u001b[0m: substring not found"
     ]
    }
   ],
   "source": [
    "s1.index('j')"
   ]
  },
  {
   "cell_type": "markdown",
   "metadata": {},
   "source": [
    "Q. Program to display all positions of substring in a given main string"
   ]
  },
  {
   "cell_type": "code",
   "execution_count": 95,
   "metadata": {},
   "outputs": [
    {
     "name": "stdout",
     "output_type": "stream",
     "text": [
      "while loop 1\n",
      "Found at position, 0\n",
      "while loop 2\n",
      "Found at position, 1\n",
      "while loop 3\n",
      "Found at position, 2\n",
      "while loop 4\n",
      "Found at position, 8\n",
      "while loop 5\n",
      "Found at position, 11\n",
      "while loop 6\n",
      "Found at position, 17\n",
      "while loop 7\n",
      "Found at position, 20\n",
      "while loop 8\n",
      "Found at position, 33\n",
      "while loop 9\n",
      "Found at position, 34\n",
      "while loop 10\n"
     ]
    }
   ],
   "source": [
    "s=\"aaadciekadkakudkeabcacbelkeuklweuaamkjdeyhe\"\n",
    "sub=\"a\"\n",
    "flag=False\n",
    "pos=-1\n",
    "n=len(s)\n",
    "loop=1\n",
    "\n",
    "while True:\n",
    "    print('while loop',loop)\n",
    "    loop+=1\n",
    "    pos=s.find(sub,pos+1,n)\n",
    "    if pos==-1:\n",
    "        break\n",
    "    print(\"Found at position,\",pos)\n",
    "    flag=True\n",
    "if flag==False:\n",
    "    print(\"Not found\")\n"
   ]
  },
  {
   "cell_type": "code",
   "execution_count": 96,
   "metadata": {},
   "outputs": [
    {
     "name": "stdout",
     "output_type": "stream",
     "text": [
      "0\n",
      "1\n",
      "2\n",
      "8\n",
      "11\n",
      "17\n",
      "20\n",
      "33\n",
      "34\n"
     ]
    }
   ],
   "source": [
    "loo=1\n",
    "ify=1\n",
    "for i in range(len(s)):\n",
    "    #print(\"while\",loo)\n",
    "    #loo+=1\n",
    "    if s[i]=='a':\n",
    "        #print(\"inf\",ify)\n",
    "        #ify+=1\n",
    "        print((i))\n"
   ]
  },
  {
   "cell_type": "code",
   "execution_count": 97,
   "metadata": {},
   "outputs": [
    {
     "data": {
      "text/plain": [
       "9"
      ]
     },
     "execution_count": 97,
     "metadata": {},
     "output_type": "execute_result"
    }
   ],
   "source": [
    "#  count method\n",
    "s.count('a')"
   ]
  },
  {
   "cell_type": "code",
   "execution_count": 98,
   "metadata": {},
   "outputs": [
    {
     "data": {
      "text/plain": [
       "2"
      ]
     },
     "execution_count": 98,
     "metadata": {},
     "output_type": "execute_result"
    }
   ],
   "source": [
    "# it also count between substring\n",
    "s.count(\"a\",21,41)"
   ]
  },
  {
   "cell_type": "code",
   "execution_count": 83,
   "metadata": {},
   "outputs": [],
   "source": [
    "# replace the string \n",
    "s=\"Learning python is very difficult\"\n",
    "s1= s.replace(\"difficult\",\"easy\") # it does not change original string"
   ]
  },
  {
   "cell_type": "code",
   "execution_count": 85,
   "metadata": {},
   "outputs": [
    {
     "data": {
      "text/plain": [
       "'Learning python is very difficult'"
      ]
     },
     "execution_count": 85,
     "metadata": {},
     "output_type": "execute_result"
    }
   ],
   "source": [
    "s"
   ]
  },
  {
   "cell_type": "code",
   "execution_count": 101,
   "metadata": {},
   "outputs": [
    {
     "data": {
      "text/plain": [
       "'bbbbbesbebbgd'"
      ]
     },
     "execution_count": 101,
     "metadata": {},
     "output_type": "execute_result"
    }
   ],
   "source": [
    "a=\"aabbbesaeaagd\"\n",
    "b=a.replace(\"a\",'b') # new object created\n",
    "b"
   ]
  },
  {
   "cell_type": "code",
   "execution_count": 109,
   "metadata": {},
   "outputs": [
    {
     "data": {
      "text/plain": [
       "'yob doog si iva'"
      ]
     },
     "execution_count": 109,
     "metadata": {},
     "output_type": "execute_result"
    }
   ],
   "source": [
    "s=\"avi is good boy\"\n",
    "s[::-1]"
   ]
  },
  {
   "cell_type": "code",
   "execution_count": 105,
   "metadata": {},
   "outputs": [
    {
     "data": {
      "text/plain": [
       "['iva', 'si', 'doog', '.yob']"
      ]
     },
     "execution_count": 105,
     "metadata": {},
     "output_type": "execute_result"
    }
   ],
   "source": [
    "s=\"avi is good boy.\"\n",
    "l=s.split()\n",
    "l1=[i[::-1] for i in s.split()]\n",
    "l1"
   ]
  },
  {
   "cell_type": "code",
   "execution_count": 106,
   "metadata": {},
   "outputs": [
    {
     "data": {
      "text/plain": [
       "'iva si doog .yob'"
      ]
     },
     "execution_count": 106,
     "metadata": {},
     "output_type": "execute_result"
    }
   ],
   "source": [
    "\" \".join(l1)"
   ]
  },
  {
   "cell_type": "code",
   "execution_count": 108,
   "metadata": {},
   "outputs": [
    {
     "data": {
      "text/plain": [
       "'iva si doog .yob'"
      ]
     },
     "execution_count": 108,
     "metadata": {},
     "output_type": "execute_result"
    }
   ],
   "source": [
    "\" \".join([i[::-1] for i in s.split()])  # in one line"
   ]
  },
  {
   "cell_type": "code",
   "execution_count": 112,
   "metadata": {},
   "outputs": [
    {
     "data": {
      "text/plain": [
       "['22', '02', '2018']"
      ]
     },
     "execution_count": 112,
     "metadata": {},
     "output_type": "execute_result"
    }
   ],
   "source": [
    "# we can use any separator default is space\n",
    "s=\"22-02-2018\"\n",
    "s.split(\"-\")"
   ]
  },
  {
   "cell_type": "code",
   "execution_count": 114,
   "metadata": {},
   "outputs": [
    {
     "data": {
      "text/plain": [
       "'sunny-bunny-chinny'"
      ]
     },
     "execution_count": 114,
     "metadata": {},
     "output_type": "execute_result"
    }
   ],
   "source": [
    "# join\n",
    "# seperator.join(group of strings)\n",
    "t=(\"sunny\",\"bunny\",\"chinny\")\n",
    "\"-\".join(t)"
   ]
  },
  {
   "cell_type": "markdown",
   "metadata": {},
   "source": [
    "- changing case of string\n",
    "    1. upper() \n",
    "    2. lower()\n",
    "    3. swapcase()\n",
    "    4. title()\n",
    "    5. capitalize()"
   ]
  },
  {
   "cell_type": "code",
   "execution_count": 121,
   "metadata": {},
   "outputs": [
    {
     "name": "stdout",
     "output_type": "stream",
     "text": [
      "upper AVINASH\n",
      "lower avinash\n",
      "swapcase aVINash\n",
      "title Avinash\n",
      "capitalize Avinash\n"
     ]
    }
   ],
   "source": [
    "s=\"avinash\"\n",
    "s2='AvinASH'\n",
    "print(\"upper\",s.upper())\n",
    "print(\"lower\",s.lower())\n",
    "print(\"swapcase\",s2.swapcase())\n",
    "print(\"title\",s2.title())\n",
    "print(\"capitalize\",s2.capitalize())"
   ]
  },
  {
   "cell_type": "markdown",
   "metadata": {},
   "source": [
    "+ check type of char present in string\n",
    "    1. isalnum()-> alphanumeric\n",
    "    2. isalpha() -> a-z A-Z\n",
    "    3. isdigit() -> 0-9\n",
    "    4. islower()\n",
    "    5. isupper()\n",
    "    6. istitle()\n",
    "    7. isspace()\n"
   ]
  },
  {
   "cell_type": "code",
   "execution_count": 123,
   "metadata": {},
   "outputs": [
    {
     "data": {
      "text/plain": [
       "False"
      ]
     },
     "execution_count": 123,
     "metadata": {},
     "output_type": "execute_result"
    }
   ],
   "source": [
    "s=\"   avi\"\n",
    "s.isspace()"
   ]
  },
  {
   "cell_type": "code",
   "execution_count": 130,
   "metadata": {},
   "outputs": [
    {
     "name": "stdout",
     "output_type": "stream",
     "text": [
      "Alpha Numeric Character\n",
      "Alphabet character\n",
      "Lower case alphabet character\n"
     ]
    }
   ],
   "source": [
    "s=input(\"Enter any character:\")\n",
    "if s.isalnum():\n",
    "    print(\"Alpha Numeric Character\")\n",
    "    if s.isalpha():\n",
    "        print(\"Alphabet character\")\n",
    "        if s.islower():\n",
    "            print(\"Lower case alphabet character\")\n",
    "        else:\n",
    "            print(\"Upper case alphabet character\")\n",
    "    elif s.isnumeric():\n",
    "        print(\"it is a digit\")\n",
    "elif s.isspace():\n",
    "    print(\"It is space character\")\n",
    "else:\n",
    "     print(\"Non Space Special Character\")"
   ]
  },
  {
   "cell_type": "code",
   "execution_count": 133,
   "metadata": {},
   "outputs": [
    {
     "name": "stdout",
     "output_type": "stream",
     "text": [
      "avi's salary is 29 and his age 17000\n"
     ]
    }
   ],
   "source": [
    "# formattiong the string\n",
    "name = 'avi'\n",
    "salary=17000\n",
    "age = 29\n",
    "print(\"{0}'s salary is {2} and his age {1}\".format(name,salary,age))"
   ]
  },
  {
   "cell_type": "code",
   "execution_count": 141,
   "metadata": {},
   "outputs": [
    {
     "data": {
      "text/plain": [
       "'yob doog si hsaniva'"
      ]
     },
     "execution_count": 141,
     "metadata": {},
     "output_type": "execute_result"
    }
   ],
   "source": [
    "s=\"avinash is good boy\"\n",
    "\"\".join(reversed(s))"
   ]
  },
  {
   "cell_type": "code",
   "execution_count": 142,
   "metadata": {},
   "outputs": [
    {
     "data": {
      "text/plain": [
       "'yob doog si iva'"
      ]
     },
     "execution_count": 142,
     "metadata": {},
     "output_type": "execute_result"
    }
   ],
   "source": [
    "# 3rd way\n",
    "s=\"avi is good boy\"\n",
    "target=\"\"\n",
    "i=len(s)-1\n",
    "while i>=0:\n",
    "    target=target+s[i]\n",
    "    i-=1\n",
    "target"
   ]
  },
  {
   "cell_type": "code",
   "execution_count": 145,
   "metadata": {},
   "outputs": [
    {
     "data": {
      "text/plain": [
       "'easy! very is python Learning'"
      ]
     },
     "execution_count": 145,
     "metadata": {},
     "output_type": "execute_result"
    }
   ],
   "source": [
    "# programe to reverse order of WORD\n",
    "s=\"Learning python is very easy!\"\n",
    "# output \"easy! very is python Learning\"\n",
    "l=s.split()\n",
    "\" \".join(l[::-1])"
   ]
  },
  {
   "cell_type": "code",
   "execution_count": 150,
   "metadata": {},
   "outputs": [
    {
     "name": "stdout",
     "output_type": "stream",
     "text": [
      "easy! very is python Learning\n"
     ]
    }
   ],
   "source": [
    "s=\"Learning python is very easy!\"\n",
    "l=s.split()\n",
    "l1=[]\n",
    "i=len(l)-1\n",
    "while i>=0:\n",
    "    l1.append(l[i])\n",
    "    i-=1\n",
    "\n",
    "output=\" \".join(l1)\n",
    "print(output)"
   ]
  },
  {
   "cell_type": "code",
   "execution_count": 151,
   "metadata": {},
   "outputs": [
    {
     "name": "stdout",
     "output_type": "stream",
     "text": [
      "gninraeL nohtyp si yrev !ysae\n"
     ]
    }
   ],
   "source": [
    "# reverse order of word\n",
    "l1=[]\n",
    "i=0\n",
    "while i<len(l):\n",
    "    l1.append(l[i][::-1])\n",
    "    i+=1\n",
    "output=\" \".join(l1)\n",
    "print(output )\n"
   ]
  },
  {
   "cell_type": "code",
   "execution_count": 152,
   "metadata": {},
   "outputs": [
    {
     "data": {
      "text/plain": [
       "'gninraeL nohtyp si yrev !ysae'"
      ]
     },
     "execution_count": 152,
     "metadata": {},
     "output_type": "execute_result"
    }
   ],
   "source": [
    "s=\"Learning python is very easy!\"\n",
    "\" \".join(s.split()[::-1])[::-1]"
   ]
  },
  {
   "cell_type": "markdown",
   "metadata": {},
   "source": [
    "Q5. Program to merge characters of 2 strings into a single string by taking characters\n",
    "alternatively."
   ]
  },
  {
   "cell_type": "code",
   "execution_count": 153,
   "metadata": {},
   "outputs": [
    {
     "name": "stdout",
     "output_type": "stream",
     "text": [
      "agvoidnba\n"
     ]
    }
   ],
   "source": [
    "s1=\"avina\"\n",
    "s2=\"godb\"\n",
    "output=\"\"\n",
    "i,j=0,0\n",
    "while i<len(s1) or j<len(s2):\n",
    "    if i<len(s1):\n",
    "        output=output+s1[i]\n",
    "        i+=1\n",
    "    if j<len(s2):\n",
    "        output=output+s2[j]\n",
    "        j+=1\n",
    "print(output)"
   ]
  },
  {
   "cell_type": "markdown",
   "metadata": {},
   "source": [
    "Q6. Write a program to sort the characters of the string and first alphabet symbols\n",
    "followed by numeric values"
   ]
  },
  {
   "cell_type": "code",
   "execution_count": 165,
   "metadata": {},
   "outputs": [
    {
     "name": "stdout",
     "output_type": "stream",
     "text": [
      "ABD134\n"
     ]
    }
   ],
   "source": [
    "s='B4A1D3'\n",
    "# output=ABD134\n",
    "s1=s2=output=\"\"\n",
    "for x in s:\n",
    "    if x.isalpha():\n",
    "        s1+=x\n",
    "    else:\n",
    "        s2+=x\n",
    "for x in sorted(s1):\n",
    "    output=output+x\n",
    "for x in sorted(s2):\n",
    "    output=output+x\n",
    "\n",
    "print(output)"
   ]
  },
  {
   "cell_type": "markdown",
   "metadata": {},
   "source": [
    "Q7. Write a program for the following requirement"
   ]
  },
  {
   "cell_type": "code",
   "execution_count": 171,
   "metadata": {},
   "outputs": [
    {
     "name": "stdout",
     "output_type": "stream",
     "text": [
      "aaaabbbcc\n"
     ]
    }
   ],
   "source": [
    "s='a4b3c2'\n",
    "# output = aaaabbbcc\n",
    "output=\"\"\n",
    " \n",
    "for x in s:\n",
    "    if x.isalpha():\n",
    "        #output=output+x\n",
    "        privious=x\n",
    "    else:\n",
    "        #output=output+privious*(int(x)-1)\n",
    "        output+=privious*int(x)\n",
    "print(output)"
   ]
  },
  {
   "cell_type": "markdown",
   "metadata": {},
   "source": [
    "- A-Z start from 65-90\n",
    "- a-z start from 97 to 122\n",
    "- to see specific charecter number use `ord(z)-> 122`\n",
    "- to see specific number using charactere use `chr(122)->z`"
   ]
  },
  {
   "cell_type": "code",
   "execution_count": 191,
   "metadata": {},
   "outputs": [
    {
     "data": {
      "text/plain": [
       "122"
      ]
     },
     "execution_count": 191,
     "metadata": {},
     "output_type": "execute_result"
    }
   ],
   "source": [
    "ord(\"z\")  "
   ]
  },
  {
   "cell_type": "code",
   "execution_count": 178,
   "metadata": {},
   "outputs": [
    {
     "data": {
      "text/plain": [
       "('\\x01', 97)"
      ]
     },
     "execution_count": 178,
     "metadata": {},
     "output_type": "execute_result"
    }
   ],
   "source": [
    "chr(1),ord(\"a\")"
   ]
  },
  {
   "cell_type": "code",
   "execution_count": 180,
   "metadata": {},
   "outputs": [
    {
     "data": {
      "text/plain": [
       "'z'"
      ]
     },
     "execution_count": 180,
     "metadata": {},
     "output_type": "execute_result"
    }
   ],
   "source": [
    "chr(97+25)"
   ]
  },
  {
   "cell_type": "code",
   "execution_count": 183,
   "metadata": {},
   "outputs": [
    {
     "data": {
      "text/plain": [
       "65"
      ]
     },
     "execution_count": 183,
     "metadata": {},
     "output_type": "execute_result"
    }
   ],
   "source": [
    "ord('A')"
   ]
  },
  {
   "cell_type": "code",
   "execution_count": 186,
   "metadata": {},
   "outputs": [
    {
     "data": {
      "text/plain": [
       "'Z'"
      ]
     },
     "execution_count": 186,
     "metadata": {},
     "output_type": "execute_result"
    }
   ],
   "source": [
    "chr(64+26)"
   ]
  },
  {
   "cell_type": "code",
   "execution_count": 189,
   "metadata": {},
   "outputs": [
    {
     "data": {
      "text/plain": [
       "'Z'"
      ]
     },
     "execution_count": 189,
     "metadata": {},
     "output_type": "execute_result"
    }
   ],
   "source": [
    "chr(90)"
   ]
  },
  {
   "cell_type": "code",
   "execution_count": 190,
   "metadata": {},
   "outputs": [
    {
     "ename": "TypeError",
     "evalue": "'builtin_function_or_method' object is not iterable",
     "output_type": "error",
     "traceback": [
      "\u001b[1;31m---------------------------------------------------------------------------\u001b[0m",
      "\u001b[1;31mTypeError\u001b[0m                                 Traceback (most recent call last)",
      "\u001b[1;32mC:\\Users\\AVINAS~1\\AppData\\Local\\Temp/ipykernel_5016/995082522.py\u001b[0m in \u001b[0;36m<module>\u001b[1;34m\u001b[0m\n\u001b[1;32m----> 1\u001b[1;33m \u001b[0mlist\u001b[0m\u001b[1;33m(\u001b[0m\u001b[0mchr\u001b[0m\u001b[1;33m)\u001b[0m\u001b[1;33m\u001b[0m\u001b[1;33m\u001b[0m\u001b[0m\n\u001b[0m",
      "\u001b[1;31mTypeError\u001b[0m: 'builtin_function_or_method' object is not iterable"
     ]
    }
   ],
   "source": []
  },
  {
   "cell_type": "markdown",
   "metadata": {},
   "source": [
    "- Case-2: Formatting Numbers\n",
    "  1.  d--->Decimal IntEger\n",
    "  2.  f----->Fixed point number(float).The default precision is 6\n",
    "  3. b-->Binary format\n",
    "   4. o--->Octal Format\n",
    "  5. x-->Hexa Decimal Format(Lower case)\n",
    "   6. X-->Hexa Decimal Format(Upper case)"
   ]
  },
  {
   "cell_type": "code",
   "execution_count": 194,
   "metadata": {},
   "outputs": [
    {
     "name": "stdout",
     "output_type": "stream",
     "text": [
      "The intEger number is: 123\n",
      "The intEger number is: 123\n",
      "The intEger number is:   123\n",
      "The intEger number is: 00123\n"
     ]
    }
   ],
   "source": [
    "# Eg.-3 : int\n",
    "print(\"The intEger number is: {}\".format(123))\n",
    "print(\"The intEger number is: {:d}\".format(123))\n",
    "print(\"The intEger number is: {:5d}\".format(123))\n",
    "print(\"The intEger number is: {:05d}\".format(123))"
   ]
  },
  {
   "cell_type": "code",
   "execution_count": 195,
   "metadata": {},
   "outputs": [
    {
     "name": "stdout",
     "output_type": "stream",
     "text": [
      "The float number is: 123.4567\n",
      "The float number is: 123.456700\n",
      "The float number is:  123.457\n",
      "The float number is: 0123.457\n",
      "The float number is: 0123.450\n",
      "The float number is: 786786123.450\n"
     ]
    }
   ],
   "source": [
    "#Eg-2: float\n",
    "print(\"The float number is: {}\".format(123.4567))\n",
    "print(\"The float number is: {:f}\".format(123.4567))\n",
    "print(\"The float number is: {:8.3f}\".format(123.4567))\n",
    "print(\"The float number is: {:08.3f}\".format(123.4567))\n",
    "print(\"The float number is: {:08.3f}\".format(123.45))\n",
    "print(\"The float number is: {:08.3f}\".format(786786123.45))"
   ]
  },
  {
   "cell_type": "code",
   "execution_count": 196,
   "metadata": {},
   "outputs": [
    {
     "name": "stdout",
     "output_type": "stream",
     "text": [
      "Binary Form:10011001\n",
      "Octal Form:231\n",
      "Hexa decimal Form:9a\n",
      "Hexa decimal Form:9A\n"
     ]
    }
   ],
   "source": [
    "#Eg-3: Print Decimal value in binary, octal and hexadecimal form\n",
    "print(\"Binary Form:{0:b}\".format(153))\n",
    "print(\"Octal Form:{0:o}\".format(153))\n",
    "print(\"Hexa decimal Form:{0:x}\".format(154))\n",
    "print(\"Hexa decimal Form:{0:X}\".format(154))"
   ]
  },
  {
   "cell_type": "markdown",
   "metadata": {},
   "source": [
    "Case-3: Number formatting for signed numbers\n",
    "While displaying positive numbers,if we want to include + then we have to write\n",
    "`{:+d}` and `{:+f}`"
   ]
  },
  {
   "cell_type": "code",
   "execution_count": 200,
   "metadata": {},
   "outputs": [
    {
     "name": "stdout",
     "output_type": "stream",
     "text": [
      "int value with sign:123\n",
      "int value with sign:-123\n",
      "float value with sign:+123.456000\n",
      "float value with sign:-123.456000\n"
     ]
    }
   ],
   "source": [
    "print(\"int value with sign:{:+d}\".format(123))\n",
    "print(\"int value with sign:{:+d}\".format(-123))\n",
    "print(\"float value with sign:{:+f}\".format(123.456))\n",
    "print(\"float value with sign:{:+f}\".format(-123.456))"
   ]
  },
  {
   "cell_type": "markdown",
   "metadata": {},
   "source": [
    "Case-4: Number formatting with alignment\n",
    "- <,>,^ and = are used for alignment\n",
    "   1. <==>Left Alignment to the remaining space\n",
    "    2. ^===>Center alignment to the remaining space\n",
    "    3. '>'===> Right alignment to the remaining space\n",
    "    4. '=' ===>Forces the signed(+) (-) to the left most position"
   ]
  },
  {
   "cell_type": "code",
   "execution_count": 201,
   "metadata": {},
   "outputs": [
    {
     "name": "stdout",
     "output_type": "stream",
     "text": [
      "   12\n",
      "12   \n",
      "12000\n",
      "   12\n",
      "00012\n",
      " 12  \n",
      "-  12\n",
      "  12.235  \n",
      "- 12.235\n"
     ]
    }
   ],
   "source": [
    " print(\"{:5d}\".format(12)) #   12;\n",
    " print(\"{:<5d}\".format(12)) #12    ;\n",
    " print(\"{:<05d}\".format(12)) #12000; \n",
    " print(\"{:>5d}\".format(12)) #     12;\n",
    " print(\"{:>05d}\".format(12)) #00012;\n",
    " print(\"{:^5d}\".format(12)) #  12  ;\n",
    " print(\"{:=5d}\".format(-12)) #-   12;\n",
    " print(\"{:^10.3f}\".format(12.23456)) #   12.235;\n",
    " print(\"{:=8.3f}\".format(-12.23456)) #- 12.235;"
   ]
  },
  {
   "cell_type": "markdown",
   "metadata": {},
   "source": [
    "Case-5: String formatting with format()\n",
    "Similar to numbers, we can format String values also with format() method.\n",
    "s.format(string)"
   ]
  },
  {
   "cell_type": "code",
   "execution_count": 202,
   "metadata": {},
   "outputs": [
    {
     "name": "stdout",
     "output_type": "stream",
     "text": [
      "   12\n",
      "rat  \n",
      "  rat\n",
      "rat  \n",
      " rat \n",
      "*rat*\n"
     ]
    }
   ],
   "source": [
    "print(\"{:5d}\".format(12))\n",
    "print(\"{:5}\".format(\"rat\"))\n",
    "print(\"{:>5}\".format(\"rat\"))\n",
    "print(\"{:<5}\".format(\"rat\"))\n",
    "print(\"{:^5}\".format(\"rat\"))\n",
    "print(\"{:*^5}\".format(\"rat\")) #Instead of * we can use any character(like +,$,a etc)"
   ]
  },
  {
   "cell_type": "code",
   "execution_count": 203,
   "metadata": {},
   "outputs": [
    {
     "name": "stdout",
     "output_type": "stream",
     "text": [
      "dur\n",
      "dur  \n",
      "  dur\n",
      " dur \n",
      "*dur*\n"
     ]
    }
   ],
   "source": [
    "# Case-6: Truncating Strings with format() method\n",
    "print(\"{:.3}\".format(\"durgasoftware\"))\n",
    "print(\"{:5.3}\".format(\"durgasoftware\"))\n",
    "print(\"{:>5.3}\".format(\"durgasoftware\"))\n",
    "print(\"{:^5.3}\".format(\"durgasoftware\"))\n",
    "print(\"{:*^5.3}\".format(\"durgasoftware\"))"
   ]
  },
  {
   "cell_type": "code",
   "execution_count": 206,
   "metadata": {},
   "outputs": [
    {
     "name": "stdout",
     "output_type": "stream",
     "text": [
      "durga's age is: 48\n"
     ]
    }
   ],
   "source": [
    "person={'age':48,'name':'durga'}\n",
    "print(\"{p[name]}'s age is: {p[age]}\".format(p=person))"
   ]
  },
  {
   "cell_type": "code",
   "execution_count": 207,
   "metadata": {},
   "outputs": [
    {
     "name": "stdout",
     "output_type": "stream",
     "text": [
      "durga's age is: 48\n"
     ]
    }
   ],
   "source": [
    "person={'age':48,'name':'durga'}\n",
    "print(\"{name}'s age is: {age}\".format(**person))"
   ]
  },
  {
   "cell_type": "code",
   "execution_count": 209,
   "metadata": {},
   "outputs": [
    {
     "name": "stdout",
     "output_type": "stream",
     "text": [
      "avi's age is :28\n"
     ]
    }
   ],
   "source": [
    "class Person:\n",
    "    age=28\n",
    "    name = 'avi'\n",
    "\n",
    "print(\"{p.name}'s age is :{p.age}\".format(p=Person()))"
   ]
  },
  {
   "cell_type": "code",
   "execution_count": 211,
   "metadata": {},
   "outputs": [
    {
     "name": "stdout",
     "output_type": "stream",
     "text": [
      "durga's age is :48\n",
      "avi's age is :28\n"
     ]
    }
   ],
   "source": [
    "class Person:\n",
    "    def __init__(self,name,age):\n",
    "        self.name=name\n",
    "        self.age=age\n",
    "\n",
    "print(\"{p.name}'s age is :{p.age}\".format(p=Person('durga',48)))\n",
    "print(\"{p.name}'s age is :{p.age}\".format(p=Person('avi',28)))"
   ]
  },
  {
   "cell_type": "code",
   "execution_count": 212,
   "metadata": {},
   "outputs": [
    {
     "name": "stdout",
     "output_type": "stream",
     "text": [
      "*cat*\n",
      "*cat**\n",
      "cat***\n",
      "***cat\n"
     ]
    }
   ],
   "source": [
    "string=\"{:{fill}{align}{width}}\"\n",
    "print(string.format('cat',fill='*',align='^',width=5))\n",
    "print(string.format('cat',fill='*',align='^',width=6))\n",
    "print(string.format('cat',fill='*',align='<',width=6))\n",
    "print(string.format('cat',fill='*',align='>',width=6))"
   ]
  },
  {
   "cell_type": "code",
   "execution_count": 213,
   "metadata": {},
   "outputs": [
    {
     "name": "stdout",
     "output_type": "stream",
     "text": [
      "123.24  \n",
      "  123.24\n"
     ]
    }
   ],
   "source": [
    "# Case-10: Dynamic Float format template\n",
    "num=\"{:{align}{width}.{precision}f}\"\n",
    "print(num.format(123.236,align='<',width=8,precision=2))\n",
    "print(num.format(123.236,align='>',width=8,precision=2))"
   ]
  },
  {
   "cell_type": "code",
   "execution_count": 214,
   "metadata": {},
   "outputs": [
    {
     "name": "stdout",
     "output_type": "stream",
     "text": [
      "It's now:20/01/2022 22:59:03\n"
     ]
    }
   ],
   "source": [
    "# Case-11: Formatting Date values\n",
    "import datetime\n",
    "#datetime formatting\n",
    "date=datetime.datetime.now()\n",
    "print(\"It's now:{:%d/%m/%Y %H:%M:%S}\".format(date))"
   ]
  },
  {
   "cell_type": "code",
   "execution_count": 215,
   "metadata": {},
   "outputs": [
    {
     "name": "stdout",
     "output_type": "stream",
     "text": [
      "Real Part:1.0 and Imaginary Part:2.0\n"
     ]
    }
   ],
   "source": [
    "# Case-12: Formatting complex numbers\n",
    "complexNumber=1+2j\n",
    "print(\"Real Part:{0.real} and Imaginary Part:{0.imag}\".format(complexNumber))"
   ]
  },
  {
   "cell_type": "markdown",
   "metadata": {},
   "source": [
    "# 7. List Data Structure\n"
   ]
  },
  {
   "cell_type": "markdown",
   "metadata": {},
   "source": [
    "+ If we want to represent a group of individual objects as a single entity where insertion\n",
    "order preserved and duplicates are allowed, then we should go for List.\n",
    "  -  insertion order preserved.                    \n",
    "  -  duplicate objects are allowed                 \n",
    "  -  heterogeneous objects are allowed.           \n",
    "  -  List is dynamic because based on our requirement we -can increase the size and decrease\n",
    "    the size.                      \n",
    "  -  In List the elements will be placed within square brackets and with comma seperator."
   ]
  },
  {
   "cell_type": "code",
   "execution_count": 220,
   "metadata": {},
   "outputs": [
    {
     "name": "stdout",
     "output_type": "stream",
     "text": [
      "[10, 20, 30, 40]\n",
      "<class 'list'>\n"
     ]
    }
   ],
   "source": [
    "list=eval(input(\"Enter List:\")) # take input as list\n",
    "print(list)\n",
    "print(type(list))"
   ]
  },
  {
   "cell_type": "markdown",
   "metadata": {},
   "source": [
    "**Traversing the elements of list;**\n",
    "- The sequential access of each element in the list is called traversal."
   ]
  },
  {
   "cell_type": "code",
   "execution_count": 221,
   "metadata": {},
   "outputs": [
    {
     "name": "stdout",
     "output_type": "stream",
     "text": [
      "0\n",
      "1\n",
      "2\n",
      "3\n",
      "4\n",
      "5\n",
      "6\n",
      "7\n",
      "8\n",
      "9\n",
      "10\n"
     ]
    }
   ],
   "source": [
    "# 1. By using while loop;\n",
    "n=[i for i in range(11)]\n",
    "i=0\n",
    "while i<len(n):\n",
    "    print(n[i])\n",
    "    i+=1"
   ]
  },
  {
   "cell_type": "code",
   "execution_count": 222,
   "metadata": {},
   "outputs": [
    {
     "name": "stdout",
     "output_type": "stream",
     "text": [
      "0\n",
      "1\n",
      "2\n",
      "3\n",
      "4\n",
      "5\n",
      "6\n",
      "7\n",
      "8\n",
      "9\n",
      "10\n"
     ]
    }
   ],
   "source": [
    "# 2. By using for loop:\n",
    "for n1 in n:\n",
    "    print(n1)"
   ]
  },
  {
   "cell_type": "code",
   "execution_count": 225,
   "metadata": {},
   "outputs": [
    {
     "name": "stdout",
     "output_type": "stream",
     "text": [
      "A is available at positive index:  0 and at negative index:  -3\n",
      "B is available at positive index:  1 and at negative index:  -2\n",
      "C is available at positive index:  2 and at negative index:  -1\n"
     ]
    }
   ],
   "source": [
    "l=[\"A\",\"B\",\"C\"]\n",
    "x=len(l)\n",
    "for i in range(x): # negative index i-x\n",
    "    print(l[i],\"is available at positive index: \",i,\"and at negative index: \",i-x)"
   ]
  },
  {
   "cell_type": "markdown",
   "metadata": {},
   "source": [
    "** Important function of List: **\n",
    "1. To get information about list:\n",
    "    1. len() -> len(list1)\n",
    "    2. count() -> list1.count(1)\n",
    "    3. index() -> list1.index(1)\n",
    "\n",
    "2. Manipulating elements of list:              \n",
    "    1. append()-> list1.append(1) or ('a') add end of list\n",
    "    2. insert() -> list1(index,number) list1(1,100) add at index postion\n",
    "    3. extend() -> list1.extend(list2) add item from list2 to list1\n",
    "    4. remove() -> list1.remove(1) remvoe first occurance if not preset value error\n",
    "    5. pop() -> list1.pop() or list1.pop(index) remvoe last element if empty list raise error\n",
    "    \n",
    "- ` 1. pop() is the only function which manipulates the list and returns some value `                \n",
    " - ` 2. In general we can use append() and pop() functions to implement stack datastructure by using list,which follows LIFO(Last In First Out) order.`\n",
    "\n",
    " 3. Ordering elements of list\n",
    "    1. reverse() -> list1.reverse()\n",
    "    2. sort() -> list1.sort(reverse=True) \n",
    "    3. \n"
   ]
  },
  {
   "cell_type": "code",
   "execution_count": 228,
   "metadata": {},
   "outputs": [
    {
     "name": "stdout",
     "output_type": "stream",
     "text": [
      "[10, 20, 30, 40, 50, 60]\n"
     ]
    }
   ],
   "source": [
    "#1. Concatenation operator(+):\n",
    "#We can use + to concatenate 2 lists into a single list\n",
    "a=[10,20,30]\n",
    "b=[40,50,60]\n",
    "c=a+b\n",
    "print(c) #==>[10,20,30,40,50,60]"
   ]
  },
  {
   "cell_type": "code",
   "execution_count": 230,
   "metadata": {},
   "outputs": [
    {
     "name": "stdout",
     "output_type": "stream",
     "text": [
      "[10, 20, 30, 10, 20, 30, 10, 20, 30]\n"
     ]
    }
   ],
   "source": [
    "# 2. Repetition Operator(*):\n",
    "# We can use repetition operator * to repeat elements of list specified number of times\n",
    "\n",
    "x=[10,20,30]\n",
    "y=x*3\n",
    "print(y) #==>[10,20,30,10,20,30,10,20,30]"
   ]
  },
  {
   "cell_type": "code",
   "execution_count": 232,
   "metadata": {},
   "outputs": [
    {
     "name": "stdout",
     "output_type": "stream",
     "text": [
      "True\n",
      "False\n",
      "True\n"
     ]
    }
   ],
   "source": [
    "# Comparing List objects\n",
    "# We can use comparison operators for List objects.\n",
    "\n",
    "x=[\"Dog\",\"Cat\",\"Rat\"]\n",
    "y=[\"Dog\",\"Cat\",\"Rat\"]\n",
    "z=[\"DOG\",\"CAT\",\"RAT\"]\n",
    "print(x==y) #True\n",
    "print(x==z) #False\n",
    "print(x != z)# True"
   ]
  },
  {
   "cell_type": "code",
   "execution_count": 233,
   "metadata": {},
   "outputs": [
    {
     "name": "stdout",
     "output_type": "stream",
     "text": [
      "False\n",
      "False\n",
      "True\n"
     ]
    }
   ],
   "source": [
    "x=[\"Dog\",\"Rat\",\"Cat\"]\n",
    "y=[\"Dog\",\"Cat\",\"Rat\"]\n",
    "z=[\"DOG\",\"CAT\",\"RAT\"]\n",
    "print(x==y) #True\n",
    "print(x==z) #False\n",
    "print(x != z)# True"
   ]
  },
  {
   "cell_type": "markdown",
   "metadata": {},
   "source": [
    "Whenever we are using comparison operators(==,!=) for List objects then the following\n",
    "should be considered\n",
    "1. The number of elements\n",
    "2. The order of elements\n",
    "3. The content of elements (case sensitive)"
   ]
  },
  {
   "cell_type": "markdown",
   "metadata": {},
   "source": [
    "# 8. List comprehensions\n",
    "- Syntax:                \n",
    "` list=[expression for item in list if condition] `"
   ]
  },
  {
   "cell_type": "code",
   "execution_count": 234,
   "metadata": {},
   "outputs": [
    {
     "name": "stdout",
     "output_type": "stream",
     "text": [
      "[1, 4, 9, 16, 25, 36, 49, 64, 81, 100]\n",
      "[2, 4, 8, 16, 32]\n",
      "[4, 16, 36, 64, 100]\n"
     ]
    }
   ],
   "source": [
    "s=[ x*x for x in range(1,11)]\n",
    "print(s)\n",
    "v=[2**x for x in range(1,6)]\n",
    "print(v)\n",
    "m=[x for x in s if x%2==0]\n",
    "print(m)"
   ]
  },
  {
   "cell_type": "code",
   "execution_count": 235,
   "metadata": {},
   "outputs": [
    {
     "name": "stdout",
     "output_type": "stream",
     "text": [
      "['the', 'quick', 'brown', 'fox', 'jumps', 'over', 'the', 'lazy', 'dog']\n",
      "[['THE', 3], ['QUICK', 5], ['BROWN', 5], ['FOX', 3], ['JUMPS', 5], ['OVER', 4], ['THE', 3], ['LAZY', 4], ['DOG', 3]]\n"
     ]
    }
   ],
   "source": [
    "words=\"the quick brown fox jumps over the lazy dog\".split()\n",
    "print(words)\n",
    "l=[[w.upper(),len(w)] for w in words]\n",
    "print(l)"
   ]
  },
  {
   "cell_type": "markdown",
   "metadata": {},
   "source": [
    "# 9. Tuple Data Structure\n"
   ]
  },
  {
   "cell_type": "markdown",
   "metadata": {},
   "source": [
    "1. Tuple is exactly same as List except that it is immutable. i.e once we creates Tuple\n",
    "object,we cannot perform any changes in that object.\n",
    "Hence Tuple is Read Only version of List.\n",
    "2. If our data is fixed and never changes then we should go for Tuple.\n",
    "3. Insertion Order is preserved\n",
    "4. Duplicates are allowed\n",
    "5. Heterogeneous objects are allowed.\n",
    "6. We can preserve insertion order and we can differentiate duplicate objects by using\n",
    "index. Hence index will play very important role in Tuple also.\n",
    "Tuple support both +ve and -ve index. +ve index means forward direction(from left to\n",
    "right) and -ve index means backward direction(from right to left)\n",
    "7. We can represent Tuple elements within Parenthesis and with comma seperator.\n",
    "Parenethesis are optional but recommended to use."
   ]
  },
  {
   "cell_type": "code",
   "execution_count": 240,
   "metadata": {},
   "outputs": [
    {
     "data": {
      "text/plain": [
       "tuple"
      ]
     },
     "execution_count": 240,
     "metadata": {},
     "output_type": "execute_result"
    }
   ],
   "source": [
    "t=() # tuple\n",
    "t=(10) # not tuple\n",
    "t=(10,) # tuple\n",
    "type(t)"
   ]
  },
  {
   "cell_type": "code",
   "execution_count": 243,
   "metadata": {},
   "outputs": [
    {
     "name": "stdout",
     "output_type": "stream",
     "text": [
      "1\n",
      "4\n",
      "9\n",
      "16\n",
      "25\n"
     ]
    }
   ],
   "source": [
    "t= ( x**2 for x in range(1,6))\n",
    "for x in t:\n",
    "    print(x)"
   ]
  },
  {
   "cell_type": "code",
   "execution_count": 245,
   "metadata": {},
   "outputs": [
    {
     "data": {
      "text/plain": [
       "[1, 4, 9, 16, 25]"
      ]
     },
     "execution_count": 245,
     "metadata": {},
     "output_type": "execute_result"
    }
   ],
   "source": [
    "t= [ x**2 for x in range(1,6)]\n",
    "t"
   ]
  },
  {
   "cell_type": "code",
   "execution_count": 246,
   "metadata": {},
   "outputs": [
    {
     "data": {
      "text/plain": [
       "tuple"
      ]
     },
     "execution_count": 246,
     "metadata": {},
     "output_type": "execute_result"
    }
   ],
   "source": [
    "t=1,20,30,40\n",
    "type(t)"
   ]
  },
  {
   "cell_type": "markdown",
   "metadata": {},
   "source": [
    "# 10. SET DATA Structure\n"
   ]
  },
  {
   "cell_type": "markdown",
   "metadata": {},
   "source": [
    "+ Function of set\n",
    "    1. add(x)  : add item x to set\n",
    "    2. update(x,y,z) : to add multiple item to set\n",
    "    3. copy()  : cloned object\n",
    "    4. pop() : remove and return some Value\n",
    "    5. Remove() : remove specified Element if not present get keyerror\n",
    "    6. discard(x) : remove element if not present not get error\n",
    "    7. clear() : remove all element from set"
   ]
  },
  {
   "cell_type": "markdown",
   "metadata": {},
   "source": [
    "+ Mathemetical Operation:\n",
    "    1. union() -> x|y\n",
    "    2. intersection() -> x&y\n",
    "    3. differance() -> x-y\n",
    "    4. symmetric differance() -> x^y\n"
   ]
  },
  {
   "cell_type": "code",
   "execution_count": 1,
   "metadata": {},
   "outputs": [
    {
     "data": {
      "text/plain": [
       "{0, 1, 4, 9, 16}"
      ]
     },
     "execution_count": 1,
     "metadata": {},
     "output_type": "execute_result"
    }
   ],
   "source": [
    "# Set comprehension possible\n",
    "s={x*x for x in range(5)}\n",
    "s"
   ]
  },
  {
   "cell_type": "markdown",
   "metadata": {},
   "source": [
    "# 11. Dictionary Data Structure\n",
    "- Note: In C++ and Java Dictionaries are known as \"Map\" where as \n",
    "- in Perl and Ruby it is known as \"Hash\""
   ]
  },
  {
   "cell_type": "code",
   "execution_count": 2,
   "metadata": {},
   "outputs": [
    {
     "name": "stdout",
     "output_type": "stream",
     "text": [
      "Name of Student \t % of marks\n",
      "Name of Student \t % of marks\n",
      "\t avi \t\t 45\n",
      "\t rahul \t\t 60\n"
     ]
    }
   ],
   "source": [
    "n=int(input(\"Enter number of students: \"))\n",
    "rec={}\n",
    "i=1\n",
    "while i <=n:\n",
    "    name=input(\"Enter Student Name: \")\n",
    "    marks=input(\"Enter % of Marks of Student: \")\n",
    "    rec[name]=marks\n",
    "    i=i+1\n",
    "print(\"Name of Student\",\"\\t\",\"% of marks\")\n",
    "for x in rec:\n",
    "    print(\"\\t\",x,\"\\t\\t\",rec[x])"
   ]
  },
  {
   "cell_type": "markdown",
   "metadata": {},
   "source": [
    "+ function of dictionary\n",
    "d=dict\n",
    "    1. dict() -> create dictionary\n",
    "    2. len(d) : number of items in dictionary\n",
    "    3. d.clear() : remove all elements\n",
    "    4. d.get(key) : to get value associated with keyword\n",
    "    5. d.pop() : remove key and return value of key\n",
    "    6. d.popitem() : it return key-Value\n",
    "    7. d.keys() : it gives key \n",
    "    8. d.values() : it gives Value\n",
    "    9. d.items() : list of tuple (key,value)\n",
    "    10. d.copy() : it return the copy of set\n",
    "    11. d.setdefault(k,v) : if avilable then value return  not then this added\n",
    "    12. d.update() : update all values."
   ]
  },
  {
   "cell_type": "code",
   "execution_count": 3,
   "metadata": {},
   "outputs": [
    {
     "data": {
      "text/plain": [
       "2"
      ]
     },
     "execution_count": 3,
     "metadata": {},
     "output_type": "execute_result"
    }
   ],
   "source": [
    "len(rec)"
   ]
  },
  {
   "cell_type": "markdown",
   "metadata": {},
   "source": [
    "Q. Write a program to take dictionary from the keyboard and print the sum\n",
    "of values?"
   ]
  },
  {
   "cell_type": "code",
   "execution_count": 5,
   "metadata": {},
   "outputs": [
    {
     "name": "stdout",
     "output_type": "stream",
     "text": [
      "Sum =  600\n"
     ]
    }
   ],
   "source": [
    "# sum of values\n",
    "\n",
    "dict1={'A':100,'B':200,'C':300}\n",
    "s=sum(dict1.values())\n",
    "print(\"Sum = \",s)"
   ]
  },
  {
   "cell_type": "markdown",
   "metadata": {},
   "source": [
    "Q. Write a program to find number of occurrences of each letter present in\n",
    "the given string?"
   ]
  },
  {
   "cell_type": "code",
   "execution_count": 6,
   "metadata": {},
   "outputs": [
    {
     "name": "stdout",
     "output_type": "stream",
     "text": [
      "a occured 3 tiems\n",
      "v occured 1 tiems\n",
      "i occured 1 tiems\n",
      "n occured 2 tiems\n",
      "s occured 1 tiems\n",
      "h occured 2 tiems\n",
      "o occured 4 tiems\n",
      "k occured 1 tiems\n",
      "g occured 2 tiems\n",
      "l occured 1 tiems\n",
      "e occured 4 tiems\n",
      "  occured 4 tiems\n",
      "c occured 1 tiems\n",
      "y occured 1 tiems\n",
      "u occured 1 tiems\n",
      "r occured 1 tiems\n",
      "m occured 1 tiems\n"
     ]
    }
   ],
   "source": [
    "word = \"avinashokgoogle can you here me\"\n",
    "d={}\n",
    "for x in word:\n",
    "    d[x]=d.get(x,0)+1\n",
    "for k,v in d.items():\n",
    "    print(k,\"occured\",v,\"tiems\")"
   ]
  },
  {
   "cell_type": "code",
   "execution_count": null,
   "metadata": {},
   "outputs": [],
   "source": [
    "Q. Write a program to find number of occurrences of each vowel present in\n",
    "the given string?"
   ]
  },
  {
   "cell_type": "code",
   "execution_count": 17,
   "metadata": {},
   "outputs": [
    {
     "name": "stdout",
     "output_type": "stream",
     "text": [
      "a occurred  2  times\n",
      "e occurred  1  times\n",
      "i occurred  1  times\n",
      "o occurred  2  times\n"
     ]
    }
   ],
   "source": [
    "word=\"AVIANSHavianshgodoble\"\n",
    "vowels={'a','e','i','o','u'}\n",
    "d={}\n",
    "for x in word:\n",
    "    if x in vowels:\n",
    "          d[x]=d.get(x,0)+1\n",
    "for k,v in sorted(d.items()):\n",
    "    print(k,\"occurred \",v,\" times\")"
   ]
  },
  {
   "cell_type": "code",
   "execution_count": 15,
   "metadata": {},
   "outputs": [
    {
     "data": {
      "text/plain": [
       "[2, 1, 2, 1]"
      ]
     },
     "execution_count": 15,
     "metadata": {},
     "output_type": "execute_result"
    }
   ],
   "source": [
    "list(d.values())"
   ]
  },
  {
   "cell_type": "markdown",
   "metadata": {},
   "source": [
    "**Dictionary Comprehension:**"
   ]
  },
  {
   "cell_type": "code",
   "execution_count": 18,
   "metadata": {},
   "outputs": [
    {
     "name": "stdout",
     "output_type": "stream",
     "text": [
      "{1: 1, 2: 4, 3: 9, 4: 16, 5: 25}\n",
      "{1: 2, 2: 4, 3: 6, 4: 8, 5: 10}\n"
     ]
    }
   ],
   "source": [
    "squares={x:x*x for x in range(1,6)}\n",
    "print(squares)\n",
    "doubles={x:2*x for x in range(1,6)}\n",
    "print(doubles)"
   ]
  },
  {
   "cell_type": "code",
   "execution_count": 25,
   "metadata": {},
   "outputs": [
    {
     "ename": "NameError",
     "evalue": "name 'y' is not defined",
     "output_type": "error",
     "traceback": [
      "\u001b[1;31m---------------------------------------------------------------------------\u001b[0m",
      "\u001b[1;31mNameError\u001b[0m                                 Traceback (most recent call last)",
      "\u001b[1;32mC:\\Users\\AVINAS~1\\AppData\\Local\\Temp/ipykernel_22328/1882187863.py\u001b[0m in \u001b[0;36m<module>\u001b[1;34m\u001b[0m\n\u001b[1;32m----> 1\u001b[1;33m \u001b[1;32mfor\u001b[0m \u001b[0mx\u001b[0m \u001b[1;32min\u001b[0m \u001b[0mrange\u001b[0m\u001b[1;33m(\u001b[0m\u001b[1;36m10\u001b[0m\u001b[1;33m)\u001b[0m \u001b[1;32mand\u001b[0m \u001b[0my\u001b[0m \u001b[1;32min\u001b[0m \u001b[0mrange\u001b[0m\u001b[1;33m(\u001b[0m\u001b[1;36m1\u001b[0m\u001b[1;33m,\u001b[0m\u001b[1;36m11\u001b[0m\u001b[1;33m)\u001b[0m\u001b[1;33m:\u001b[0m\u001b[1;33m\u001b[0m\u001b[1;33m\u001b[0m\u001b[0m\n\u001b[0m\u001b[0;32m      2\u001b[0m     \u001b[0mprint\u001b[0m\u001b[1;33m(\u001b[0m\u001b[1;34mf\"x:{x}, y:\"\u001b[0m\u001b[1;33m)\u001b[0m\u001b[1;33m\u001b[0m\u001b[1;33m\u001b[0m\u001b[0m\n",
      "\u001b[1;31mNameError\u001b[0m: name 'y' is not defined"
     ]
    }
   ],
   "source": []
  },
  {
   "cell_type": "code",
   "execution_count": null,
   "metadata": {},
   "outputs": [],
   "source": []
  }
 ],
 "metadata": {
  "interpreter": {
   "hash": "9a2c2ef81291e3e3a506884a4f5c29791a7523fb6a6b9fdd4fd3297ed79291df"
  },
  "kernelspec": {
   "display_name": "Python 3.9.7 64-bit ('tf-gpu': conda)",
   "language": "python",
   "name": "python3"
  },
  "language_info": {
   "codemirror_mode": {
    "name": "ipython",
    "version": 3
   },
   "file_extension": ".py",
   "mimetype": "text/x-python",
   "name": "python",
   "nbconvert_exporter": "python",
   "pygments_lexer": "ipython3",
   "version": "3.9.7"
  },
  "orig_nbformat": 4
 },
 "nbformat": 4,
 "nbformat_minor": 2
}
