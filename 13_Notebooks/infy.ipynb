{
 "cells": [
  {
   "cell_type": "code",
   "execution_count": 17,
   "metadata": {},
   "outputs": [],
   "source": [
    "#avi, [06-02-2022 10:12 AM]\n",
    "class Customer:\n",
    "    def __init__ (self, cust_name, products_list): \n",
    "        self.cust_name = cust_name\n",
    "        self.products_list = products_list\n",
    "\n",
    "    def purchase_products (self):\n",
    "        total_cost = 0\n",
    "        for product in self.products_list:\n",
    "            price = product.identify_cost ()\n",
    "            if price != -1:\n",
    "                 total_cost += price\n",
    "        print (total_cost)\n",
    "\n",
    "\n",
    "\n",
    "class Product:\n",
    "    product_list = ['Mobile Phone', 'Refrigerator', 'Laptop', 'Water Heater'] \n",
    "    price_list = [5000, 30000, 25000, 12000] \n",
    "    def __init__(self,product_name):\n",
    "        self.product_name = product_name\n",
    "\n",
    "    def identify_cost(self):\n",
    "        for index in range (len (Product.product_list)):\n",
    "             if Product.product_list[index]== self.product_name:\n",
    "                    cost=Product.price_list [index]\n",
    "                    return cost\n",
    "        return -1\n",
    "\n",
    "prod_refl = Product('Laptop') \n",
    "prod_ref2 = Product('Mobile Phone')\n",
    "prod_ref3= Product('Table')"
   ]
  },
  {
   "cell_type": "code",
   "execution_count": 18,
   "metadata": {},
   "outputs": [
    {
     "name": "stdout",
     "output_type": "stream",
     "text": [
      "30000\n"
     ]
    }
   ],
   "source": [
    "Customer(\"jack\", [prod_refl, prod_ref2, prod_ref3]).purchase_products ()"
   ]
  },
  {
   "cell_type": "code",
   "execution_count": 19,
   "metadata": {},
   "outputs": [
    {
     "ename": "TypeError",
     "evalue": "__init__() missing 1 required positional argument: 'product_name'",
     "output_type": "error",
     "traceback": [
      "\u001b[1;31m---------------------------------------------------------------------------\u001b[0m",
      "\u001b[1;31mTypeError\u001b[0m                                 Traceback (most recent call last)",
      "\u001b[1;32m<ipython-input-19-672aba7e6823>\u001b[0m in \u001b[0;36m<module>\u001b[1;34m\u001b[0m\n\u001b[1;32m----> 1\u001b[1;33m \u001b[0mProduct\u001b[0m\u001b[1;33m(\u001b[0m\u001b[1;33m)\u001b[0m\u001b[1;33m\u001b[0m\u001b[1;33m\u001b[0m\u001b[0m\n\u001b[0m",
      "\u001b[1;31mTypeError\u001b[0m: __init__() missing 1 required positional argument: 'product_name'"
     ]
    }
   ],
   "source": [
    "Product()"
   ]
  },
  {
   "cell_type": "code",
   "execution_count": null,
   "metadata": {},
   "outputs": [
    {
     "ename": "TypeError",
     "evalue": "function2() missing 1 required positional argument: 'num2'",
     "output_type": "error",
     "traceback": [
      "\u001b[1;31m---------------------------------------------------------------------------\u001b[0m",
      "\u001b[1;31mTypeError\u001b[0m                                 Traceback (most recent call last)",
      "\u001b[1;32m<ipython-input-16-d7d144a0b940>\u001b[0m in \u001b[0;36m<module>\u001b[1;34m\u001b[0m\n\u001b[0;32m     19\u001b[0m \u001b[1;33m\u001b[0m\u001b[0m\n\u001b[0;32m     20\u001b[0m \u001b[0mgrandchild_ref\u001b[0m\u001b[1;33m=\u001b[0m\u001b[0mGrandchild\u001b[0m\u001b[1;33m(\u001b[0m\u001b[1;36m20\u001b[0m\u001b[1;33m,\u001b[0m\u001b[1;36m10\u001b[0m\u001b[1;33m)\u001b[0m\u001b[1;33m\u001b[0m\u001b[1;33m\u001b[0m\u001b[0m\n\u001b[1;32m---> 21\u001b[1;33m \u001b[0mgrandchild_ref\u001b[0m\u001b[1;33m.\u001b[0m\u001b[0mfunction2\u001b[0m\u001b[1;33m(\u001b[0m\u001b[1;33m)\u001b[0m\u001b[1;33m\u001b[0m\u001b[1;33m\u001b[0m\u001b[0m\n\u001b[0m",
      "\u001b[1;31mTypeError\u001b[0m: function2() missing 1 required positional argument: 'num2'"
     ]
    }
   ],
   "source": [
    "# q 20\n",
    "class Parent:\n",
    "    def __init__(self,num1,num2):\n",
    "        self.num1 = num1\n",
    "        self.num2 = num2    \n",
    "    def function(self,num1):\n",
    "        return self.num1 + num1//2\n",
    "class child(Parent):\n",
    "    def function2(self,num2):\n",
    "        self.num2=num2+10\n",
    "        return self.function(self.num2)\n",
    "class Grandchild(child):\n",
    "    def __init__(self,num1,num2):\n",
    "        super().__init__(num1,num2)\n",
    "        self.__num3=None\n",
    "    def function3(self):\n",
    "        self._num3=super().function2(self.num1)+self.function(self.num2)\n",
    "        return super().function2(self.__num3)\n",
    "\n",
    "grandchild_ref=Grandchild(20,10)\n",
    "grandchild_ref.function2()"
   ]
  },
  {
   "cell_type": "code",
   "execution_count": null,
   "metadata": {},
   "outputs": [],
   "source": [
    "# q19\n",
    "def bubble_sort(input_list):\n",
    "    num = 3\n",
    "    for iteration in range(num):\n",
    "        for index1 in range(0,num-iteration-1):\n",
    "            if input_list[index1]>input_list[index1+1]:\n",
    "                temp = input_list[index1]\n",
    "                input_list[index1] = input_list[index1+1]\n",
    "                input_list[index1+1] = temp\n",
    "\n",
    "input_list = [76,20,95,87,47,16]\n",
    "bubble_sort(input_list)"
   ]
  },
  {
   "cell_type": "code",
   "execution_count": null,
   "metadata": {},
   "outputs": [
    {
     "data": {
      "text/plain": [
       "[20, 76, 95, 87, 47, 16]"
      ]
     },
     "execution_count": 33,
     "metadata": {},
     "output_type": "execute_result"
    }
   ],
   "source": [
    "input_list"
   ]
  },
  {
   "cell_type": "code",
   "execution_count": null,
   "metadata": {},
   "outputs": [],
   "source": [
    "if str1.isalnum() or \"+\" in str1 or \"/\" in str1:\n",
    "    "
   ]
  },
  {
   "cell_type": "code",
   "execution_count": null,
   "metadata": {},
   "outputs": [
    {
     "data": {
      "text/plain": [
       "(43, 'Z')"
      ]
     },
     "execution_count": 114,
     "metadata": {},
     "output_type": "execute_result"
    }
   ],
   "source": [
    "ord('+'),  chr(25+65)"
   ]
  },
  {
   "cell_type": "code",
   "execution_count": null,
   "metadata": {},
   "outputs": [
    {
     "data": {
      "text/plain": [
       "'Z'"
      ]
     },
     "execution_count": 70,
     "metadata": {},
     "output_type": "execute_result"
    }
   ],
   "source": []
  },
  {
   "cell_type": "code",
   "execution_count": null,
   "metadata": {},
   "outputs": [
    {
     "name": "stdout",
     "output_type": "stream",
     "text": [
      "['011000', '010111', '011001', '101001', '011011', '100110', '000101', '101000', '001100', '010011', '001000', '110011', '001010', '11']\n"
     ]
    }
   ],
   "source": [
    "a_string=res\n",
    "split_strings = []\n",
    "n  = 6\n",
    "for index in range(0, len(a_string), n):\n",
    "    split_strings.append(a_string[index : index + n])\n",
    "\n",
    "print(split_strings)"
   ]
  },
  {
   "cell_type": "code",
   "execution_count": null,
   "metadata": {},
   "outputs": [
    {
     "data": {
      "text/plain": [
       "'01000001010000100100001100110001001100100011001100101011'"
      ]
     },
     "execution_count": 71,
     "metadata": {},
     "output_type": "execute_result"
    }
   ],
   "source": [
    "str1 = \"ABC123+\"\n",
    "res = ''.join(format(ord(i), '08b') for i in str1)\n",
    "res\n"
   ]
  },
  {
   "cell_type": "code",
   "execution_count": null,
   "metadata": {},
   "outputs": [
    {
     "name": "stdout",
     "output_type": "stream",
     "text": [
      "['010000', '010100', '001001', '000011', '001100', '010011', '001000', '110011', '001010', '11']\n"
     ]
    }
   ],
   "source": [
    "a_string=res\n",
    "split_strings = []\n",
    "n  = 6\n",
    "for index in range(0, len(a_string), n):\n",
    "    split_strings.append(a_string[index : index + n])\n",
    "\n",
    "print(split_strings)"
   ]
  },
  {
   "cell_type": "code",
   "execution_count": null,
   "metadata": {},
   "outputs": [
    {
     "data": {
      "text/plain": [
       "'Q'"
      ]
     },
     "execution_count": 78,
     "metadata": {},
     "output_type": "execute_result"
    }
   ],
   "source": [
    "chr(int(split_strings[0],2)+65)"
   ]
  },
  {
   "cell_type": "code",
   "execution_count": null,
   "metadata": {},
   "outputs": [
    {
     "data": {
      "text/plain": [
       "'01000001010000100100001100110001001100100011001100101011'"
      ]
     },
     "execution_count": 97,
     "metadata": {},
     "output_type": "execute_result"
    }
   ],
   "source": [
    "if str1.isalnum() or \"+\" in str1 or \"/\" in str1:\n",
    "    res = ''.join(format(ord(i), '08b') for i in str1)\n",
    "\n",
    "res"
   ]
  },
  {
   "cell_type": "code",
   "execution_count": null,
   "metadata": {},
   "outputs": [
    {
     "name": "stdout",
     "output_type": "stream",
     "text": [
      "QUJDMTIzKw\n"
     ]
    }
   ],
   "source": [
    "# string convert to binary and then convert devide each 6 bit to ascii\n",
    "def string_to_ascii(str1):\n",
    "    res = ''.join(format(ord(i), '08b') for i in str1)\n",
    "    split_string = [res[i:i+n] for i in range(0, len(res), n)]\n",
    "    split_string[-1]=split_string[-1]+\"0\"*(6-len(split_string[-1]))\n",
    "    split_string\n",
    "    return split_string\n",
    "\n",
    "\n",
    "# hex to string\n",
    "def num_to_string(split_string):\n",
    "    out_string=\"\"\n",
    "    for i in split_string:\n",
    "        num= int(i,2)\n",
    "\n",
    "        if num<=25:\n",
    "                out_string+=chr(num+65)\n",
    "        elif num <=51:\n",
    "                out_string+=chr(num+71)\n",
    "        elif num ==62:\n",
    "                out_string+=\"+\"\n",
    "        elif num ==63:\n",
    "            out_string+=\"/\"\n",
    "        else :\n",
    "            out_string+=chr(num-4)\n",
    "    return out_string\n",
    "\n",
    "\n",
    "# string validattion alphanumeric and contain + and /\n",
    "def string_valid(str1):\n",
    "    if str1.isalnum() or \"+\" in str1 or \"/\" in str1:\n",
    "        return True\n",
    "    else:\n",
    "        return False\n",
    "\n",
    "input_string = \"ABC123+\"\n",
    "if string_valid(input_string)==True:\n",
    "    split_string=string_to_ascii(input_string)\n",
    "    out_string=num_to_string(split_string)\n",
    "    print(out_string)\n",
    "else:\n",
    "    print(-1)\n"
   ]
  },
  {
   "cell_type": "code",
   "execution_count": null,
   "metadata": {},
   "outputs": [
    {
     "data": {
      "text/plain": [
       "'\\x10\\x14\\t\\x03\\x0c\\x13\\x083\\n0'"
      ]
     },
     "execution_count": 110,
     "metadata": {},
     "output_type": "execute_result"
    }
   ],
   "source": []
  },
  {
   "cell_type": "code",
   "execution_count": null,
   "metadata": {},
   "outputs": [
    {
     "data": {
      "text/plain": [
       "['010000',\n",
       " '010100',\n",
       " '001001',\n",
       " '000011',\n",
       " '001100',\n",
       " '010011',\n",
       " '001000',\n",
       " '110011',\n",
       " '001010',\n",
       " '110000']"
      ]
     },
     "execution_count": 103,
     "metadata": {},
     "output_type": "execute_result"
    }
   ],
   "source": []
  },
  {
   "cell_type": "code",
   "execution_count": 22,
   "metadata": {},
   "outputs": [],
   "source": [
    "import pandas as pd\n",
    "\n",
    "product_code =[4187,4195,4204,4219,4718,5630,5631]\n",
    "product_group = ['PG2',\"PG2\",\"PG2\",\"PG2\",\"PG2\",\"PG4\",\"PG4\"]\n",
    "stock_qty = [498,473,968,241,1401,287,262]\n",
    "price = [569,712,854,1054,26,7,10]\n",
    "\n",
    "df=pd.DataFrame({\"product_code\":product_code,\"product_group\":product_group,\"stock_qty\":stock_qty,\"price\":price})"
   ]
  },
  {
   "cell_type": "code",
   "execution_count": 23,
   "metadata": {},
   "outputs": [
    {
     "data": {
      "text/html": [
       "<div>\n",
       "<style scoped>\n",
       "    .dataframe tbody tr th:only-of-type {\n",
       "        vertical-align: middle;\n",
       "    }\n",
       "\n",
       "    .dataframe tbody tr th {\n",
       "        vertical-align: top;\n",
       "    }\n",
       "\n",
       "    .dataframe thead th {\n",
       "        text-align: right;\n",
       "    }\n",
       "</style>\n",
       "<table border=\"1\" class=\"dataframe\">\n",
       "  <thead>\n",
       "    <tr style=\"text-align: right;\">\n",
       "      <th></th>\n",
       "      <th>product_code</th>\n",
       "      <th>product_group</th>\n",
       "      <th>stock_qty</th>\n",
       "      <th>price</th>\n",
       "    </tr>\n",
       "  </thead>\n",
       "  <tbody>\n",
       "    <tr>\n",
       "      <th>0</th>\n",
       "      <td>4187</td>\n",
       "      <td>PG2</td>\n",
       "      <td>498</td>\n",
       "      <td>569</td>\n",
       "    </tr>\n",
       "    <tr>\n",
       "      <th>1</th>\n",
       "      <td>4195</td>\n",
       "      <td>PG2</td>\n",
       "      <td>473</td>\n",
       "      <td>712</td>\n",
       "    </tr>\n",
       "    <tr>\n",
       "      <th>2</th>\n",
       "      <td>4204</td>\n",
       "      <td>PG2</td>\n",
       "      <td>968</td>\n",
       "      <td>854</td>\n",
       "    </tr>\n",
       "    <tr>\n",
       "      <th>3</th>\n",
       "      <td>4219</td>\n",
       "      <td>PG2</td>\n",
       "      <td>241</td>\n",
       "      <td>1054</td>\n",
       "    </tr>\n",
       "    <tr>\n",
       "      <th>4</th>\n",
       "      <td>4718</td>\n",
       "      <td>PG2</td>\n",
       "      <td>1401</td>\n",
       "      <td>26</td>\n",
       "    </tr>\n",
       "    <tr>\n",
       "      <th>5</th>\n",
       "      <td>5630</td>\n",
       "      <td>PG4</td>\n",
       "      <td>287</td>\n",
       "      <td>7</td>\n",
       "    </tr>\n",
       "    <tr>\n",
       "      <th>6</th>\n",
       "      <td>5631</td>\n",
       "      <td>PG4</td>\n",
       "      <td>262</td>\n",
       "      <td>10</td>\n",
       "    </tr>\n",
       "  </tbody>\n",
       "</table>\n",
       "</div>"
      ],
      "text/plain": [
       "   product_code product_group  stock_qty  price\n",
       "0          4187           PG2        498    569\n",
       "1          4195           PG2        473    712\n",
       "2          4204           PG2        968    854\n",
       "3          4219           PG2        241   1054\n",
       "4          4718           PG2       1401     26\n",
       "5          5630           PG4        287      7\n",
       "6          5631           PG4        262     10"
      ]
     },
     "execution_count": 23,
     "metadata": {},
     "output_type": "execute_result"
    }
   ],
   "source": [
    "df"
   ]
  },
  {
   "cell_type": "code",
   "execution_count": 24,
   "metadata": {},
   "outputs": [
    {
     "name": "stderr",
     "output_type": "stream",
     "text": [
      "<ipython-input-24-e29e5ea98262>:1: SettingWithCopyWarning: \n",
      "A value is trying to be set on a copy of a slice from a DataFrame.\n",
      "Try using .loc[row_indexer,col_indexer] = value instead\n",
      "\n",
      "See the caveats in the documentation: https://pandas.pydata.org/pandas-docs/stable/user_guide/indexing.html#returning-a-view-versus-a-copy\n",
      "  df.loc[df[\"product_group\"]==\"PG4\"][\"price\"]=df.loc[df[\"product_group\"]==\"PG4\"][\"price\"]*1.2\n"
     ]
    }
   ],
   "source": [
    "df.loc[df[\"product_group\"]==\"PG4\"][\"price\"]=df.loc[df[\"product_group\"]==\"PG4\"][\"price\"]*1.2"
   ]
  },
  {
   "cell_type": "code",
   "execution_count": 25,
   "metadata": {},
   "outputs": [
    {
     "data": {
      "text/html": [
       "<div>\n",
       "<style scoped>\n",
       "    .dataframe tbody tr th:only-of-type {\n",
       "        vertical-align: middle;\n",
       "    }\n",
       "\n",
       "    .dataframe tbody tr th {\n",
       "        vertical-align: top;\n",
       "    }\n",
       "\n",
       "    .dataframe thead th {\n",
       "        text-align: right;\n",
       "    }\n",
       "</style>\n",
       "<table border=\"1\" class=\"dataframe\">\n",
       "  <thead>\n",
       "    <tr style=\"text-align: right;\">\n",
       "      <th></th>\n",
       "      <th>product_code</th>\n",
       "      <th>product_group</th>\n",
       "      <th>stock_qty</th>\n",
       "      <th>price</th>\n",
       "    </tr>\n",
       "  </thead>\n",
       "  <tbody>\n",
       "    <tr>\n",
       "      <th>0</th>\n",
       "      <td>4187</td>\n",
       "      <td>PG2</td>\n",
       "      <td>498</td>\n",
       "      <td>569</td>\n",
       "    </tr>\n",
       "    <tr>\n",
       "      <th>1</th>\n",
       "      <td>4195</td>\n",
       "      <td>PG2</td>\n",
       "      <td>473</td>\n",
       "      <td>712</td>\n",
       "    </tr>\n",
       "    <tr>\n",
       "      <th>2</th>\n",
       "      <td>4204</td>\n",
       "      <td>PG2</td>\n",
       "      <td>968</td>\n",
       "      <td>854</td>\n",
       "    </tr>\n",
       "    <tr>\n",
       "      <th>3</th>\n",
       "      <td>4219</td>\n",
       "      <td>PG2</td>\n",
       "      <td>241</td>\n",
       "      <td>1054</td>\n",
       "    </tr>\n",
       "    <tr>\n",
       "      <th>4</th>\n",
       "      <td>4718</td>\n",
       "      <td>PG2</td>\n",
       "      <td>1401</td>\n",
       "      <td>26</td>\n",
       "    </tr>\n",
       "    <tr>\n",
       "      <th>5</th>\n",
       "      <td>5630</td>\n",
       "      <td>PG4</td>\n",
       "      <td>287</td>\n",
       "      <td>7</td>\n",
       "    </tr>\n",
       "    <tr>\n",
       "      <th>6</th>\n",
       "      <td>5631</td>\n",
       "      <td>PG4</td>\n",
       "      <td>262</td>\n",
       "      <td>10</td>\n",
       "    </tr>\n",
       "  </tbody>\n",
       "</table>\n",
       "</div>"
      ],
      "text/plain": [
       "   product_code product_group  stock_qty  price\n",
       "0          4187           PG2        498    569\n",
       "1          4195           PG2        473    712\n",
       "2          4204           PG2        968    854\n",
       "3          4219           PG2        241   1054\n",
       "4          4718           PG2       1401     26\n",
       "5          5630           PG4        287      7\n",
       "6          5631           PG4        262     10"
      ]
     },
     "execution_count": 25,
     "metadata": {},
     "output_type": "execute_result"
    }
   ],
   "source": [
    "df"
   ]
  },
  {
   "cell_type": "code",
   "execution_count": null,
   "metadata": {},
   "outputs": [],
   "source": [
    "# col=[\"price\",\"stock_qty\"]\n",
    "# df[col]=df[col]*1.2"
   ]
  },
  {
   "cell_type": "code",
   "execution_count": 26,
   "metadata": {},
   "outputs": [
    {
     "data": {
      "text/html": [
       "<div>\n",
       "<style scoped>\n",
       "    .dataframe tbody tr th:only-of-type {\n",
       "        vertical-align: middle;\n",
       "    }\n",
       "\n",
       "    .dataframe tbody tr th {\n",
       "        vertical-align: top;\n",
       "    }\n",
       "\n",
       "    .dataframe thead th {\n",
       "        text-align: right;\n",
       "    }\n",
       "</style>\n",
       "<table border=\"1\" class=\"dataframe\">\n",
       "  <thead>\n",
       "    <tr style=\"text-align: right;\">\n",
       "      <th></th>\n",
       "      <th>product_code</th>\n",
       "      <th>product_group</th>\n",
       "      <th>stock_qty</th>\n",
       "      <th>price</th>\n",
       "    </tr>\n",
       "  </thead>\n",
       "  <tbody>\n",
       "    <tr>\n",
       "      <th>0</th>\n",
       "      <td>4187</td>\n",
       "      <td>PG2</td>\n",
       "      <td>498</td>\n",
       "      <td>284.5</td>\n",
       "    </tr>\n",
       "    <tr>\n",
       "      <th>1</th>\n",
       "      <td>4195</td>\n",
       "      <td>PG2</td>\n",
       "      <td>473</td>\n",
       "      <td>356.0</td>\n",
       "    </tr>\n",
       "    <tr>\n",
       "      <th>2</th>\n",
       "      <td>4204</td>\n",
       "      <td>PG2</td>\n",
       "      <td>968</td>\n",
       "      <td>427.0</td>\n",
       "    </tr>\n",
       "    <tr>\n",
       "      <th>3</th>\n",
       "      <td>4219</td>\n",
       "      <td>PG2</td>\n",
       "      <td>241</td>\n",
       "      <td>527.0</td>\n",
       "    </tr>\n",
       "    <tr>\n",
       "      <th>4</th>\n",
       "      <td>4718</td>\n",
       "      <td>PG2</td>\n",
       "      <td>1401</td>\n",
       "      <td>13.0</td>\n",
       "    </tr>\n",
       "    <tr>\n",
       "      <th>5</th>\n",
       "      <td>5630</td>\n",
       "      <td>PG4</td>\n",
       "      <td>287</td>\n",
       "      <td>7.0</td>\n",
       "    </tr>\n",
       "    <tr>\n",
       "      <th>6</th>\n",
       "      <td>5631</td>\n",
       "      <td>PG4</td>\n",
       "      <td>262</td>\n",
       "      <td>10.0</td>\n",
       "    </tr>\n",
       "  </tbody>\n",
       "</table>\n",
       "</div>"
      ],
      "text/plain": [
       "   product_code product_group  stock_qty  price\n",
       "0          4187           PG2        498  284.5\n",
       "1          4195           PG2        473  356.0\n",
       "2          4204           PG2        968  427.0\n",
       "3          4219           PG2        241  527.0\n",
       "4          4718           PG2       1401   13.0\n",
       "5          5630           PG4        287    7.0\n",
       "6          5631           PG4        262   10.0"
      ]
     },
     "execution_count": 26,
     "metadata": {},
     "output_type": "execute_result"
    }
   ],
   "source": [
    "df[\"price\"].where(df[\"product_group\"]==\"PG4\", df[\"price\"] * 0.5, inplace=True)\n",
    "df"
   ]
  },
  {
   "cell_type": "code",
   "execution_count": 20,
   "metadata": {},
   "outputs": [
    {
     "data": {
      "text/html": [
       "<div>\n",
       "<style scoped>\n",
       "    .dataframe tbody tr th:only-of-type {\n",
       "        vertical-align: middle;\n",
       "    }\n",
       "\n",
       "    .dataframe tbody tr th {\n",
       "        vertical-align: top;\n",
       "    }\n",
       "\n",
       "    .dataframe thead th {\n",
       "        text-align: right;\n",
       "    }\n",
       "</style>\n",
       "<table border=\"1\" class=\"dataframe\">\n",
       "  <thead>\n",
       "    <tr style=\"text-align: right;\">\n",
       "      <th></th>\n",
       "      <th>product_code</th>\n",
       "      <th>product_group</th>\n",
       "      <th>stock_qty</th>\n",
       "      <th>price</th>\n",
       "    </tr>\n",
       "  </thead>\n",
       "  <tbody>\n",
       "    <tr>\n",
       "      <th>0</th>\n",
       "      <td>4187</td>\n",
       "      <td>PG2</td>\n",
       "      <td>498</td>\n",
       "      <td>569.0</td>\n",
       "    </tr>\n",
       "    <tr>\n",
       "      <th>1</th>\n",
       "      <td>4195</td>\n",
       "      <td>PG2</td>\n",
       "      <td>473</td>\n",
       "      <td>712.0</td>\n",
       "    </tr>\n",
       "    <tr>\n",
       "      <th>2</th>\n",
       "      <td>4204</td>\n",
       "      <td>PG2</td>\n",
       "      <td>968</td>\n",
       "      <td>854.0</td>\n",
       "    </tr>\n",
       "    <tr>\n",
       "      <th>3</th>\n",
       "      <td>4219</td>\n",
       "      <td>PG2</td>\n",
       "      <td>241</td>\n",
       "      <td>1054.0</td>\n",
       "    </tr>\n",
       "    <tr>\n",
       "      <th>4</th>\n",
       "      <td>4718</td>\n",
       "      <td>PG2</td>\n",
       "      <td>1401</td>\n",
       "      <td>26.0</td>\n",
       "    </tr>\n",
       "    <tr>\n",
       "      <th>5</th>\n",
       "      <td>5630</td>\n",
       "      <td>PG4</td>\n",
       "      <td>287</td>\n",
       "      <td>3.5</td>\n",
       "    </tr>\n",
       "    <tr>\n",
       "      <th>6</th>\n",
       "      <td>5631</td>\n",
       "      <td>PG4</td>\n",
       "      <td>262</td>\n",
       "      <td>5.0</td>\n",
       "    </tr>\n",
       "  </tbody>\n",
       "</table>\n",
       "</div>"
      ],
      "text/plain": [
       "   product_code product_group  stock_qty   price\n",
       "0          4187           PG2        498   569.0\n",
       "1          4195           PG2        473   712.0\n",
       "2          4204           PG2        968   854.0\n",
       "3          4219           PG2        241  1054.0\n",
       "4          4718           PG2       1401    26.0\n",
       "5          5630           PG4        287     3.5\n",
       "6          5631           PG4        262     5.0"
      ]
     },
     "execution_count": 20,
     "metadata": {},
     "output_type": "execute_result"
    }
   ],
   "source": [
    "df"
   ]
  },
  {
   "cell_type": "code",
   "execution_count": 34,
   "metadata": {},
   "outputs": [
    {
     "name": "stdout",
     "output_type": "stream",
     "text": [
      "   Product ID   Description price  Cost to Manufacture Sold in  Price\n",
      "0           1  3 inch screw   Yes                  0.5     Yes   0.75\n",
      "1           2   2 inch nail   Yes                  0.1     Yes   0.25\n",
      "2           3        hammer    No                  3.0      No   5.50\n",
      "3           4   screwdriver    No                  2.5      No   3.00\n"
     ]
    }
   ],
   "source": [
    "# inserting new column\n",
    "df = pd.DataFrame([\n",
    "  [1, '3 inch screw', 0.5, 0.75],\n",
    "  [2, '2 inch nail', 0.10, 0.25],\n",
    "  [3, 'hammer', 3.00, 5.50],\n",
    "  [4, 'screwdriver', 2.50, 3.00]\n",
    "],\n",
    "  columns=['Product ID', 'Description', 'Cost to Manufacture', 'Price']\n",
    ")\n",
    "\n",
    "# Add columns here\n",
    "#sold_in_bulk = pd.DataFrame([\"Yes\",\"Yes\",\"No\", \"No\"])\n",
    "sold_in_b = ['Yes','Yes','No','No']\n",
    "df.insert (3, \"Sold in\", sold_in_b)\n",
    "df.insert(2, \"price\",sold_in_b)\n",
    "\n",
    "print(df)"
   ]
  },
  {
   "cell_type": "code",
   "execution_count": null,
   "metadata": {},
   "outputs": [],
   "source": [
    "\n",
    "# multilevel indexing\n",
    "import pandas as pd\n",
    "import json\n",
    "\n",
    "# read df\n",
    "df = pd.read_excel(\"/tmp/temp.xls\", header=[0, 1])\n",
    "df.index = pd.to_datetime(df.index)\n",
    "\n",
    "# combine multilevel columns to one level\n",
    "df.columns = (pd.Series(df.columns.get_level_values(0)).apply(str)\n",
    "              + pd.Series(df.columns.get_level_values(1)).apply(str))\n",
    "\n",
    "# get Date as a column\n",
    "df = df.reset_index()\n",
    "df.columns = [\"Date\"] + list(df.columns[1:])\n",
    "\n",
    "print(df)\n",
    "\n",
    "\n",
    "#          1a   1b   2c   2d\n",
    "# 2019-01-02  100  200  300  400\n",
    "# 2019-01-02  101  201  301  401\n",
    "# 2019-01-03  102  202  302  402"
   ]
  },
  {
   "cell_type": "code",
   "execution_count": 35,
   "metadata": {},
   "outputs": [
    {
     "ename": "NameError",
     "evalue": "name 'np' is not defined",
     "output_type": "error",
     "traceback": [
      "\u001b[1;31m---------------------------------------------------------------------------\u001b[0m",
      "\u001b[1;31mNameError\u001b[0m                                 Traceback (most recent call last)",
      "\u001b[1;32m<ipython-input-35-b94c93a06a56>\u001b[0m in \u001b[0;36m<module>\u001b[1;34m\u001b[0m\n\u001b[0;32m      8\u001b[0m \u001b[0mcol\u001b[0m\u001b[1;33m=\u001b[0m\u001b[1;33m[\u001b[0m\u001b[1;34m\"new_val1\"\u001b[0m\u001b[1;33m,\u001b[0m\u001b[1;34m'new_val2'\u001b[0m\u001b[1;33m,\u001b[0m\u001b[1;34m'new_val3'\u001b[0m\u001b[1;33m]\u001b[0m\u001b[1;33m\u001b[0m\u001b[1;33m\u001b[0m\u001b[0m\n\u001b[0;32m      9\u001b[0m \u001b[1;31m#new_data.loc[(new_data.new_val2 < 800), col] = np.nan\u001b[0m\u001b[1;33m\u001b[0m\u001b[1;33m\u001b[0m\u001b[1;33m\u001b[0m\u001b[0m\n\u001b[1;32m---> 10\u001b[1;33m \u001b[0mnew_data\u001b[0m\u001b[1;33m.\u001b[0m\u001b[0mloc\u001b[0m\u001b[1;33m[\u001b[0m\u001b[1;33m(\u001b[0m\u001b[0mnew_data\u001b[0m\u001b[1;33m[\u001b[0m\u001b[1;34m'new_val2'\u001b[0m\u001b[1;33m]\u001b[0m \u001b[1;33m<\u001b[0m \u001b[1;36m800\u001b[0m\u001b[1;33m)\u001b[0m\u001b[1;33m,\u001b[0m\u001b[0mcol\u001b[0m\u001b[1;33m]\u001b[0m \u001b[1;33m=\u001b[0m \u001b[0mnp\u001b[0m\u001b[1;33m.\u001b[0m\u001b[0mnan\u001b[0m\u001b[1;33m\u001b[0m\u001b[1;33m\u001b[0m\u001b[0m\n\u001b[0m\u001b[0;32m     11\u001b[0m \u001b[0mprint\u001b[0m\u001b[1;33m(\u001b[0m\u001b[0mnew_data\u001b[0m\u001b[1;33m)\u001b[0m\u001b[1;33m\u001b[0m\u001b[1;33m\u001b[0m\u001b[0m\n",
      "\u001b[1;31mNameError\u001b[0m: name 'np' is not defined"
     ]
    }
   ],
   "source": [
    "import pandas as pd\n",
    "\n",
    "new_data = pd.DataFrame([\n",
    "\t[187, 634, 138],\n",
    "\t[779, 908, 346],\n",
    "\t[459, 709, 116]],\n",
    "\tcolumns=['new_val1', 'new_val2', 'new_val3'])\n",
    "col=[\"new_val1\",'new_val2','new_val3']\n",
    "#new_data.loc[(new_data.new_val2 < 800), col] = np.nan\n",
    "new_data.loc[(new_data['new_val2'] < 800),col] = np.nan\n",
    "print(new_data)"
   ]
  },
  {
   "cell_type": "code",
   "execution_count": null,
   "metadata": {},
   "outputs": [],
   "source": []
  }
 ],
 "metadata": {
  "interpreter": {
   "hash": "b3ba2566441a7c06988d0923437866b63cedc61552a5af99d1f4fb67d367b25f"
  },
  "kernelspec": {
   "display_name": "Python 3.8.5 ('base')",
   "language": "python",
   "name": "python3"
  },
  "language_info": {
   "codemirror_mode": {
    "name": "ipython",
    "version": 3
   },
   "file_extension": ".py",
   "mimetype": "text/x-python",
   "name": "python",
   "nbconvert_exporter": "python",
   "pygments_lexer": "ipython3",
   "version": "3.8.5"
  },
  "orig_nbformat": 4
 },
 "nbformat": 4,
 "nbformat_minor": 2
}
