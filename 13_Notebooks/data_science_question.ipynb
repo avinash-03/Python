{
 "cells": [
  {
   "cell_type": "code",
   "execution_count": 1,
   "metadata": {
    "ExecuteTime": {
     "end_time": "2022-02-18T03:08:42.028138Z",
     "start_time": "2022-02-18T03:08:40.802974Z"
    }
   },
   "outputs": [],
   "source": [
    "import numpy as np\n",
    "import pandas as pd \n"
   ]
  },
  {
   "cell_type": "code",
   "execution_count": null,
   "metadata": {},
   "outputs": [],
   "source": []
  },
  {
   "cell_type": "code",
   "execution_count": 3,
   "metadata": {
    "ExecuteTime": {
     "end_time": "2022-02-18T03:08:52.153915Z",
     "start_time": "2022-02-18T03:08:52.117920Z"
    }
   },
   "outputs": [
    {
     "data": {
      "text/html": [
       "<div>\n",
       "<style scoped>\n",
       "    .dataframe tbody tr th:only-of-type {\n",
       "        vertical-align: middle;\n",
       "    }\n",
       "\n",
       "    .dataframe tbody tr th {\n",
       "        vertical-align: top;\n",
       "    }\n",
       "\n",
       "    .dataframe thead th {\n",
       "        text-align: right;\n",
       "    }\n",
       "</style>\n",
       "<table border=\"1\" class=\"dataframe\">\n",
       "  <thead>\n",
       "    <tr style=\"text-align: right;\">\n",
       "      <th></th>\n",
       "      <th>student_id</th>\n",
       "      <th>student_firstname</th>\n",
       "      <th>student_lastname</th>\n",
       "    </tr>\n",
       "  </thead>\n",
       "  <tbody>\n",
       "    <tr>\n",
       "      <th>0</th>\n",
       "      <td>1</td>\n",
       "      <td>Marie</td>\n",
       "      <td>Butters</td>\n",
       "    </tr>\n",
       "    <tr>\n",
       "      <th>1</th>\n",
       "      <td>2</td>\n",
       "      <td>Joan</td>\n",
       "      <td>Reed</td>\n",
       "    </tr>\n",
       "    <tr>\n",
       "      <th>2</th>\n",
       "      <td>3</td>\n",
       "      <td>Marie</td>\n",
       "      <td>Maynard</td>\n",
       "    </tr>\n",
       "    <tr>\n",
       "      <th>3</th>\n",
       "      <td>4</td>\n",
       "      <td>Hugo</td>\n",
       "      <td>Wright</td>\n",
       "    </tr>\n",
       "  </tbody>\n",
       "</table>\n",
       "</div>"
      ],
      "text/plain": [
       "   student_id student_firstname student_lastname\n",
       "0           1             Marie          Butters\n",
       "1           2              Joan             Reed\n",
       "2           3             Marie          Maynard\n",
       "3           4              Hugo           Wright"
      ]
     },
     "execution_count": 3,
     "metadata": {},
     "output_type": "execute_result"
    }
   ],
   "source": [
    "# students grade\n",
    "stud_grade={\n",
    "    \"student_id\":[1,1,1,2,2,2,3,3,3,4,4,4],\n",
    "    \"homework_id\":[1,2,3,1,2,3,1,2,3,1,2,3],\n",
    "    \"grade\":[7,6,6,8,np.nan,np.nan,4,np.nan,6,np.nan,np.nan,np.nan]\n",
    "\n",
    "}\n",
    "allstudent_homework=pd.DataFrame(stud_grade)\n",
    "allstudent_homework\n",
    "\n",
    "# allstate_student\n",
    "allstate={ \n",
    "    \"student_id\":[1,2,3,4],\n",
    "    \"student_firstname\":[\"Marie\",\"Joan\",\"Marie\",\"Hugo\"],\n",
    "    \"student_lastname\":[\"Butters\",\"Reed\",\"Maynard\",\"Wright\"]\n",
    "}\n",
    "allstate_student=pd.DataFrame(allstate)\n",
    "allstate_student"
   ]
  },
  {
   "cell_type": "code",
   "execution_count": 4,
   "metadata": {
    "ExecuteTime": {
     "end_time": "2022-02-18T03:08:55.430189Z",
     "start_time": "2022-02-18T03:08:55.418194Z"
    }
   },
   "outputs": [
    {
     "data": {
      "text/plain": [
       "<pandas.core.groupby.generic.DataFrameGroupBy object at 0x000002E05DB8A580>"
      ]
     },
     "execution_count": 4,
     "metadata": {},
     "output_type": "execute_result"
    }
   ],
   "source": [
    "groupby_id= allstudent_homework.groupby('student_id')\n",
    "groupby_id"
   ]
  },
  {
   "cell_type": "code",
   "execution_count": 5,
   "metadata": {
    "ExecuteTime": {
     "end_time": "2022-02-18T03:08:57.126573Z",
     "start_time": "2022-02-18T03:08:57.103596Z"
    }
   },
   "outputs": [],
   "source": [
    "avg_grade=groupby_id['grade'].mean().reset_index()\n",
    "avg_grade.rename(columns={'grade':'avg_grade'},inplace=True)"
   ]
  },
  {
   "cell_type": "code",
   "execution_count": 6,
   "metadata": {
    "ExecuteTime": {
     "end_time": "2022-02-18T03:08:58.051762Z",
     "start_time": "2022-02-18T03:08:58.040494Z"
    }
   },
   "outputs": [
    {
     "data": {
      "text/plain": [
       "student_id\n",
       "1    3\n",
       "2    1\n",
       "3    2\n",
       "4    0\n",
       "Name: grade, dtype: int64"
      ]
     },
     "execution_count": 6,
     "metadata": {},
     "output_type": "execute_result"
    }
   ],
   "source": [
    "groupby_id['grade'].count()"
   ]
  },
  {
   "cell_type": "code",
   "execution_count": 7,
   "metadata": {
    "ExecuteTime": {
     "end_time": "2022-02-18T03:08:59.064510Z",
     "start_time": "2022-02-18T03:08:59.052528Z"
    }
   },
   "outputs": [
    {
     "data": {
      "text/plain": [
       "3"
      ]
     },
     "execution_count": 7,
     "metadata": {},
     "output_type": "execute_result"
    }
   ],
   "source": [
    "len(allstudent_homework['homework_id'].unique())"
   ]
  },
  {
   "cell_type": "code",
   "execution_count": 8,
   "metadata": {
    "ExecuteTime": {
     "end_time": "2022-02-18T03:09:00.144980Z",
     "start_time": "2022-02-18T03:09:00.059218Z"
    }
   },
   "outputs": [],
   "source": [
    "completion_rate=(groupby_id['grade'].count()/len(allstudent_homework['homework_id'].unique())*100).reset_index()\n",
    "completion_rate.rename(columns={'grade':'completion_rate'},inplace=True)"
   ]
  },
  {
   "cell_type": "code",
   "execution_count": 9,
   "metadata": {
    "ExecuteTime": {
     "end_time": "2022-02-18T03:09:00.928018Z",
     "start_time": "2022-02-18T03:09:00.907032Z"
    }
   },
   "outputs": [
    {
     "data": {
      "text/html": [
       "<div>\n",
       "<style scoped>\n",
       "    .dataframe tbody tr th:only-of-type {\n",
       "        vertical-align: middle;\n",
       "    }\n",
       "\n",
       "    .dataframe tbody tr th {\n",
       "        vertical-align: top;\n",
       "    }\n",
       "\n",
       "    .dataframe thead th {\n",
       "        text-align: right;\n",
       "    }\n",
       "</style>\n",
       "<table border=\"1\" class=\"dataframe\">\n",
       "  <thead>\n",
       "    <tr style=\"text-align: right;\">\n",
       "      <th></th>\n",
       "      <th>student_id</th>\n",
       "      <th>student_firstname</th>\n",
       "      <th>student_lastname</th>\n",
       "      <th>avg_grade</th>\n",
       "    </tr>\n",
       "  </thead>\n",
       "  <tbody>\n",
       "    <tr>\n",
       "      <th>0</th>\n",
       "      <td>1</td>\n",
       "      <td>Marie</td>\n",
       "      <td>Butters</td>\n",
       "      <td>6.333333</td>\n",
       "    </tr>\n",
       "    <tr>\n",
       "      <th>1</th>\n",
       "      <td>2</td>\n",
       "      <td>Joan</td>\n",
       "      <td>Reed</td>\n",
       "      <td>8.000000</td>\n",
       "    </tr>\n",
       "    <tr>\n",
       "      <th>2</th>\n",
       "      <td>3</td>\n",
       "      <td>Marie</td>\n",
       "      <td>Maynard</td>\n",
       "      <td>5.000000</td>\n",
       "    </tr>\n",
       "    <tr>\n",
       "      <th>3</th>\n",
       "      <td>4</td>\n",
       "      <td>Hugo</td>\n",
       "      <td>Wright</td>\n",
       "      <td>NaN</td>\n",
       "    </tr>\n",
       "  </tbody>\n",
       "</table>\n",
       "</div>"
      ],
      "text/plain": [
       "   student_id student_firstname student_lastname  avg_grade\n",
       "0           1             Marie          Butters   6.333333\n",
       "1           2              Joan             Reed   8.000000\n",
       "2           3             Marie          Maynard   5.000000\n",
       "3           4              Hugo           Wright        NaN"
      ]
     },
     "execution_count": 9,
     "metadata": {},
     "output_type": "execute_result"
    }
   ],
   "source": [
    "l1=pd.merge(allstate_student,avg_grade,on='student_id')\n",
    "l1"
   ]
  },
  {
   "cell_type": "code",
   "execution_count": 10,
   "metadata": {
    "ExecuteTime": {
     "end_time": "2022-02-18T03:09:03.080440Z",
     "start_time": "2022-02-18T03:09:03.054289Z"
    }
   },
   "outputs": [
    {
     "data": {
      "text/html": [
       "<div>\n",
       "<style scoped>\n",
       "    .dataframe tbody tr th:only-of-type {\n",
       "        vertical-align: middle;\n",
       "    }\n",
       "\n",
       "    .dataframe tbody tr th {\n",
       "        vertical-align: top;\n",
       "    }\n",
       "\n",
       "    .dataframe thead th {\n",
       "        text-align: right;\n",
       "    }\n",
       "</style>\n",
       "<table border=\"1\" class=\"dataframe\">\n",
       "  <thead>\n",
       "    <tr style=\"text-align: right;\">\n",
       "      <th></th>\n",
       "      <th>student_id</th>\n",
       "      <th>student_firstname</th>\n",
       "      <th>student_lastname</th>\n",
       "      <th>avg_grade</th>\n",
       "      <th>completion_rate</th>\n",
       "    </tr>\n",
       "  </thead>\n",
       "  <tbody>\n",
       "    <tr>\n",
       "      <th>0</th>\n",
       "      <td>1</td>\n",
       "      <td>Marie</td>\n",
       "      <td>Butters</td>\n",
       "      <td>6.333333</td>\n",
       "      <td>100.000000</td>\n",
       "    </tr>\n",
       "    <tr>\n",
       "      <th>1</th>\n",
       "      <td>2</td>\n",
       "      <td>Joan</td>\n",
       "      <td>Reed</td>\n",
       "      <td>8.000000</td>\n",
       "      <td>33.333333</td>\n",
       "    </tr>\n",
       "    <tr>\n",
       "      <th>2</th>\n",
       "      <td>3</td>\n",
       "      <td>Marie</td>\n",
       "      <td>Maynard</td>\n",
       "      <td>5.000000</td>\n",
       "      <td>66.666667</td>\n",
       "    </tr>\n",
       "    <tr>\n",
       "      <th>3</th>\n",
       "      <td>4</td>\n",
       "      <td>Hugo</td>\n",
       "      <td>Wright</td>\n",
       "      <td>NaN</td>\n",
       "      <td>0.000000</td>\n",
       "    </tr>\n",
       "  </tbody>\n",
       "</table>\n",
       "</div>"
      ],
      "text/plain": [
       "   student_id student_firstname student_lastname  avg_grade  completion_rate\n",
       "0           1             Marie          Butters   6.333333       100.000000\n",
       "1           2              Joan             Reed   8.000000        33.333333\n",
       "2           3             Marie          Maynard   5.000000        66.666667\n",
       "3           4              Hugo           Wright        NaN         0.000000"
      ]
     },
     "execution_count": 10,
     "metadata": {},
     "output_type": "execute_result"
    }
   ],
   "source": [
    "result=pd.merge(l1,completion_rate,on='student_id')\n",
    "result"
   ]
  },
  {
   "cell_type": "code",
   "execution_count": 11,
   "metadata": {
    "ExecuteTime": {
     "end_time": "2022-02-18T03:09:03.713859Z",
     "start_time": "2022-02-18T03:09:03.698226Z"
    }
   },
   "outputs": [
    {
     "data": {
      "text/html": [
       "<div>\n",
       "<style scoped>\n",
       "    .dataframe tbody tr th:only-of-type {\n",
       "        vertical-align: middle;\n",
       "    }\n",
       "\n",
       "    .dataframe tbody tr th {\n",
       "        vertical-align: top;\n",
       "    }\n",
       "\n",
       "    .dataframe thead th {\n",
       "        text-align: right;\n",
       "    }\n",
       "</style>\n",
       "<table border=\"1\" class=\"dataframe\">\n",
       "  <thead>\n",
       "    <tr style=\"text-align: right;\">\n",
       "      <th></th>\n",
       "      <th>student_firstname</th>\n",
       "      <th>avg_grade</th>\n",
       "      <th>completion_rate</th>\n",
       "    </tr>\n",
       "  </thead>\n",
       "  <tbody>\n",
       "    <tr>\n",
       "      <th>0</th>\n",
       "      <td>Marie</td>\n",
       "      <td>6.333333</td>\n",
       "      <td>100.000000</td>\n",
       "    </tr>\n",
       "    <tr>\n",
       "      <th>1</th>\n",
       "      <td>Joan</td>\n",
       "      <td>8.000000</td>\n",
       "      <td>33.333333</td>\n",
       "    </tr>\n",
       "    <tr>\n",
       "      <th>2</th>\n",
       "      <td>Marie</td>\n",
       "      <td>5.000000</td>\n",
       "      <td>66.666667</td>\n",
       "    </tr>\n",
       "    <tr>\n",
       "      <th>3</th>\n",
       "      <td>Hugo</td>\n",
       "      <td>NaN</td>\n",
       "      <td>0.000000</td>\n",
       "    </tr>\n",
       "  </tbody>\n",
       "</table>\n",
       "</div>"
      ],
      "text/plain": [
       "  student_firstname  avg_grade  completion_rate\n",
       "0             Marie   6.333333       100.000000\n",
       "1              Joan   8.000000        33.333333\n",
       "2             Marie   5.000000        66.666667\n",
       "3              Hugo        NaN         0.000000"
      ]
     },
     "execution_count": 11,
     "metadata": {},
     "output_type": "execute_result"
    }
   ],
   "source": [
    "result[['student_firstname','avg_grade','completion_rate']]"
   ]
  },
  {
   "cell_type": "code",
   "execution_count": 12,
   "metadata": {
    "ExecuteTime": {
     "end_time": "2022-02-18T03:09:04.402971Z",
     "start_time": "2022-02-18T03:09:04.386997Z"
    }
   },
   "outputs": [
    {
     "data": {
      "text/html": [
       "<div>\n",
       "<style scoped>\n",
       "    .dataframe tbody tr th:only-of-type {\n",
       "        vertical-align: middle;\n",
       "    }\n",
       "\n",
       "    .dataframe tbody tr th {\n",
       "        vertical-align: top;\n",
       "    }\n",
       "\n",
       "    .dataframe thead th {\n",
       "        text-align: right;\n",
       "    }\n",
       "</style>\n",
       "<table border=\"1\" class=\"dataframe\">\n",
       "  <thead>\n",
       "    <tr style=\"text-align: right;\">\n",
       "      <th></th>\n",
       "      <th>student_firstname</th>\n",
       "      <th>avg_grade</th>\n",
       "      <th>completion_rate</th>\n",
       "    </tr>\n",
       "  </thead>\n",
       "  <tbody>\n",
       "    <tr>\n",
       "      <th>0</th>\n",
       "      <td>Marie</td>\n",
       "      <td>6.333333</td>\n",
       "      <td>100.000000</td>\n",
       "    </tr>\n",
       "    <tr>\n",
       "      <th>1</th>\n",
       "      <td>Joan</td>\n",
       "      <td>8.000000</td>\n",
       "      <td>33.333333</td>\n",
       "    </tr>\n",
       "    <tr>\n",
       "      <th>2</th>\n",
       "      <td>Marie</td>\n",
       "      <td>5.000000</td>\n",
       "      <td>66.666667</td>\n",
       "    </tr>\n",
       "    <tr>\n",
       "      <th>3</th>\n",
       "      <td>Hugo</td>\n",
       "      <td>NaN</td>\n",
       "      <td>0.000000</td>\n",
       "    </tr>\n",
       "  </tbody>\n",
       "</table>\n",
       "</div>"
      ],
      "text/plain": [
       "  student_firstname  avg_grade  completion_rate\n",
       "0             Marie   6.333333       100.000000\n",
       "1              Joan   8.000000        33.333333\n",
       "2             Marie   5.000000        66.666667\n",
       "3              Hugo        NaN         0.000000"
      ]
     },
     "execution_count": 12,
     "metadata": {},
     "output_type": "execute_result"
    }
   ],
   "source": [
    "result[['student_firstname','avg_grade','completion_rate']]"
   ]
  },
  {
   "cell_type": "code",
   "execution_count": 13,
   "metadata": {
    "ExecuteTime": {
     "end_time": "2022-02-18T03:09:05.512731Z",
     "start_time": "2022-02-18T03:09:05.497737Z"
    }
   },
   "outputs": [
    {
     "ename": "SyntaxError",
     "evalue": "invalid syntax (<ipython-input-13-176069a1d61b>, line 1)",
     "output_type": "error",
     "traceback": [
      "\u001b[1;36m  File \u001b[1;32m\"<ipython-input-13-176069a1d61b>\"\u001b[1;36m, line \u001b[1;32m1\u001b[0m\n\u001b[1;33m    1\t2021-07-01 00:00:00\t2021-09-30 00:00:00\u001b[0m\n\u001b[1;37m     \t^\u001b[0m\n\u001b[1;31mSyntaxError\u001b[0m\u001b[1;31m:\u001b[0m invalid syntax\n"
     ]
    }
   ],
   "source": [
    "1\t2021-07-01 00:00:00\t2021-09-30 00:00:00\n",
    "2\t2021-08-17 00:00:00\t2021-09-01 00:00:00\n",
    "3\t2021-08-23 00:00:00\t2021-09-14 00:00:00\n",
    "4\t2021-08-31 00:00:00\t2021-09-23 00:00:00\n",
    "5\t2021-09-01 00:00:00\t\n",
    "6\t2021-09-02 00:00:00\t2021-09-03 00:00:00\n"
   ]
  },
  {
   "cell_type": "code",
   "execution_count": 14,
   "metadata": {
    "ExecuteTime": {
     "end_time": "2022-02-18T03:09:06.187706Z",
     "start_time": "2022-02-18T03:09:06.162708Z"
    }
   },
   "outputs": [],
   "source": [
    "data=dict(\n",
    "    user_id=[1,2,3,4,5,6],\n",
    "    contract_start=[\"2021-07-01\",\"2021-08-17\",\"2021-08-23\",\"2021-08-31\",\"2021-09-01\",\"2021-09-02\"],\n",
    "    contract_end=['2021-09-30','2021-09-01','2021-09-14','2021-09-23','2021-09-30','2021-09-03']\n",
    ")\n",
    "data=pd.DataFrame(data)\n",
    "\n",
    "# convert to datetime\n",
    "data['contract_start']=pd.to_datetime(data['contract_start'])\n",
    "data['contract_end']=pd.to_datetime(data['contract_end'])"
   ]
  },
  {
   "cell_type": "code",
   "execution_count": 15,
   "metadata": {
    "ExecuteTime": {
     "end_time": "2022-02-18T03:09:06.930463Z",
     "start_time": "2022-02-18T03:09:06.918468Z"
    }
   },
   "outputs": [
    {
     "data": {
      "text/plain": [
       "0    False\n",
       "1     True\n",
       "2     True\n",
       "3     True\n",
       "4    False\n",
       "5     True\n",
       "Name: contract_end, dtype: bool"
      ]
     },
     "execution_count": 15,
     "metadata": {},
     "output_type": "execute_result"
    }
   ],
   "source": [
    "(data['contract_end']>='2021-09-1')  & (data['contract_end']<'2021-09-30')"
   ]
  },
  {
   "cell_type": "code",
   "execution_count": 16,
   "metadata": {
    "ExecuteTime": {
     "end_time": "2022-02-18T03:09:07.766272Z",
     "start_time": "2022-02-18T03:09:07.753086Z"
    }
   },
   "outputs": [
    {
     "data": {
      "text/plain": [
       "Timestamp('2020-09-25 00:00:00')"
      ]
     },
     "execution_count": 16,
     "metadata": {},
     "output_type": "execute_result"
    }
   ],
   "source": [
    "pd.to_datetime(\"2020-09-25\")"
   ]
  },
  {
   "cell_type": "code",
   "execution_count": 17,
   "metadata": {
    "ExecuteTime": {
     "end_time": "2022-02-18T03:09:08.392552Z",
     "start_time": "2022-02-18T03:09:08.372559Z"
    }
   },
   "outputs": [],
   "source": [
    "ship={\n",
    "    \"shipment_id\":[101,101,101,102,103,103],\n",
    "    \"sub_id\":[1,2,3,1,1,2],\n",
    "    \"weight\":[10,20,10,50,25,30],\n",
    "    \"shipment_data\":[\"2021-08-30\",\"2021-09-01\",\"2021-09-05\",\"2021-09-02\",\"2021-09-01\",\"2021-09-02\"]\n",
    "}\n",
    "\n",
    "df = pd.DataFrame(ship)"
   ]
  },
  {
   "cell_type": "code",
   "execution_count": 18,
   "metadata": {
    "ExecuteTime": {
     "end_time": "2022-02-18T03:09:08.861422Z",
     "start_time": "2022-02-18T03:09:08.844428Z"
    }
   },
   "outputs": [
    {
     "data": {
      "text/html": [
       "<div>\n",
       "<style scoped>\n",
       "    .dataframe tbody tr th:only-of-type {\n",
       "        vertical-align: middle;\n",
       "    }\n",
       "\n",
       "    .dataframe tbody tr th {\n",
       "        vertical-align: top;\n",
       "    }\n",
       "\n",
       "    .dataframe thead th {\n",
       "        text-align: right;\n",
       "    }\n",
       "</style>\n",
       "<table border=\"1\" class=\"dataframe\">\n",
       "  <thead>\n",
       "    <tr style=\"text-align: right;\">\n",
       "      <th></th>\n",
       "      <th>shipment_id</th>\n",
       "      <th>sub_id</th>\n",
       "      <th>weight</th>\n",
       "      <th>shipment_data</th>\n",
       "    </tr>\n",
       "  </thead>\n",
       "  <tbody>\n",
       "    <tr>\n",
       "      <th>0</th>\n",
       "      <td>101</td>\n",
       "      <td>1</td>\n",
       "      <td>10</td>\n",
       "      <td>2021-08-30</td>\n",
       "    </tr>\n",
       "    <tr>\n",
       "      <th>1</th>\n",
       "      <td>101</td>\n",
       "      <td>2</td>\n",
       "      <td>20</td>\n",
       "      <td>2021-09-01</td>\n",
       "    </tr>\n",
       "    <tr>\n",
       "      <th>2</th>\n",
       "      <td>101</td>\n",
       "      <td>3</td>\n",
       "      <td>10</td>\n",
       "      <td>2021-09-05</td>\n",
       "    </tr>\n",
       "    <tr>\n",
       "      <th>3</th>\n",
       "      <td>102</td>\n",
       "      <td>1</td>\n",
       "      <td>50</td>\n",
       "      <td>2021-09-02</td>\n",
       "    </tr>\n",
       "    <tr>\n",
       "      <th>4</th>\n",
       "      <td>103</td>\n",
       "      <td>1</td>\n",
       "      <td>25</td>\n",
       "      <td>2021-09-01</td>\n",
       "    </tr>\n",
       "    <tr>\n",
       "      <th>5</th>\n",
       "      <td>103</td>\n",
       "      <td>2</td>\n",
       "      <td>30</td>\n",
       "      <td>2021-09-02</td>\n",
       "    </tr>\n",
       "  </tbody>\n",
       "</table>\n",
       "</div>"
      ],
      "text/plain": [
       "   shipment_id  sub_id  weight shipment_data\n",
       "0          101       1      10    2021-08-30\n",
       "1          101       2      20    2021-09-01\n",
       "2          101       3      10    2021-09-05\n",
       "3          102       1      50    2021-09-02\n",
       "4          103       1      25    2021-09-01\n",
       "5          103       2      30    2021-09-02"
      ]
     },
     "execution_count": 18,
     "metadata": {},
     "output_type": "execute_result"
    }
   ],
   "source": [
    "df"
   ]
  },
  {
   "cell_type": "code",
   "execution_count": 19,
   "metadata": {
    "ExecuteTime": {
     "end_time": "2022-02-18T03:09:09.475102Z",
     "start_time": "2022-02-18T03:09:09.461090Z"
    }
   },
   "outputs": [],
   "source": [
    "df['year_month']=pd.to_datetime(df['shipment_data']).dt.to_period(\"M\")"
   ]
  },
  {
   "cell_type": "code",
   "execution_count": 20,
   "metadata": {
    "ExecuteTime": {
     "end_time": "2022-02-18T03:09:10.500025Z",
     "start_time": "2022-02-18T03:09:10.486022Z"
    }
   },
   "outputs": [
    {
     "data": {
      "text/html": [
       "<div>\n",
       "<style scoped>\n",
       "    .dataframe tbody tr th:only-of-type {\n",
       "        vertical-align: middle;\n",
       "    }\n",
       "\n",
       "    .dataframe tbody tr th {\n",
       "        vertical-align: top;\n",
       "    }\n",
       "\n",
       "    .dataframe thead th {\n",
       "        text-align: right;\n",
       "    }\n",
       "</style>\n",
       "<table border=\"1\" class=\"dataframe\">\n",
       "  <thead>\n",
       "    <tr style=\"text-align: right;\">\n",
       "      <th></th>\n",
       "      <th>year_month</th>\n",
       "      <th>num_shipment</th>\n",
       "    </tr>\n",
       "  </thead>\n",
       "  <tbody>\n",
       "    <tr>\n",
       "      <th>0</th>\n",
       "      <td>2021-08</td>\n",
       "      <td>1</td>\n",
       "    </tr>\n",
       "    <tr>\n",
       "      <th>1</th>\n",
       "      <td>2021-09</td>\n",
       "      <td>5</td>\n",
       "    </tr>\n",
       "  </tbody>\n",
       "</table>\n",
       "</div>"
      ],
      "text/plain": [
       "  year_month  num_shipment\n",
       "0    2021-08             1\n",
       "1    2021-09             5"
      ]
     },
     "execution_count": 20,
     "metadata": {},
     "output_type": "execute_result"
    }
   ],
   "source": [
    "df.groupby('year_month').size().to_frame(\"num_shipment\").reset_index()"
   ]
  },
  {
   "cell_type": "code",
   "execution_count": 21,
   "metadata": {
    "ExecuteTime": {
     "end_time": "2022-02-18T03:09:11.234959Z",
     "start_time": "2022-02-18T03:09:11.216962Z"
    }
   },
   "outputs": [],
   "source": [
    "dec = {\n",
    "    \"date\":['2021-01-01','2021-01-01','2021-01-06','2021-01-02','2020-12-24','2020-12-08','2020-12-09','2021-01-10','2021-01-11','2021-01-12','2021-01-15','2020-12-17','2020-12-25','2020-12-25','2020-12-25','2020-12-06','2020-12-06','2021-01-14','2021-02-07','2021-02-10','2021-02-01','2021-02-01'],\n",
    "    \"account_id\":[\"A1\",\"A1\",\"A1\",\"A1\",\"A1\",\"A1\",\"A1\",\"A2\",\"A2\",\"A2\",\"A2\",\"A2\",'A3',\"A3\",\"A3\",\"A3\",\"A3\",\"A3\",\"A1\",\"A1\",\"A2\",\"A2\"],\n",
    "    \"user_id\":[\"U1\",\"U2\",\"U3\",\"U1\",\"U2\",\"U1\",\"U1\",\"U4\",\"U4\",\"U4\",\"U5\",\"U4\",\"U6\",\"U6\",\"U6\",\"U7\",\"U6\",\"U6\",\"U1\",\"U2\",\"U4\",\"U5\"]\n",
    "    \n",
    "}"
   ]
  },
  {
   "cell_type": "code",
   "execution_count": 22,
   "metadata": {
    "ExecuteTime": {
     "end_time": "2022-02-18T03:09:11.826914Z",
     "start_time": "2022-02-18T03:09:11.819895Z"
    }
   },
   "outputs": [
    {
     "data": {
      "text/plain": [
       "22"
      ]
     },
     "execution_count": 22,
     "metadata": {},
     "output_type": "execute_result"
    }
   ],
   "source": [
    "len(dec['user_id'])"
   ]
  },
  {
   "cell_type": "code",
   "execution_count": 23,
   "metadata": {
    "ExecuteTime": {
     "end_time": "2022-02-18T03:09:12.457160Z",
     "start_time": "2022-02-18T03:09:12.446189Z"
    }
   },
   "outputs": [],
   "source": [
    "sf_events = pd.DataFrame(dec)"
   ]
  },
  {
   "cell_type": "code",
   "execution_count": 24,
   "metadata": {
    "ExecuteTime": {
     "end_time": "2022-02-18T03:09:13.802633Z",
     "start_time": "2022-02-18T03:09:13.792639Z"
    }
   },
   "outputs": [
    {
     "data": {
      "text/plain": [
       "0     2021-01-01\n",
       "1     2021-01-01\n",
       "2     2021-01-06\n",
       "3     2021-01-02\n",
       "4     2020-12-24\n",
       "5     2020-12-08\n",
       "6     2020-12-09\n",
       "7     2021-01-10\n",
       "8     2021-01-11\n",
       "9     2021-01-12\n",
       "10    2021-01-15\n",
       "11    2020-12-17\n",
       "12    2020-12-25\n",
       "13    2020-12-25\n",
       "14    2020-12-25\n",
       "15    2020-12-06\n",
       "16    2020-12-06\n",
       "17    2021-01-14\n",
       "18    2021-02-07\n",
       "19    2021-02-10\n",
       "20    2021-02-01\n",
       "21    2021-02-01\n",
       "Name: date, dtype: object"
      ]
     },
     "execution_count": 24,
     "metadata": {},
     "output_type": "execute_result"
    }
   ],
   "source": [
    "sf_events['date']"
   ]
  },
  {
   "cell_type": "code",
   "execution_count": 25,
   "metadata": {
    "ExecuteTime": {
     "end_time": "2022-02-18T03:09:20.628875Z",
     "start_time": "2022-02-18T03:09:20.607891Z"
    }
   },
   "outputs": [
    {
     "data": {
      "text/plain": [
       "0            NaN\n",
       "1            NaN\n",
       "2            NaN\n",
       "3     2021-01-01\n",
       "4     2021-01-01\n",
       "5     2021-01-02\n",
       "6     2020-12-08\n",
       "7            NaN\n",
       "8     2021-01-10\n",
       "9     2021-01-11\n",
       "10           NaN\n",
       "11    2021-01-12\n",
       "12           NaN\n",
       "13    2020-12-25\n",
       "14    2020-12-25\n",
       "15           NaN\n",
       "16    2020-12-25\n",
       "17    2020-12-06\n",
       "18    2020-12-09\n",
       "19    2020-12-24\n",
       "20    2020-12-17\n",
       "21    2021-01-15\n",
       "Name: date, dtype: object"
      ]
     },
     "execution_count": 25,
     "metadata": {},
     "output_type": "execute_result"
    }
   ],
   "source": [
    "sf_events.groupby(['user_id'])['date'].shift()\n"
   ]
  },
  {
   "cell_type": "code",
   "execution_count": 26,
   "metadata": {
    "ExecuteTime": {
     "end_time": "2022-02-18T03:09:21.775396Z",
     "start_time": "2022-02-18T03:09:21.761369Z"
    }
   },
   "outputs": [],
   "source": [
    "sf=sf_events\n",
    "sf.sort_values(by='date',inplace=True)\n"
   ]
  },
  {
   "cell_type": "code",
   "execution_count": null,
   "metadata": {
    "ExecuteTime": {
     "end_time": "2022-02-18T03:09:22.275372Z",
     "start_time": "2022-02-18T03:09:22.250368Z"
    }
   },
   "outputs": [],
   "source": []
  },
  {
   "cell_type": "code",
   "execution_count": null,
   "metadata": {},
   "outputs": [],
   "source": [
    "\n",
    "id\tuser_id\tcreated_at\tstatus\ttype\n",
    "1\t100\t2017-04-21 00:00:00\tprequal_completd_offer\tRefinance\n",
    "2\t100\t2017-04-27 00:00:00\toffer_accepted\tRefinance\n",
    "3\t101\t2017-04-22 00:00:00\tprequal_completd_no_offer\tRefinance\n",
    "4\t101\t2017-04-23 00:00:00\toffer_accepted\tRefinance\n",
    "5\t101\t2017-04-25 00:00:00\toffer_accepted\tPersonal\n",
    "6\t102\t2017-04-27 00:00:00\toffer_accepted\tInSchool\n",
    "7\t107\t2017-04-27 00:00:00\tprequal_response_received\tPersonal\n",
    "8\t108\t2017-04-21 00:00:00\tform_in_progress\tRefinance\n",
    "9\t108\t2017-04-27 00:00:00\toffer_accepted\tRefinance\n",
    "10\t108\t2017-04-27 00:00:00\tprequal_response_received\tInSchool\n",
    "11\t100\t2015-04-21 00:00:00\tprequal_completd_offer\tRefinance"
   ]
  },
  {
   "cell_type": "code",
   "execution_count": 37,
   "metadata": {
    "ExecuteTime": {
     "end_time": "2022-02-18T03:29:22.469190Z",
     "start_time": "2022-02-18T03:29:22.450187Z"
    }
   },
   "outputs": [],
   "source": [
    "sub={\n",
    "    'id':[i for i in range(1,12)],\n",
    "    'user_id':[100,100,101,101,101,102,107,108,108,108,100],\n",
    "    'creatd_at':['2017-04-21','2017-04-27','2017-04-22','2017-04-23','2017-04-25'\n",
    "                 ,'2017-04-27','2017-04-27','2017-04-21','2017-04-27','2017-04-27','2015-04-21'],\n",
    "    'status':['prequal_completedd_offer','offer_accepted','prequal_completd_no_offer','offer_accepted','offer_accepted','offer_accepted',\n",
    "             'prequal_responcse_response_received','form_in_progress','offer_accepted','prequal_response_received','prequal_completed_offer'],\n",
    "    'type':['Refinance','Refinance','Refinance','Refinance','Personal',\"InSchool\",'Personal','Refinacne','Refinance',\"InSchool\",'Refincance']\n",
    "}\n",
    "\n",
    "sub_type=pd.DataFrame(sub)"
   ]
  },
  {
   "cell_type": "code",
   "execution_count": 39,
   "metadata": {
    "ExecuteTime": {
     "end_time": "2022-02-18T03:29:35.142609Z",
     "start_time": "2022-02-18T03:29:35.130619Z"
    }
   },
   "outputs": [
    {
     "data": {
      "text/html": [
       "<div>\n",
       "<style scoped>\n",
       "    .dataframe tbody tr th:only-of-type {\n",
       "        vertical-align: middle;\n",
       "    }\n",
       "\n",
       "    .dataframe tbody tr th {\n",
       "        vertical-align: top;\n",
       "    }\n",
       "\n",
       "    .dataframe thead th {\n",
       "        text-align: right;\n",
       "    }\n",
       "</style>\n",
       "<table border=\"1\" class=\"dataframe\">\n",
       "  <thead>\n",
       "    <tr style=\"text-align: right;\">\n",
       "      <th></th>\n",
       "      <th>id</th>\n",
       "      <th>user_id</th>\n",
       "      <th>creatd_at</th>\n",
       "      <th>status</th>\n",
       "      <th>type</th>\n",
       "    </tr>\n",
       "  </thead>\n",
       "  <tbody>\n",
       "    <tr>\n",
       "      <th>0</th>\n",
       "      <td>1</td>\n",
       "      <td>100</td>\n",
       "      <td>2017-04-21</td>\n",
       "      <td>prequal_completedd_offer</td>\n",
       "      <td>Refinance</td>\n",
       "    </tr>\n",
       "    <tr>\n",
       "      <th>1</th>\n",
       "      <td>2</td>\n",
       "      <td>100</td>\n",
       "      <td>2017-04-27</td>\n",
       "      <td>offer_accepted</td>\n",
       "      <td>Refinance</td>\n",
       "    </tr>\n",
       "    <tr>\n",
       "      <th>2</th>\n",
       "      <td>3</td>\n",
       "      <td>101</td>\n",
       "      <td>2017-04-22</td>\n",
       "      <td>prequal_completd_no_offer</td>\n",
       "      <td>Refinance</td>\n",
       "    </tr>\n",
       "    <tr>\n",
       "      <th>3</th>\n",
       "      <td>4</td>\n",
       "      <td>101</td>\n",
       "      <td>2017-04-23</td>\n",
       "      <td>offer_accepted</td>\n",
       "      <td>Refinance</td>\n",
       "    </tr>\n",
       "    <tr>\n",
       "      <th>4</th>\n",
       "      <td>5</td>\n",
       "      <td>101</td>\n",
       "      <td>2017-04-25</td>\n",
       "      <td>offer_accepted</td>\n",
       "      <td>Personal</td>\n",
       "    </tr>\n",
       "    <tr>\n",
       "      <th>5</th>\n",
       "      <td>6</td>\n",
       "      <td>102</td>\n",
       "      <td>2017-04-27</td>\n",
       "      <td>offer_accepted</td>\n",
       "      <td>InSchool</td>\n",
       "    </tr>\n",
       "    <tr>\n",
       "      <th>6</th>\n",
       "      <td>7</td>\n",
       "      <td>107</td>\n",
       "      <td>2017-04-27</td>\n",
       "      <td>prequal_responcse_response_received</td>\n",
       "      <td>Personal</td>\n",
       "    </tr>\n",
       "    <tr>\n",
       "      <th>7</th>\n",
       "      <td>8</td>\n",
       "      <td>108</td>\n",
       "      <td>2017-04-21</td>\n",
       "      <td>form_in_progress</td>\n",
       "      <td>Refinacne</td>\n",
       "    </tr>\n",
       "    <tr>\n",
       "      <th>8</th>\n",
       "      <td>9</td>\n",
       "      <td>108</td>\n",
       "      <td>2017-04-27</td>\n",
       "      <td>offer_accepted</td>\n",
       "      <td>Refinance</td>\n",
       "    </tr>\n",
       "    <tr>\n",
       "      <th>9</th>\n",
       "      <td>10</td>\n",
       "      <td>108</td>\n",
       "      <td>2017-04-27</td>\n",
       "      <td>prequal_response_received</td>\n",
       "      <td>InSchool</td>\n",
       "    </tr>\n",
       "    <tr>\n",
       "      <th>10</th>\n",
       "      <td>11</td>\n",
       "      <td>100</td>\n",
       "      <td>2015-04-21</td>\n",
       "      <td>prequal_completed_offer</td>\n",
       "      <td>Refincance</td>\n",
       "    </tr>\n",
       "  </tbody>\n",
       "</table>\n",
       "</div>"
      ],
      "text/plain": [
       "    id  user_id   creatd_at                               status        type\n",
       "0    1      100  2017-04-21             prequal_completedd_offer   Refinance\n",
       "1    2      100  2017-04-27                       offer_accepted   Refinance\n",
       "2    3      101  2017-04-22            prequal_completd_no_offer   Refinance\n",
       "3    4      101  2017-04-23                       offer_accepted   Refinance\n",
       "4    5      101  2017-04-25                       offer_accepted    Personal\n",
       "5    6      102  2017-04-27                       offer_accepted    InSchool\n",
       "6    7      107  2017-04-27  prequal_responcse_response_received    Personal\n",
       "7    8      108  2017-04-21                     form_in_progress   Refinacne\n",
       "8    9      108  2017-04-27                       offer_accepted   Refinance\n",
       "9   10      108  2017-04-27            prequal_response_received    InSchool\n",
       "10  11      100  2015-04-21              prequal_completed_offer  Refincance"
      ]
     },
     "execution_count": 39,
     "metadata": {},
     "output_type": "execute_result"
    }
   ],
   "source": [
    "sub_type"
   ]
  },
  {
   "cell_type": "code",
   "execution_count": 52,
   "metadata": {
    "ExecuteTime": {
     "end_time": "2022-02-18T03:44:38.786310Z",
     "start_time": "2022-02-18T03:44:38.771309Z"
    }
   },
   "outputs": [
    {
     "data": {
      "text/html": [
       "<div>\n",
       "<style scoped>\n",
       "    .dataframe tbody tr th:only-of-type {\n",
       "        vertical-align: middle;\n",
       "    }\n",
       "\n",
       "    .dataframe tbody tr th {\n",
       "        vertical-align: top;\n",
       "    }\n",
       "\n",
       "    .dataframe thead th {\n",
       "        text-align: right;\n",
       "    }\n",
       "</style>\n",
       "<table border=\"1\" class=\"dataframe\">\n",
       "  <thead>\n",
       "    <tr style=\"text-align: right;\">\n",
       "      <th></th>\n",
       "      <th>id</th>\n",
       "      <th>user_id</th>\n",
       "      <th>creatd_at</th>\n",
       "      <th>status</th>\n",
       "      <th>type</th>\n",
       "    </tr>\n",
       "  </thead>\n",
       "  <tbody>\n",
       "    <tr>\n",
       "      <th>0</th>\n",
       "      <td>1</td>\n",
       "      <td>100</td>\n",
       "      <td>2017-04-21</td>\n",
       "      <td>prequal_completedd_offer</td>\n",
       "      <td>Refinance</td>\n",
       "    </tr>\n",
       "    <tr>\n",
       "      <th>1</th>\n",
       "      <td>2</td>\n",
       "      <td>100</td>\n",
       "      <td>2017-04-27</td>\n",
       "      <td>offer_accepted</td>\n",
       "      <td>Refinance</td>\n",
       "    </tr>\n",
       "    <tr>\n",
       "      <th>2</th>\n",
       "      <td>3</td>\n",
       "      <td>101</td>\n",
       "      <td>2017-04-22</td>\n",
       "      <td>prequal_completd_no_offer</td>\n",
       "      <td>Refinance</td>\n",
       "    </tr>\n",
       "    <tr>\n",
       "      <th>3</th>\n",
       "      <td>4</td>\n",
       "      <td>101</td>\n",
       "      <td>2017-04-23</td>\n",
       "      <td>offer_accepted</td>\n",
       "      <td>Refinance</td>\n",
       "    </tr>\n",
       "    <tr>\n",
       "      <th>5</th>\n",
       "      <td>6</td>\n",
       "      <td>102</td>\n",
       "      <td>2017-04-27</td>\n",
       "      <td>offer_accepted</td>\n",
       "      <td>InSchool</td>\n",
       "    </tr>\n",
       "    <tr>\n",
       "      <th>8</th>\n",
       "      <td>9</td>\n",
       "      <td>108</td>\n",
       "      <td>2017-04-27</td>\n",
       "      <td>offer_accepted</td>\n",
       "      <td>Refinance</td>\n",
       "    </tr>\n",
       "    <tr>\n",
       "      <th>9</th>\n",
       "      <td>10</td>\n",
       "      <td>108</td>\n",
       "      <td>2017-04-27</td>\n",
       "      <td>prequal_response_received</td>\n",
       "      <td>InSchool</td>\n",
       "    </tr>\n",
       "  </tbody>\n",
       "</table>\n",
       "</div>"
      ],
      "text/plain": [
       "   id  user_id   creatd_at                     status       type\n",
       "0   1      100  2017-04-21   prequal_completedd_offer  Refinance\n",
       "1   2      100  2017-04-27             offer_accepted  Refinance\n",
       "2   3      101  2017-04-22  prequal_completd_no_offer  Refinance\n",
       "3   4      101  2017-04-23             offer_accepted  Refinance\n",
       "5   6      102  2017-04-27             offer_accepted   InSchool\n",
       "8   9      108  2017-04-27             offer_accepted  Refinance\n",
       "9  10      108  2017-04-27  prequal_response_received   InSchool"
      ]
     },
     "execution_count": 52,
     "metadata": {},
     "output_type": "execute_result"
    }
   ],
   "source": [
    "sub_type.loc[(sub_type['type']==\"Refinance\") | (sub_type['type']=='InSchool')].groupby('user_id')"
   ]
  },
  {
   "cell_type": "code",
   "execution_count": 75,
   "metadata": {
    "ExecuteTime": {
     "end_time": "2022-02-18T04:38:50.380753Z",
     "start_time": "2022-02-18T04:38:50.357759Z"
    }
   },
   "outputs": [
    {
     "data": {
      "text/html": [
       "<div>\n",
       "<style scoped>\n",
       "    .dataframe tbody tr th:only-of-type {\n",
       "        vertical-align: middle;\n",
       "    }\n",
       "\n",
       "    .dataframe tbody tr th {\n",
       "        vertical-align: top;\n",
       "    }\n",
       "\n",
       "    .dataframe thead th {\n",
       "        text-align: right;\n",
       "    }\n",
       "</style>\n",
       "<table border=\"1\" class=\"dataframe\">\n",
       "  <thead>\n",
       "    <tr style=\"text-align: right;\">\n",
       "      <th></th>\n",
       "      <th>user_id</th>\n",
       "      <th>type</th>\n",
       "    </tr>\n",
       "  </thead>\n",
       "  <tbody>\n",
       "    <tr>\n",
       "      <th>0</th>\n",
       "      <td>100</td>\n",
       "      <td>[Refinance, Refincance]</td>\n",
       "    </tr>\n",
       "    <tr>\n",
       "      <th>1</th>\n",
       "      <td>101</td>\n",
       "      <td>[Refinance, Personal]</td>\n",
       "    </tr>\n",
       "    <tr>\n",
       "      <th>2</th>\n",
       "      <td>102</td>\n",
       "      <td>[InSchool]</td>\n",
       "    </tr>\n",
       "    <tr>\n",
       "      <th>3</th>\n",
       "      <td>107</td>\n",
       "      <td>[Personal]</td>\n",
       "    </tr>\n",
       "    <tr>\n",
       "      <th>4</th>\n",
       "      <td>108</td>\n",
       "      <td>[Refinacne, Refinance, InSchool]</td>\n",
       "    </tr>\n",
       "  </tbody>\n",
       "</table>\n",
       "</div>"
      ],
      "text/plain": [
       "   user_id                              type\n",
       "0      100           [Refinance, Refincance]\n",
       "1      101             [Refinance, Personal]\n",
       "2      102                        [InSchool]\n",
       "3      107                        [Personal]\n",
       "4      108  [Refinacne, Refinance, InSchool]"
      ]
     },
     "execution_count": 75,
     "metadata": {},
     "output_type": "execute_result"
    }
   ],
   "source": [
    "df=sub_type.groupby('user_id').agg({'type':'unique'}).reset_index()\n",
    "df"
   ]
  },
  {
   "cell_type": "code",
   "execution_count": 76,
   "metadata": {
    "ExecuteTime": {
     "end_time": "2022-02-18T04:38:54.096045Z",
     "start_time": "2022-02-18T04:38:54.079047Z"
    }
   },
   "outputs": [],
   "source": [
    "df['tag']=df['type'].apply(lambda x:  1 if ('Refinance' in x) & ('InSchool' in x) else 0)"
   ]
  },
  {
   "cell_type": "code",
   "execution_count": 77,
   "metadata": {
    "ExecuteTime": {
     "end_time": "2022-02-18T04:38:54.672957Z",
     "start_time": "2022-02-18T04:38:54.647963Z"
    }
   },
   "outputs": [
    {
     "data": {
      "text/html": [
       "<div>\n",
       "<style scoped>\n",
       "    .dataframe tbody tr th:only-of-type {\n",
       "        vertical-align: middle;\n",
       "    }\n",
       "\n",
       "    .dataframe tbody tr th {\n",
       "        vertical-align: top;\n",
       "    }\n",
       "\n",
       "    .dataframe thead th {\n",
       "        text-align: right;\n",
       "    }\n",
       "</style>\n",
       "<table border=\"1\" class=\"dataframe\">\n",
       "  <thead>\n",
       "    <tr style=\"text-align: right;\">\n",
       "      <th></th>\n",
       "      <th>user_id</th>\n",
       "      <th>type</th>\n",
       "      <th>tag</th>\n",
       "    </tr>\n",
       "  </thead>\n",
       "  <tbody>\n",
       "    <tr>\n",
       "      <th>0</th>\n",
       "      <td>100</td>\n",
       "      <td>[Refinance, Refincance]</td>\n",
       "      <td>0</td>\n",
       "    </tr>\n",
       "    <tr>\n",
       "      <th>1</th>\n",
       "      <td>101</td>\n",
       "      <td>[Refinance, Personal]</td>\n",
       "      <td>0</td>\n",
       "    </tr>\n",
       "    <tr>\n",
       "      <th>2</th>\n",
       "      <td>102</td>\n",
       "      <td>[InSchool]</td>\n",
       "      <td>0</td>\n",
       "    </tr>\n",
       "    <tr>\n",
       "      <th>3</th>\n",
       "      <td>107</td>\n",
       "      <td>[Personal]</td>\n",
       "      <td>0</td>\n",
       "    </tr>\n",
       "    <tr>\n",
       "      <th>4</th>\n",
       "      <td>108</td>\n",
       "      <td>[Refinacne, Refinance, InSchool]</td>\n",
       "      <td>1</td>\n",
       "    </tr>\n",
       "  </tbody>\n",
       "</table>\n",
       "</div>"
      ],
      "text/plain": [
       "   user_id                              type  tag\n",
       "0      100           [Refinance, Refincance]    0\n",
       "1      101             [Refinance, Personal]    0\n",
       "2      102                        [InSchool]    0\n",
       "3      107                        [Personal]    0\n",
       "4      108  [Refinacne, Refinance, InSchool]    1"
      ]
     },
     "execution_count": 77,
     "metadata": {},
     "output_type": "execute_result"
    }
   ],
   "source": [
    "df"
   ]
  },
  {
   "cell_type": "code",
   "execution_count": 79,
   "metadata": {
    "ExecuteTime": {
     "end_time": "2022-02-18T04:39:26.921462Z",
     "start_time": "2022-02-18T04:39:26.906469Z"
    }
   },
   "outputs": [
    {
     "data": {
      "text/plain": [
       "4    108\n",
       "Name: user_id, dtype: int64"
      ]
     },
     "execution_count": 79,
     "metadata": {},
     "output_type": "execute_result"
    }
   ],
   "source": [
    "df[df['tag']==1]['user_id']"
   ]
  },
  {
   "cell_type": "code",
   "execution_count": null,
   "metadata": {},
   "outputs": [],
   "source": []
  },
  {
   "cell_type": "code",
   "execution_count": null,
   "metadata": {},
   "outputs": [],
   "source": []
  },
  {
   "cell_type": "code",
   "execution_count": null,
   "metadata": {},
   "outputs": [],
   "source": []
  },
  {
   "cell_type": "code",
   "execution_count": null,
   "metadata": {},
   "outputs": [],
   "source": []
  },
  {
   "cell_type": "code",
   "execution_count": null,
   "metadata": {},
   "outputs": [],
   "source": []
  }
 ],
 "metadata": {
  "interpreter": {
   "hash": "b5cdd23c5aa57cd63174c86078fbc0df0cfd70259344bbe92a3726bf69df8658"
  },
  "kernelspec": {
   "display_name": "Python 3",
   "language": "python",
   "name": "python3"
  },
  "language_info": {
   "codemirror_mode": {
    "name": "ipython",
    "version": 3
   },
   "file_extension": ".py",
   "mimetype": "text/x-python",
   "name": "python",
   "nbconvert_exporter": "python",
   "pygments_lexer": "ipython3",
   "version": "3.9.1"
  },
  "toc": {
   "base_numbering": 1,
   "nav_menu": {},
   "number_sections": true,
   "sideBar": true,
   "skip_h1_title": false,
   "title_cell": "Table of Contents",
   "title_sidebar": "Contents",
   "toc_cell": false,
   "toc_position": {},
   "toc_section_display": true,
   "toc_window_display": false
  }
 },
 "nbformat": 4,
 "nbformat_minor": 2
}
