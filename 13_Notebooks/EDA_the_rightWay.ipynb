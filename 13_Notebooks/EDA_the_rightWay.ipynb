{
 "cells": [
  {
   "cell_type": "code",
   "execution_count": 13,
   "metadata": {},
   "outputs": [],
   "source": [
    "import pandas as pd\n",
    "import numpy as np\n",
    "import matplotlib.pyplot as plt\n",
    "import seaborn as  sns\n",
    "\n",
    "# ttest\n",
    "from scipy.stats import ttest_1samp,ttest_ind\n",
    "from scipy.stats import mannwhitneyu"
   ]
  },
  {
   "cell_type": "code",
   "execution_count": 9,
   "metadata": {},
   "outputs": [
    {
     "name": "stdout",
     "output_type": "stream",
     "text": [
      "One sample t-test\n",
      " tstatistics:-2.791930833083929, P_value:0.01752590611238294\n",
      "we reject the null hypothesis\n"
     ]
    }
   ],
   "source": [
    "# Lets's Take an example of 12 persons whose energy intake in KJ in as below\n",
    "energy = np.array([5260,5470,5640,6180,6390,6515,6805,7515,7515,7610,8230,8770])\n",
    "\n",
    "# our population mean sumpposed to 7725. Let's calculate the sample mean for above\n",
    "energy.mean() #6825\n",
    "\n",
    "# applying one-sample t-test\n",
    "# Null hypothesis => mean energy intake is 7725\n",
    "# Alternative hypothesis => mean energy intake is naot equal to 7725\n",
    "t_statistics,p_value = ttest_1samp(energy,7725)\n",
    "print(\"One sample t-test\\n tstatistics:{}, P_value:{}\".format(t_statistics,p_value))\n",
    "\n",
    "if p_value<0.05:\n",
    "    print(\"we reject the null hypothesis\")\n",
    "else:\n",
    "    print(\"we fail to reject the null hypothesis\")"
   ]
  },
  {
   "cell_type": "code",
   "execution_count": 8,
   "metadata": {},
   "outputs": [
    {
     "name": "stdout",
     "output_type": "stream",
     "text": [
      "One sample t-test\n",
      " tstatistics:3.872200562257873, P_value:0.0008232715728032911\n",
      "we reject the null hypothesis\n"
     ]
    }
   ],
   "source": [
    "## two sample test\n",
    "# Let's have two groups of people with energy consumption in KJ\n",
    "# Test whether there is a significant differance between the samples or not\n",
    "group1 = np.array([9210,11510,12790,11850,9970,8790,9690,9680,9190,9970,8790,9690])\n",
    "group2 = np.array([7530,7480,8080,10150,8400,10880,6130,7900,7050,7480,7580,8110])\n",
    "\n",
    "# apply two sample test\n",
    "t_statistics,p_value= ttest_ind(group1,group2)\n",
    "print(\"One sample t-test\\n tstatistics:{}, P_value:{}\".format(t_statistics,p_value))\n",
    "\n",
    "if p_value<0.05: # 5% significance level\n",
    "    print(\"we reject the null hypothesis\")\n",
    "else:\n",
    "    print(\"we fail to reject the null hypothesis\")"
   ]
  },
  {
   "cell_type": "code",
   "execution_count": 12,
   "metadata": {},
   "outputs": [
    {
     "name": "stdout",
     "output_type": "stream",
     "text": [
      "One sample t-test\n",
      " tstatistics:-2.5067453605150822, P_value:0.0365558171939148\n",
      "we reject the null hypothesis\n"
     ]
    }
   ],
   "source": [
    "# paired test - same population but differant samples\n",
    "# let's check is there any effect of the weight loss program\n",
    "pre=np.array([92,67,78,81,69,87,96,87,100])\n",
    "post = np.array([88,68,80,77,66,70,88,79,98])\n",
    "\n",
    "# apply paired test\n",
    "t_statistics,p_value = ttest_1samp(post-pre,0)\n",
    "print(\"One sample t-test\\n tstatistics:{}, P_value:{}\".format(t_statistics,p_value))\n",
    "\n",
    "# null hypothesis => ther is no differance (not benefical program)\n",
    "# alternative hypothesis => there is differance (it benefaical the program)\n",
    "if p_value<0.05:\n",
    "    print(\"we reject the null hypothesis\")\n",
    "else:\n",
    "    print(\"we fail to reject the null hypothesis\")"
   ]
  },
  {
   "cell_type": "code",
   "execution_count": null,
   "metadata": {},
   "outputs": [],
   "source": [
    "# Annova (Analysis of Variance)=> to compare more than two means\n",
    "# assumption -> there is no significant differance between the variance of the groups/samples.\n",
    "\n",
    "# for comparing the variance we use fisher's test\n"
   ]
  },
  {
   "cell_type": "code",
   "execution_count": 15,
   "metadata": {},
   "outputs": [
    {
     "name": "stdout",
     "output_type": "stream",
     "text": [
      "two-sample wilcoxon-test p-value= 0.534965034965035\n"
     ]
    }
   ],
   "source": [
    "#Apply Mann-Whitney test to verify whether there is a significant difference \n",
    "# in income based on qualification \n",
    "grp_mba = ([4.5,6.5,3.98,4.2,5.3,4.25,5.4]) \n",
    "grp_ms = ([4.6,6.1,3.7,4.8,5.1,5.6,5.8]) \n",
    "# apply Mann Whitney U test / Wilcoxon test \n",
    "u, p_value = mannwhitneyu(grp_mba, grp_ms) \n",
    "print (\"two-sample wilcoxon-test p-value=\", p_value) # Output - # two-sample wilcoxon-test p-value= 0.26145161725633537"
   ]
  },
  {
   "cell_type": "code",
   "execution_count": null,
   "metadata": {},
   "outputs": [],
   "source": []
  },
  {
   "cell_type": "code",
   "execution_count": null,
   "metadata": {},
   "outputs": [],
   "source": []
  },
  {
   "cell_type": "code",
   "execution_count": null,
   "metadata": {},
   "outputs": [],
   "source": []
  }
 ],
 "metadata": {
  "interpreter": {
   "hash": "9a2c2ef81291e3e3a506884a4f5c29791a7523fb6a6b9fdd4fd3297ed79291df"
  },
  "kernelspec": {
   "display_name": "Python 3.9.7 64-bit ('tf-gpu': conda)",
   "language": "python",
   "name": "python3"
  },
  "language_info": {
   "codemirror_mode": {
    "name": "ipython",
    "version": 3
   },
   "file_extension": ".py",
   "mimetype": "text/x-python",
   "name": "python",
   "nbconvert_exporter": "python",
   "pygments_lexer": "ipython3",
   "version": "3.9.7"
  },
  "orig_nbformat": 4
 },
 "nbformat": 4,
 "nbformat_minor": 2
}
