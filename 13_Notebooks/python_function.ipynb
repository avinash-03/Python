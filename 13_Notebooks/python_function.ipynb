{
 "cells": [
  {
   "cell_type": "markdown",
   "metadata": {},
   "source": [
    "# <center>  Fucntion"
   ]
  },
  {
   "cell_type": "markdown",
   "metadata": {},
   "source": [
    "# 1. Fcunction\n",
    "- 1. In built function\n",
    "- 2. User defined functionm"
   ]
  },
  {
   "cell_type": "code",
   "execution_count": 1,
   "metadata": {},
   "outputs": [
    {
     "name": "stdout",
     "output_type": "stream",
     "text": [
      "the factorial of 1 is: 1\n",
      "the factorial of 2 is: 2\n",
      "the factorial of 3 is: 6\n",
      "the factorial of 4 is: 24\n",
      "the factorial of 5 is: 120\n"
     ]
    }
   ],
   "source": [
    "# write function to find factorial of given number:\n",
    "def fact(num):\n",
    "    result=1\n",
    "    while num>=1:\n",
    "        result=result*num\n",
    "        num=num-1\n",
    "    return result\n",
    "\n",
    "for i in range(1,6):\n",
    "    print(f\"the factorial of {i} is: {fact(i)}\")"
   ]
  },
  {
   "cell_type": "markdown",
   "metadata": {},
   "source": [
    "#### 1. type of agrument\n",
    "def f1(a,b):\n",
    "    pass    -> a,b = formal argument\n",
    "f1(10,20)           -> 10,20 = actual argument\n",
    "\n",
    "- 4 type of actual argument\n",
    "    1. positional arguments\n",
    "    2. keyword arguments\n",
    "    3. default arguments\n",
    "    4. Variable length arguments"
   ]
  },
  {
   "cell_type": "code",
   "execution_count": 2,
   "metadata": {},
   "outputs": [
    {
     "name": "stdout",
     "output_type": "stream",
     "text": [
      "40\n"
     ]
    }
   ],
   "source": [
    "# 1. Positional argument\n",
    "def sub(a,b):\n",
    "    return a-b\n",
    "\n",
    "# the number of argument and position of argument must be matched\n",
    "sub(100,50) # order must be same\n",
    "print(sub(b=10,a=50))"
   ]
  },
  {
   "cell_type": "code",
   "execution_count": 3,
   "metadata": {},
   "outputs": [
    {
     "name": "stdout",
     "output_type": "stream",
     "text": [
      "hello avi how are you?\n"
     ]
    }
   ],
   "source": [
    "# 2. keyword argument: pass argument values by keyword ie. by parameter name\n",
    "def wish(name,msg):  # order not imp but number of argument must be matched\n",
    "    print(\"hello\",name,msg)\n",
    "\n",
    "wish(name='avi',msg=\"how are you?\")"
   ]
  },
  {
   "cell_type": "markdown",
   "metadata": {},
   "source": [
    "+ ` take 1st postional argument and then keyword argumentm`"
   ]
  },
  {
   "cell_type": "code",
   "execution_count": 10,
   "metadata": {},
   "outputs": [
    {
     "name": "stdout",
     "output_type": "stream",
     "text": [
      "Hello guest good morning\n"
     ]
    }
   ],
   "source": [
    "# 3. Default Argument # sometime we  provide default values\n",
    "def wish(name=\"guest\"):\n",
    "    print(\"Hello\",name,\"good morning\")\n",
    "\n",
    "wish() # if not passing any value then default value take"
   ]
  },
  {
   "cell_type": "markdown",
   "metadata": {},
   "source": [
    "> ***Note:***\n",
    "After default arguments we should not take non default arguments                 \n",
    "def wish(name=\"Guest\",msg=\"Good Morning\"): ===>Valid            \n",
    "def wish(name,msg=\"Good Morning\"): ===>Valid           \n",
    "def wish(name=\"Guest\",msg): ==>Invalid"
   ]
  },
  {
   "cell_type": "code",
   "execution_count": 12,
   "metadata": {},
   "outputs": [
    {
     "name": "stdout",
     "output_type": "stream",
     "text": [
      "the sum = 0\n",
      "the sum = 10\n",
      "the sum = 60\n"
     ]
    }
   ],
   "source": [
    "# 4. Variable length argument:\n",
    "\"\"\" We can call this function by passing any number of arguments including zero number.\n",
    "Internally all these values represented in the form of tuple.\"\"\"\n",
    "\n",
    "def sum(*n):\n",
    "    total=0\n",
    "    for n1 in n:\n",
    "        total+=n1\n",
    "    print(\"the sum =\",total)\n",
    "\n",
    "(sum())\n",
    "(sum(10))\n",
    "(sum(10,20,30))"
   ]
  },
  {
   "cell_type": "markdown",
   "metadata": {},
   "source": [
    "> **Note:**\n",
    "We can mix variable length arguments with positional arguments."
   ]
  },
  {
   "cell_type": "code",
   "execution_count": 17,
   "metadata": {},
   "outputs": [
    {
     "name": "stdout",
     "output_type": "stream",
     "text": [
      "10\n",
      "10\n",
      "s: 20\n",
      "s: 30\n",
      "s: 40\n",
      "a\n",
      "s: a\n",
      "s: 30\n",
      "s: b\n"
     ]
    }
   ],
   "source": [
    "def f1(n1,*s):\n",
    "    print(n1)\n",
    "    for s1 in s:\n",
    "        print(\"s:\",s1)\n",
    "\n",
    "f1(10)\n",
    "f1(10,20,30,40)\n",
    "f1('a',\"a\",30,\"b\")"
   ]
  },
  {
   "cell_type": "markdown",
   "metadata": {},
   "source": [
    "> **Note:** After variable length argument,if we are taking any other arguments then we\n",
    "should provide values as keyword arguments."
   ]
  },
  {
   "cell_type": "code",
   "execution_count": 20,
   "metadata": {},
   "outputs": [
    {
     "name": "stdout",
     "output_type": "stream",
     "text": [
      "s: a\n",
      "s: b\n",
      "s: c\n",
      "10\n"
     ]
    }
   ],
   "source": [
    "def f1(*s,n1):\n",
    "    for s1 in s:\n",
    "        print(\"s:\",s1)\n",
    "    print(n1)\n",
    "\n",
    "f1(\"a\",\"b\",\"c\",n1=10)"
   ]
  },
  {
   "cell_type": "markdown",
   "metadata": {},
   "source": [
    "> **Note:** We can declare key word variable length arguments also.\n",
    "For this we have to use **."
   ]
  },
  {
   "cell_type": "code",
   "execution_count": 24,
   "metadata": {},
   "outputs": [
    {
     "name": "stdout",
     "output_type": "stream",
     "text": [
      "n1 = 10\n",
      "n2 = 20\n",
      "n3 = 30\n",
      "rno = 10\n",
      "name = avi\n",
      "marks = 40\n",
      "sub = python\n"
     ]
    }
   ],
   "source": [
    "def display(**kwargs):\n",
    "    for k,v in kwargs.items():\n",
    "        print(k,\"=\",v)\n",
    "\n",
    "display(n1=10,n2=20,n3=30)\n",
    "display(rno=10,name=\"avi\",marks=40,sub=\"python\")"
   ]
  },
  {
   "cell_type": "code",
   "execution_count": 26,
   "metadata": {},
   "outputs": [
    {
     "name": "stdout",
     "output_type": "stream",
     "text": [
      "3 2 4 8\n",
      "================================================================================\n",
      "10 20 30 40\n"
     ]
    }
   ],
   "source": [
    "# case study\n",
    "def f(arg1,arg2,arg3=4,arg4=8):\n",
    "    print(arg1,arg2,arg3,arg4)\n",
    "\n",
    "f(3,2)\n",
    "print(\"=\"*80)\n",
    "f(10,20,30,40)"
   ]
  },
  {
   "cell_type": "markdown",
   "metadata": {},
   "source": [
    "**Note: Function vs Module vs Library:**\n",
    "1. A group of lines with some name is called a function\n",
    "2. A group of functions saved to a file , is called Module\n",
    "3. A group of Modules is nothing but Library"
   ]
  },
  {
   "cell_type": "markdown",
   "metadata": {},
   "source": [
    "#### Type of variable\n",
    "1. Global Variable\n",
    "   - The variables which are declared outside of function are called global variables.\n",
    "   - These variables can be accessed in all functions of that module.\n",
    "2. Local Variable\n",
    "    - The variables which are declared inside a function are called local variables.\n",
    "    - Local variables are available only for the function in which we declared it.i.e from outside\n",
    "    of function we cannot access.    \n"
   ]
  },
  {
   "cell_type": "markdown",
   "metadata": {},
   "source": [
    "**global keyword:**\n",
    "We can use global keyword for the following 2 purposes:\n",
    "1. To declare global variable inside function\n",
    "2. To make global variable available to the function so that we can perform required\n",
    "modifications"
   ]
  },
  {
   "cell_type": "code",
   "execution_count": 31,
   "metadata": {},
   "outputs": [
    {
     "name": "stdout",
     "output_type": "stream",
     "text": [
      "777\n",
      "10\n"
     ]
    }
   ],
   "source": [
    "a= 10\n",
    "def f1():\n",
    "    a=777\n",
    "    print(a)\n",
    "def f2():\n",
    "    print(a)\n",
    "\n",
    "f1()\n",
    "f2()"
   ]
  },
  {
   "cell_type": "code",
   "execution_count": 32,
   "metadata": {},
   "outputs": [
    {
     "name": "stdout",
     "output_type": "stream",
     "text": [
      "777\n",
      "777\n"
     ]
    }
   ],
   "source": [
    "# global keyword\n",
    "a= 10\n",
    "def f1():\n",
    "    global a  # use for access the variable outside function\n",
    "    a=777\n",
    "    print(a)\n",
    "def f2():\n",
    "    print(a)\n",
    "\n",
    "f1()\n",
    "f2()"
   ]
  },
  {
   "cell_type": "code",
   "execution_count": 34,
   "metadata": {},
   "outputs": [
    {
     "name": "stdout",
     "output_type": "stream",
     "text": [
      "10\n"
     ]
    },
    {
     "ename": "NameError",
     "evalue": "name 'b' is not defined",
     "output_type": "error",
     "traceback": [
      "\u001b[1;31m---------------------------------------------------------------------------\u001b[0m",
      "\u001b[1;31mNameError\u001b[0m                                 Traceback (most recent call last)",
      "\u001b[1;32mC:\\Users\\AVINAS~1\\AppData\\Local\\Temp/ipykernel_16208/3713842331.py\u001b[0m in \u001b[0;36m<module>\u001b[1;34m\u001b[0m\n\u001b[0;32m      9\u001b[0m \u001b[1;33m\u001b[0m\u001b[0m\n\u001b[0;32m     10\u001b[0m \u001b[0mf1\u001b[0m\u001b[1;33m(\u001b[0m\u001b[1;33m)\u001b[0m\u001b[1;33m\u001b[0m\u001b[1;33m\u001b[0m\u001b[0m\n\u001b[1;32m---> 11\u001b[1;33m \u001b[0mf2\u001b[0m\u001b[1;33m(\u001b[0m\u001b[1;33m)\u001b[0m\u001b[1;33m\u001b[0m\u001b[1;33m\u001b[0m\u001b[0m\n\u001b[0m",
      "\u001b[1;32mC:\\Users\\AVINAS~1\\AppData\\Local\\Temp/ipykernel_16208/3713842331.py\u001b[0m in \u001b[0;36mf2\u001b[1;34m()\u001b[0m\n\u001b[0;32m      6\u001b[0m     \u001b[0mprint\u001b[0m\u001b[1;33m(\u001b[0m\u001b[0mb\u001b[0m\u001b[1;33m)\u001b[0m\u001b[1;33m\u001b[0m\u001b[1;33m\u001b[0m\u001b[0m\n\u001b[0;32m      7\u001b[0m \u001b[1;32mdef\u001b[0m \u001b[0mf2\u001b[0m\u001b[1;33m(\u001b[0m\u001b[1;33m)\u001b[0m\u001b[1;33m:\u001b[0m\u001b[1;33m\u001b[0m\u001b[1;33m\u001b[0m\u001b[0m\n\u001b[1;32m----> 8\u001b[1;33m     \u001b[0mprint\u001b[0m\u001b[1;33m(\u001b[0m\u001b[0mb\u001b[0m\u001b[1;33m)\u001b[0m\u001b[1;33m\u001b[0m\u001b[1;33m\u001b[0m\u001b[0m\n\u001b[0m\u001b[0;32m      9\u001b[0m \u001b[1;33m\u001b[0m\u001b[0m\n\u001b[0;32m     10\u001b[0m \u001b[0mf1\u001b[0m\u001b[1;33m(\u001b[0m\u001b[1;33m)\u001b[0m\u001b[1;33m\u001b[0m\u001b[1;33m\u001b[0m\u001b[0m\n",
      "\u001b[1;31mNameError\u001b[0m: name 'b' is not defined"
     ]
    }
   ],
   "source": [
    "# global keyword\n",
    "#a= 10\n",
    "def f1():\n",
    "      # use for access the variable outside function\n",
    "    b=10\n",
    "    print(b)\n",
    "def f2():\n",
    "    print(b)\n",
    "\n",
    "f1()\n",
    "f2()"
   ]
  },
  {
   "cell_type": "code",
   "execution_count": 35,
   "metadata": {},
   "outputs": [
    {
     "name": "stdout",
     "output_type": "stream",
     "text": [
      "10\n",
      "10\n"
     ]
    }
   ],
   "source": [
    "# global keyword\n",
    "#a= 10\n",
    "def f1():\n",
    "    global b  # use for access the variable outside function\n",
    "    b=10\n",
    "    print(b)\n",
    "def f2():\n",
    "    print(b)\n",
    "\n",
    "f1()\n",
    "f2()"
   ]
  },
  {
   "cell_type": "code",
   "execution_count": 1,
   "metadata": {},
   "outputs": [
    {
     "name": "stdout",
     "output_type": "stream",
     "text": [
      "777\n",
      "10\n"
     ]
    }
   ],
   "source": [
    "# if local variable and global variable have same name then we can acces\n",
    "a=10 # global variable\n",
    "def f1():\n",
    "    a=777 # Local variable\n",
    "    print(a)\n",
    "    print(globals()['a'])\n",
    "\n",
    "f1()"
   ]
  },
  {
   "cell_type": "markdown",
   "metadata": {},
   "source": [
    "#### Recursive Fucntion\n",
    "- A function that calls itself is known as Recursive Function.\n",
    "- The main advantages of recursive functions are:\n",
    "    1. We can reduce length of the code and improves readability\n",
    "    2. We can solve complex problems very easily."
   ]
  },
  {
   "cell_type": "code",
   "execution_count": 1,
   "metadata": {},
   "outputs": [
    {
     "data": {
      "text/plain": [
       "1"
      ]
     },
     "execution_count": 1,
     "metadata": {},
     "output_type": "execute_result"
    }
   ],
   "source": [
    "def factorial_num(n:int):\n",
    "    \"\"\"Return the factorial of given number\"\"\"\n",
    "    if n<=1:\n",
    "        return 1\n",
    "    return n* factorial_num(n-1)\n",
    "\n",
    "\n",
    "factorial_num(-5)\n",
    "    "
   ]
  },
  {
   "cell_type": "code",
   "execution_count": 1,
   "metadata": {},
   "outputs": [
    {
     "name": "stdout",
     "output_type": "stream",
     "text": [
      "Factorial of 4 is : 24\n",
      "Factorial of 5 is : 120\n"
     ]
    }
   ],
   "source": [
    "def factorial(n): # if we give -ve number then karnel dead\n",
    "    if n==0:\n",
    "        result=1\n",
    "    else:\n",
    "        result=n*factorial(n-1)\n",
    "    return result\n",
    "print(\"Factorial of 4 is :\",factorial(4))\n",
    "print(\"Factorial of 5 is :\",factorial(5))"
   ]
  },
  {
   "cell_type": "markdown",
   "metadata": {},
   "source": [
    "#### Anonymous Functions:\n",
    "- Sometimes we can declare a function without any name,such type of nameless functions\n",
    "are called anonymous functions or lambda functions.\n",
    "- The main purpose of anonymous function is just for instant use(i.e for one time usage)\n",
    "\n",
    "- lambda Function:\n",
    "    - We can define by using lambda keyword\n",
    "    - `lambda n:n*n`\n",
    "- Syntax of lambda Function:\n",
    "  - `lambda argument_list : expression`\n",
    "\n",
    "> `Note:` By using Lambda Functions we can write very concise code so that readability of\n",
    "the program will be improved."
   ]
  },
  {
   "cell_type": "code",
   "execution_count": 3,
   "metadata": {},
   "outputs": [
    {
     "data": {
      "text/plain": [
       "16"
      ]
     },
     "execution_count": 3,
     "metadata": {},
     "output_type": "execute_result"
    }
   ],
   "source": [
    "# function for squre of given numbr\n",
    "squre=lambda x:x*x\n",
    "squre(4)"
   ]
  },
  {
   "cell_type": "code",
   "execution_count": 5,
   "metadata": {},
   "outputs": [
    {
     "data": {
      "text/plain": [
       "7"
      ]
     },
     "execution_count": 5,
     "metadata": {},
     "output_type": "execute_result"
    }
   ],
   "source": [
    "# sum of 2 given number\n",
    "add=lambda x,y:x+y\n",
    "add(3,4)"
   ]
  },
  {
   "cell_type": "code",
   "execution_count": 6,
   "metadata": {},
   "outputs": [
    {
     "data": {
      "text/plain": [
       "8"
      ]
     },
     "execution_count": 6,
     "metadata": {},
     "output_type": "execute_result"
    }
   ],
   "source": [
    "# find biggest number of given values\n",
    "maximum = lambda a,b : a if a>b else b\n",
    "\n",
    "maximum(5,8)"
   ]
  },
  {
   "cell_type": "markdown",
   "metadata": {},
   "source": [
    ">**Note:**\n",
    "- Lambda Function internally returns expression value and we are not required to write return statement explicitly.   \n",
    ">**Note:** \n",
    "- Sometimes we can pass function as argument to another function. In such cases lambda functions are best choice.\n",
    " - We can use lambda functions very commonly with filter(),map() and reduce() functions,b'zthese functions expect function as argument."
   ]
  },
  {
   "cell_type": "code",
   "execution_count": 9,
   "metadata": {},
   "outputs": [
    {
     "name": "stdout",
     "output_type": "stream",
     "text": [
      "[0, 10, 20, 30]\n"
     ]
    }
   ],
   "source": [
    "# filter()\n",
    "\"\"\"We can use filter() function to filter values from the given sequence based on some\n",
    "condition.\"\"\"\n",
    "\n",
    "def is_even(x):\n",
    "    if x%2==0:\n",
    "        return True\n",
    "    else:\n",
    "        return False\n",
    "\n",
    "l=[0,5,10,15,20,30]\n",
    "l1=list(filter(is_even,l))\n",
    "print(l1)\n"
   ]
  },
  {
   "cell_type": "code",
   "execution_count": 11,
   "metadata": {},
   "outputs": [
    {
     "data": {
      "text/plain": [
       "[0, 10, 20, 30]"
      ]
     },
     "execution_count": 11,
     "metadata": {},
     "output_type": "execute_result"
    }
   ],
   "source": [
    " # with lambda function\n",
    " l1=list(filter(lambda x:x%2==0,l))\n",
    " l1"
   ]
  },
  {
   "cell_type": "markdown",
   "metadata": {},
   "source": [
    "#### map function\n",
    "\n",
    "- For every element present in the given sequence,apply some functionality and generate\n",
    "new element with the required modification. For this requirement we should go for\n",
    "map() function.\n",
    "- Eg: For every element present in the list perform double and generate new list of doubles.\n",
    "Syntax:\n",
    "- `map(function,sequence)`\n",
    "- The function can be applied on each element of sequence and generates new sequence.\n"
   ]
  },
  {
   "cell_type": "code",
   "execution_count": 13,
   "metadata": {},
   "outputs": [
    {
     "data": {
      "text/plain": [
       "[2, 4, 6, 8, 10]"
      ]
     },
     "execution_count": 13,
     "metadata": {},
     "output_type": "execute_result"
    }
   ],
   "source": [
    "# without lambda\n",
    "l=[1,2,3,4,5]\n",
    "def double(x):\n",
    "    return x*2\n",
    "\n",
    "l1=list(map(double,l))\n",
    "l1"
   ]
  },
  {
   "cell_type": "code",
   "execution_count": 14,
   "metadata": {},
   "outputs": [
    {
     "data": {
      "text/plain": [
       "[2, 4, 6, 8, 10]"
      ]
     },
     "execution_count": 14,
     "metadata": {},
     "output_type": "execute_result"
    }
   ],
   "source": [
    "# with lambda function\n",
    "l1=list(map(lambda x:x*2,l))\n",
    "l1"
   ]
  },
  {
   "cell_type": "code",
   "execution_count": 15,
   "metadata": {},
   "outputs": [
    {
     "data": {
      "text/plain": [
       "[5, 12, 21, 32]"
      ]
     },
     "execution_count": 15,
     "metadata": {},
     "output_type": "execute_result"
    }
   ],
   "source": [
    "# We can apply map() function on multiple lists also.But make sure all list should have same length.\n",
    "\"\"\"Syntax: map(lambda x,y:x*y,l1,l2))\n",
    "x is from l1 and y is from l2\"\"\"\n",
    "\n",
    "l1=[1,2,3,4]\n",
    "l2=[5,6,7,8]\n",
    "l3=list(map(lambda x,y:x*y,l1,l2))\n",
    "l3"
   ]
  },
  {
   "cell_type": "markdown",
   "metadata": {},
   "source": [
    "#### reduce() function:\n",
    "- reduce() function reduces sequence of elements into a single element by applying the\n",
    "specified function.\n",
    "- `reduce(function,sequence)`\n",
    "- reduce() function present in functools module and hence we should write import\n",
    "statement."
   ]
  },
  {
   "cell_type": "code",
   "execution_count": 16,
   "metadata": {},
   "outputs": [
    {
     "data": {
      "text/plain": [
       "150"
      ]
     },
     "execution_count": 16,
     "metadata": {},
     "output_type": "execute_result"
    }
   ],
   "source": [
    "from functools import  reduce\n",
    "l=[10,20,30,40,50]\n",
    "result=reduce(lambda x,y:x+y,l)\n",
    "result"
   ]
  },
  {
   "cell_type": "code",
   "execution_count": 18,
   "metadata": {},
   "outputs": [
    {
     "data": {
      "text/plain": [
       "30"
      ]
     },
     "execution_count": 18,
     "metadata": {},
     "output_type": "execute_result"
    }
   ],
   "source": [
    "reduce(lambda x,y:y-x,l)"
   ]
  },
  {
   "cell_type": "code",
   "execution_count": 21,
   "metadata": {},
   "outputs": [
    {
     "name": "stdout",
     "output_type": "stream",
     "text": [
      "outer function started\n",
      "outer function returning inner function\n",
      "inner function execution\n"
     ]
    }
   ],
   "source": [
    "def outer():\n",
    "    print(\"outer function started\")\n",
    "    def inner():\n",
    "        print(\"inner function execution\")\n",
    "    print(\"outer function returning inner function\")\n",
    "    return inner    \n",
    "\n",
    "f1=outer()\n",
    "f1()"
   ]
  },
  {
   "cell_type": "code",
   "execution_count": 22,
   "metadata": {},
   "outputs": [
    {
     "name": "stdout",
     "output_type": "stream",
     "text": [
      "inner function execution\n"
     ]
    }
   ],
   "source": [
    "f1()"
   ]
  },
  {
   "cell_type": "code",
   "execution_count": 24,
   "metadata": {},
   "outputs": [
    {
     "name": "stdout",
     "output_type": "stream",
     "text": [
      "outer function started\n",
      "outer function returning inner function\n"
     ]
    }
   ],
   "source": [
    "f2=outer()"
   ]
  },
  {
   "cell_type": "code",
   "execution_count": 26,
   "metadata": {},
   "outputs": [
    {
     "name": "stdout",
     "output_type": "stream",
     "text": [
      "inner function execution\n"
     ]
    }
   ],
   "source": [
    "f2()"
   ]
  },
  {
   "cell_type": "code",
   "execution_count": 27,
   "metadata": {},
   "outputs": [
    {
     "name": "stdout",
     "output_type": "stream",
     "text": [
      "outer function started\n",
      "outer function returning inner function\n"
     ]
    },
    {
     "data": {
      "text/plain": [
       "<function __main__.outer.<locals>.inner()>"
      ]
     },
     "execution_count": 27,
     "metadata": {},
     "output_type": "execute_result"
    }
   ],
   "source": [
    "outer()"
   ]
  },
  {
   "cell_type": "markdown",
   "metadata": {},
   "source": [
    "#### Function Decorators\n",
    "- Decorator is a function which can take a function as argument and extend its functionality\n",
    "and returns modified function with extended functionality.\n",
    "- The main objective of decorator functions is we can extend the functionality of existing\n",
    "functions without modifies that function."
   ]
  },
  {
   "cell_type": "code",
   "execution_count": 29,
   "metadata": {},
   "outputs": [
    {
     "name": "stdout",
     "output_type": "stream",
     "text": [
      "hello avi Good morning\n",
      "hello akash Good morning\n",
      "hellw sunny Bad Morning\n"
     ]
    }
   ],
   "source": [
    "def wish(name):\n",
    "    print(\"hello\",name,\"Good morning\")\n",
    "\n",
    "def decor(func):\n",
    "    def inner(name):\n",
    "        if name==\"sunny\":\n",
    "            print(\"hellw sunny Bad Morning\")\n",
    "        else:\n",
    "            func(name)\n",
    "    return inner\n",
    "@decor\n",
    "def wish(name):\n",
    "    print(\"hello\",name,\"Good morning\")\n",
    "\n",
    "\n",
    "wish(\"avi\")\n",
    "wish(\"akash\")\n",
    "wish(\"sunny\")"
   ]
  },
  {
   "cell_type": "code",
   "execution_count": 31,
   "metadata": {},
   "outputs": [
    {
     "name": "stdout",
     "output_type": "stream",
     "text": [
      "hello avi Good morning\n",
      "hello akash Good morning\n",
      "hello sunny Good morning\n",
      "hello avi Good morning\n",
      "hello akash Good morning\n",
      "hellw sunny Bad Morning\n"
     ]
    }
   ],
   "source": [
    "def decor(func):\n",
    "    def inner(name):\n",
    "        if name==\"sunny\":\n",
    "            print(\"hellw sunny Bad Morning\")\n",
    "        else:\n",
    "            func(name)\n",
    "    return inner\n",
    "\n",
    "def wish(name):\n",
    "    print(\"hello\",name,\"Good morning\")\n",
    "\n",
    "decorwish=decor(wish)\n",
    "\n",
    "# without decor\n",
    "wish(\"avi\")\n",
    "wish(\"akash\")\n",
    "wish(\"sunny\")\n",
    "\n",
    "# with decor\n",
    "decorwish('avi')\n",
    "decorwish('akash')\n",
    "decorwish('sunny')\n",
    "\n",
    "\n"
   ]
  },
  {
   "cell_type": "markdown",
   "metadata": {},
   "source": [
    "#### Generator\n"
   ]
  },
  {
   "cell_type": "markdown",
   "metadata": {},
   "source": [
    "Generators\n",
    "- Generator is a function which is responsible to generate a sequence of values.\n",
    "We can write generator functions just like ordinary functions, but it uses yield keyword to\n",
    "return values."
   ]
  },
  {
   "cell_type": "code",
   "execution_count": 1,
   "metadata": {},
   "outputs": [],
   "source": [
    "def mygen():\n",
    "    yield \"A\"\n",
    "    yield \"b\"\n",
    "    yield \"c\""
   ]
  },
  {
   "cell_type": "code",
   "execution_count": 2,
   "metadata": {},
   "outputs": [
    {
     "name": "stdout",
     "output_type": "stream",
     "text": [
      "<class 'generator'>\n"
     ]
    }
   ],
   "source": [
    "g=mygen()\n",
    "print(type(g))"
   ]
  },
  {
   "cell_type": "code",
   "execution_count": 4,
   "metadata": {},
   "outputs": [
    {
     "data": {
      "text/plain": [
       "'A'"
      ]
     },
     "execution_count": 4,
     "metadata": {},
     "output_type": "execute_result"
    }
   ],
   "source": [
    "next(g)"
   ]
  },
  {
   "cell_type": "code",
   "execution_count": 5,
   "metadata": {},
   "outputs": [
    {
     "data": {
      "text/plain": [
       "'b'"
      ]
     },
     "execution_count": 5,
     "metadata": {},
     "output_type": "execute_result"
    }
   ],
   "source": [
    "next(g)"
   ]
  },
  {
   "cell_type": "code",
   "execution_count": 6,
   "metadata": {},
   "outputs": [
    {
     "data": {
      "text/plain": [
       "'c'"
      ]
     },
     "execution_count": 6,
     "metadata": {},
     "output_type": "execute_result"
    }
   ],
   "source": [
    "next(g)"
   ]
  },
  {
   "cell_type": "code",
   "execution_count": 7,
   "metadata": {},
   "outputs": [
    {
     "ename": "StopIteration",
     "evalue": "",
     "output_type": "error",
     "traceback": [
      "\u001b[1;31m---------------------------------------------------------------------------\u001b[0m",
      "\u001b[1;31mStopIteration\u001b[0m                             Traceback (most recent call last)",
      "\u001b[1;32mC:\\Users\\AVINAS~1\\AppData\\Local\\Temp/ipykernel_12280/4253931490.py\u001b[0m in \u001b[0;36m<module>\u001b[1;34m\u001b[0m\n\u001b[1;32m----> 1\u001b[1;33m \u001b[0mnext\u001b[0m\u001b[1;33m(\u001b[0m\u001b[0mg\u001b[0m\u001b[1;33m)\u001b[0m\u001b[1;33m\u001b[0m\u001b[1;33m\u001b[0m\u001b[0m\n\u001b[0m",
      "\u001b[1;31mStopIteration\u001b[0m: "
     ]
    }
   ],
   "source": [
    "next(g)"
   ]
  },
  {
   "cell_type": "code",
   "execution_count": 8,
   "metadata": {},
   "outputs": [
    {
     "name": "stdout",
     "output_type": "stream",
     "text": [
      "1\n",
      "2\n",
      "3\n",
      "4\n",
      "5\n"
     ]
    }
   ],
   "source": [
    "def firstn(num):\n",
    "    n=1\n",
    "    while n<=num:\n",
    "        yield n\n",
    "        n=n+1\n",
    "\n",
    "    \n",
    "values=firstn(5)\n",
    "for x in values:\n",
    "    print(x)\n"
   ]
  },
  {
   "cell_type": "code",
   "execution_count": 9,
   "metadata": {},
   "outputs": [
    {
     "data": {
      "text/plain": [
       "[1, 2, 3, 4, 5, 6, 7, 8, 9, 10]"
      ]
     },
     "execution_count": 9,
     "metadata": {},
     "output_type": "execute_result"
    }
   ],
   "source": [
    "values=firstn(10)\n",
    "list(values)"
   ]
  },
  {
   "cell_type": "code",
   "execution_count": 10,
   "metadata": {},
   "outputs": [
    {
     "data": {
      "text/plain": [
       "'1.0.1'"
      ]
     },
     "execution_count": 10,
     "metadata": {},
     "output_type": "execute_result"
    }
   ],
   "source": [
    "import sklearn as sk\n",
    "sk.__version__"
   ]
  },
  {
   "cell_type": "code",
   "execution_count": 12,
   "metadata": {},
   "outputs": [
    {
     "name": "stdout",
     "output_type": "stream",
     "text": [
      "['__SKLEARN_SETUP__', '__all__', '__builtins__', '__cached__', '__check_build', '__doc__', '__file__', '__loader__', '__name__', '__package__', '__path__', '__spec__', '__version__', '_config', '_distributor_init', 'base', 'clone', 'config_context', 'exceptions', 'externals', 'get_config', 'logger', 'logging', 'os', 'random', 'set_config', 'setup_module', 'show_versions', 'sys', 'utils']\n"
     ]
    }
   ],
   "source": [
    "print(dir(sk))"
   ]
  },
  {
   "cell_type": "code",
   "execution_count": null,
   "metadata": {},
   "outputs": [],
   "source": [
    "# 11."
   ]
  },
  {
   "cell_type": "code",
   "execution_count": 3,
   "metadata": {},
   "outputs": [
    {
     "data": {
      "text/plain": [
       "True"
      ]
     },
     "execution_count": 3,
     "metadata": {},
     "output_type": "execute_result"
    }
   ],
   "source": [
    "False == False in [False]"
   ]
  },
  {
   "cell_type": "code",
   "execution_count": 19,
   "metadata": {},
   "outputs": [
    {
     "data": {
      "text/plain": [
       "True"
      ]
     },
     "execution_count": 19,
     "metadata": {},
     "output_type": "execute_result"
    }
   ],
   "source": [
    "True == True in [True]"
   ]
  },
  {
   "cell_type": "code",
   "execution_count": null,
   "metadata": {},
   "outputs": [],
   "source": []
  },
  {
   "cell_type": "code",
   "execution_count": 17,
   "metadata": {},
   "outputs": [
    {
     "data": {
      "text/plain": [
       "True"
      ]
     },
     "execution_count": 17,
     "metadata": {},
     "output_type": "execute_result"
    }
   ],
   "source": [
    "False in [False]"
   ]
  },
  {
   "cell_type": "code",
   "execution_count": 20,
   "metadata": {},
   "outputs": [
    {
     "data": {
      "text/plain": [
       "True"
      ]
     },
     "execution_count": 20,
     "metadata": {},
     "output_type": "execute_result"
    }
   ],
   "source": [
    "'avi' in ['avi']"
   ]
  },
  {
   "cell_type": "code",
   "execution_count": 21,
   "metadata": {},
   "outputs": [
    {
     "data": {
      "text/plain": [
       "False"
      ]
     },
     "execution_count": 21,
     "metadata": {},
     "output_type": "execute_result"
    }
   ],
   "source": [
    "False ==True"
   ]
  },
  {
   "cell_type": "code",
   "execution_count": null,
   "metadata": {},
   "outputs": [],
   "source": []
  }
 ],
 "metadata": {
  "interpreter": {
   "hash": "9a2c2ef81291e3e3a506884a4f5c29791a7523fb6a6b9fdd4fd3297ed79291df"
  },
  "kernelspec": {
   "display_name": "Python 3.9.7 64-bit ('tf-gpu': conda)",
   "language": "python",
   "name": "python3"
  },
  "language_info": {
   "codemirror_mode": {
    "name": "ipython",
    "version": 3
   },
   "file_extension": ".py",
   "mimetype": "text/x-python",
   "name": "python",
   "nbconvert_exporter": "python",
   "pygments_lexer": "ipython3",
   "version": "3.9.1"
  },
  "orig_nbformat": 4
 },
 "nbformat": 4,
 "nbformat_minor": 2
}
