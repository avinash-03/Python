{
 "cells": [
  {
   "cell_type": "markdown",
   "metadata": {},
   "source": [
    "## Accessor and mutator method in class\n",
    "- overloading"
   ]
  },
  {
   "cell_type": "code",
   "execution_count": 1,
   "metadata": {},
   "outputs": [],
   "source": [
    "# create dog class which take name and birhday, speaking words\n",
    "class Dog:\n",
    "      # This is the constructor for the class. It is called whenever a Dog\n",
    "      # object is created. The reference called \"self\" is created by Python\n",
    "      # and made to point to the space for the newly created object. Python\n",
    "      # does this automatically for us but we have to have \"self\" as the first\n",
    "      # parameter to the __init__ method (i.e. the constructor).\n",
    "    def __init__(self,name,day,month,year,word):\n",
    "        self.name = name \n",
    "        self.day = day \n",
    "        self.month = month \n",
    "        self.year = year \n",
    "        self.word = word \n",
    "\n",
    "    # This is an accessor method that returns the speakText stored in the\n",
    "    # object. Notice that \"self\" is a parameter. Every method has \"self\" as its\n",
    "    # first parameter. The \"self\" parameter is a reference to the current\n",
    "    # object. The current object appears on the left hand side of the dot (i.e.\n",
    "    # the .) when the method is called.\n",
    "\n",
    "    # here accesser method which return name\n",
    "    def get_name(self):\n",
    "        return self.name\n",
    "    \n",
    "    def speak(self):\n",
    "        return self.word \n",
    "    \n",
    "    def change_talk(self,text):\n",
    "        self.word = text \n",
    "    \n",
    "    def birth_day(self):\n",
    "        return str(self.day) + \"/\" + str(self.month) +\"/\"+ str(self.year)\n",
    "\n",
    "    # When creating the new puppy we don’t know it’s birthday. Pick the\n",
    "    # first dog’s birthday plus one year. The speakText will be the\n",
    "    # concatenation of both dog’s text. The dog on the left side of the +\n",
    "    # operator is the object referenced by the \"self\" parameter. The\n",
    "    # \"otherDog\" parameter is the dog on the right side of the + operator.\n",
    "\n",
    "    def __add__(self,otherDog): # overloading\n",
    "         return Dog(\"Puppy of \" + self.name + \" and \" + otherDog.name, \\\n",
    "            self.month, self.day, self.year + 1, \\\n",
    "            self.word + otherDog.word)\n",
    "\n"
   ]
  },
  {
   "cell_type": "code",
   "execution_count": null,
   "metadata": {},
   "outputs": [],
   "source": []
  },
  {
   "cell_type": "code",
   "execution_count": 26,
   "metadata": {},
   "outputs": [],
   "source": [
    "Boydog = Dog('raja',23,8,2013,'hello I am raja')\n",
    "girl_dog = Dog('rozy',12,12,2012,'helo I am rozi')\n"
   ]
  },
  {
   "cell_type": "code",
   "execution_count": 27,
   "metadata": {},
   "outputs": [],
   "source": [
    "puppy = Boydog + girl_dog"
   ]
  },
  {
   "cell_type": "code",
   "execution_count": 33,
   "metadata": {},
   "outputs": [
    {
     "data": {
      "text/plain": [
       "'hello I am rajahelo I am rozi'"
      ]
     },
     "execution_count": 33,
     "metadata": {},
     "output_type": "execute_result"
    }
   ],
   "source": []
  },
  {
   "cell_type": "code",
   "execution_count": 23,
   "metadata": {},
   "outputs": [
    {
     "data": {
      "text/plain": [
       "<__main__.Dog at 0x199db990ca0>"
      ]
     },
     "execution_count": 23,
     "metadata": {},
     "output_type": "execute_result"
    }
   ],
   "source": [
    "Boydog.__add__(girl_dog)"
   ]
  },
  {
   "cell_type": "code",
   "execution_count": 36,
   "metadata": {},
   "outputs": [
    {
     "name": "stdout",
     "output_type": "stream",
     "text": [
      "woof\n",
      "barbark\n",
      "15/5/2004\n",
      "6/5/2004\n",
      "woofbarbark\n",
      "Puppy of mesa and squal\n",
      "15/5/2005\n"
     ]
    }
   ],
   "source": [
    "class Dog:\n",
    "    def __init__(self, name, month, day, year, speakText):\n",
    "        self.name = name\n",
    "        self.month = month\n",
    "        self.day = day\n",
    "        self.year = year\n",
    "        self.speakText = speakText\n",
    "\n",
    "    def speak(self):\n",
    "        return self.speakText\n",
    "    \n",
    "    def get_name(self):\n",
    "        return self.name \n",
    "\n",
    "    def birth_date(self):\n",
    "        return str(self.day) + \"/\"+ str(self.month) + \"/\"+ str(self.year)\n",
    "\n",
    "\n",
    "    def change_bark(self,text):\n",
    "        self.speakText = text \n",
    "\n",
    "    \n",
    "    def __add__(self,otherDog):\n",
    "        return Dog(\"Puppy of \" + self.name + \" and \" + otherDog.name, \\\n",
    "        self.month, self.day, self.year + 1, \\\n",
    "        self.speakText + otherDog.speakText)\n",
    "\n",
    "def main():\n",
    "    boydog = Dog(\"mesa\",5,15,2004,'woof')\n",
    "    girldog = Dog('squal',5,6,2004,'barbark')\n",
    "    print(boydog.speak())\n",
    "    print(girldog.speak())\n",
    "    print(boydog.birth_date())\n",
    "    print(girldog.birth_date())\n",
    "    puppy1 = boydog + girldog \n",
    "    print(puppy1.speak())\n",
    "    print(puppy1.get_name())\n",
    "    print(puppy1.birth_date())\n",
    "\n",
    "if __name__ == \"__main__\":\n",
    "    main()        \n",
    "\n"
   ]
  },
  {
   "cell_type": "code",
   "execution_count": 25,
   "metadata": {},
   "outputs": [],
   "source": [
    "boy = Dog('raja',12,1,2021,'hskeldh')\n",
    "girl = Dog('rani',4,5,2022,'kddkkd')"
   ]
  },
  {
   "cell_type": "code",
   "execution_count": 49,
   "metadata": {},
   "outputs": [],
   "source": [
    "pupy = boy + girl"
   ]
  },
  {
   "cell_type": "markdown",
   "metadata": {},
   "source": [
    "## turtle"
   ]
  },
  {
   "cell_type": "code",
   "execution_count": 1,
   "metadata": {},
   "outputs": [
    {
     "name": "stdout",
     "output_type": "stream",
     "text": [
      "Programe Execution Completed\n"
     ]
    }
   ],
   "source": [
    "import turtle\n",
    "\n",
    "def main():\n",
    "    #filename = input(\"please enter drawing filename\")\n",
    "    filename = 'turtle.txt'\n",
    "    \n",
    "    # create a turtle graphics window to draw in.\n",
    "    t = turtle.Turtle()\n",
    "    # screen used at the end of programme\n",
    "    screen = t.getscreen()\n",
    "\n",
    "    # open file in 'r' or reading.'w' for writing\n",
    "    file = open(filename,'r')\n",
    "\n",
    "    # for loops read file line one at a time\n",
    "    for line in file:\n",
    "        # strip method strips off the newline characgter\n",
    "        text = line.strip()\n",
    "        # splitting text\n",
    "        commandlist = text.split(',')\n",
    "        # get the drawing command\n",
    "        command = commandlist[0]\n",
    "\n",
    "        if command == 'goto':\n",
    "            # writing float(commandlist)\n",
    "            x = float(commandlist[1])\n",
    "            y = float(commandlist[2])\n",
    "            width = float(commandlist[3])\n",
    "            color = commandlist[4].strip()\n",
    "            t.width(width)\n",
    "            t.pencolor(color)\n",
    "            t.goto(x,y)\n",
    "        elif command=='circle':\n",
    "            radius = float(commandlist[1])\n",
    "            width = float(commandlist[2])\n",
    "            color = commandlist[3].strip()\n",
    "            t.width(width)\n",
    "            t.pencolor(color)\n",
    "            t.circle(radius)\n",
    "        elif command=='beginfill':\n",
    "            color = commandlist[1].strip()\n",
    "            t.fillcolor(color)\n",
    "            t.begin_fill()\n",
    "        elif command=='endfill':\n",
    "            t.end_fill()\n",
    "        elif command=='penup':\n",
    "            t.penup()\n",
    "        elif command=='pendown':\n",
    "            t.pendown()\n",
    "        else:\n",
    "            print(\"Unknown command found in file:,\",command)\n",
    "        # close the file\n",
    "    file.close()\n",
    "    # hide the turtle that we used to draw the picture\n",
    "    t.ht()\n",
    "    screen.exitonclick()\n",
    "    print('Programe Execution Completed')\n",
    "\n",
    "# this code calls the main function to get everything strted\n",
    "if __name__ == \"__main__\":\n",
    "    main()"
   ]
  },
  {
   "cell_type": "code",
   "execution_count": 4,
   "metadata": {},
   "outputs": [
    {
     "name": "stdout",
     "output_type": "stream",
     "text": [
      "1.16 µs ± 36.2 ns per loop (mean ± std. dev. of 7 runs, 1000000 loops each)\n"
     ]
    }
   ],
   "source": [
    "%%timeit\n",
    "## Define the main function for sum of n number\n",
    "def sum_of_n(n):\n",
    "    if n == 1:\n",
    "        return 1\n",
    "    else:\n",
    "        return n + sum_of_n(n-1)\n",
    "\n",
    "sum_of_n(10)"
   ]
  },
  {
   "cell_type": "code",
   "execution_count": 5,
   "metadata": {},
   "outputs": [
    {
     "name": "stdout",
     "output_type": "stream",
     "text": [
      "173 ns ± 2.63 ns per loop (mean ± std. dev. of 7 runs, 10000000 loops each)\n"
     ]
    }
   ],
   "source": [
    "%%timeit \n",
    "def sum_of_n(n):\n",
    "    return n*(n+1)/2\n",
    "    \n",
    "sum_of_n(10)"
   ]
  },
  {
   "cell_type": "code",
   "execution_count": null,
   "metadata": {},
   "outputs": [],
   "source": []
  }
 ],
 "metadata": {
  "interpreter": {
   "hash": "b3ba2566441a7c06988d0923437866b63cedc61552a5af99d1f4fb67d367b25f"
  },
  "kernelspec": {
   "display_name": "Python 3.8.5 ('base')",
   "language": "python",
   "name": "python3"
  },
  "language_info": {
   "codemirror_mode": {
    "name": "ipython",
    "version": 3
   },
   "file_extension": ".py",
   "mimetype": "text/x-python",
   "name": "python",
   "nbconvert_exporter": "python",
   "pygments_lexer": "ipython3",
   "version": "3.9.1"
  },
  "orig_nbformat": 4
 },
 "nbformat": 4,
 "nbformat_minor": 2
}
